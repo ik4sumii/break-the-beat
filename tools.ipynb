{
 "cells": [
  {
   "cell_type": "code",
   "execution_count": 1,
   "id": "dd443640",
   "metadata": {},
   "outputs": [
    {
     "name": "stderr",
     "output_type": "stream",
     "text": [
      "/usr/local/lib/python3.10/dist-packages/pydub/utils.py:170: RuntimeWarning: Couldn't find ffmpeg or avconv - defaulting to ffmpeg, but may not work\n",
      "  warn(\"Couldn't find ffmpeg or avconv - defaulting to ffmpeg, but may not work\", RuntimeWarning)\n"
     ]
    },
    {
     "name": "stdout",
     "output_type": "stream",
     "text": [
      "正在处理WAV文件...\n"
     ]
    },
    {
     "name": "stderr",
     "output_type": "stream",
     "text": [
      "0it [00:00, ?it/s]\n",
      "  3%|▎         | 3/109 [00:02<01:01,  1.73it/s]"
     ]
    },
    {
     "name": "stdout",
     "output_type": "stream",
     "text": [
      "处理 drummer1_session1_157_latin-brazilian-baiao_95_fill_4-4_4-fake.wav 时出错: [Errno 2] No such file or directory: 'ffmpeg'\n",
      "处理 drummer1_session1_17_jazz-funk_116_fill_4-4_43.wav 时出错: [Errno 2] No such file or directory: 'ffmpeg'\n",
      "处理 drummer7_session2_70_rock_145_fill_4-4_55-fake.wav 时出错: [Errno 2] No such file or directory: 'ffmpeg'\n"
     ]
    },
    {
     "name": "stderr",
     "output_type": "stream",
     "text": [
      "  6%|▋         | 7/109 [00:02<00:21,  4.82it/s]"
     ]
    },
    {
     "name": "stdout",
     "output_type": "stream",
     "text": [
      "处理 drummer1_session1_17_jazz-funk_116_fill_4-4_4.wav 时出错: [Errno 2] No such file or directory: 'ffmpeg'\n",
      "处理 drummer1_session1_203_rock-halftime_140_fill_4-4_4.wav 时出错: [Errno 2] No such file or directory: 'ffmpeg'\n",
      "处理 drummer7_session2_14_rock_95_beat_4-4_34.wav 时出错: [Errno 2] No such file or directory: 'ffmpeg'\n",
      "处理 drummer1_session1_140_funk-fast_125_fill_4-4_55.wav 时出错: [Errno 2] No such file or directory: 'ffmpeg'\n"
     ]
    },
    {
     "name": "stderr",
     "output_type": "stream",
     "text": [
      "  8%|▊         | 9/109 [00:02<00:15,  6.48it/s]"
     ]
    },
    {
     "name": "stdout",
     "output_type": "stream",
     "text": [
      "处理 drummer7_session2_16_rock_118_fill_4-4_37-fake.wav 时出错: [Errno 2] No such file or directory: 'ffmpeg'\n",
      "处理 drummer7_session3_88_neworleans-funk_93_fill_4-4_43-fake.wav 时出错: [Errno 2] No such file or directory: 'ffmpeg'\n",
      "处理 drummer1_session1_38_latin-samba_116_beat_4-4_37.wav 时出错: [Errno 2] No such file or directory: 'ffmpeg'\n"
     ]
    },
    {
     "name": "stderr",
     "output_type": "stream",
     "text": [
      " 12%|█▏        | 13/109 [00:02<00:10,  9.47it/s]"
     ]
    },
    {
     "name": "stdout",
     "output_type": "stream",
     "text": [
      "处理 drummer1_session1_157_latin-brazilian-baiao_95_fill_4-4_55-fake.wav 时出错: [Errno 2] No such file or directory: 'ffmpeg'\n",
      "处理 drummer7_session2_120_jazz-fusion_96_fill_4-4_55-fake.wav 时出错: [Errno 2] No such file or directory: 'ffmpeg'\n",
      "处理 drummer3_session1_7_rock_105_beat_4-4_55-fake.wav 时出错: [Errno 2] No such file or directory: 'ffmpeg'\n",
      "处理 drummer7_session2_16_rock_118_fill_4-4_43-fake.wav 时出错: [Errno 2] No such file or directory: 'ffmpeg'\n"
     ]
    },
    {
     "name": "stderr",
     "output_type": "stream",
     "text": [
      " 16%|█▌        | 17/109 [00:03<00:07, 12.84it/s]"
     ]
    },
    {
     "name": "stdout",
     "output_type": "stream",
     "text": [
      "处理 drummer1_session1_157_latin-brazilian-baiao_95_fill_4-4_43-fake.wav 时出错: [Errno 2] No such file or directory: 'ffmpeg'\n",
      "处理 drummer1_session2_62_punk_144_beat_4-4_43-fake.wav 时出错: [Errno 2] No such file or directory: 'ffmpeg'\n",
      "处理 drummer1_session2_142_gospel_120_beat_4-4_37-fake.wav 时出错: [Errno 2] No such file or directory: 'ffmpeg'\n",
      "处理 drummer1_session1_121_funk_95_fill_4-4_4.wav 时出错: [Errno 2] No such file or directory: 'ffmpeg'\n"
     ]
    },
    {
     "name": "stderr",
     "output_type": "stream",
     "text": [
      " 19%|█▉        | 21/109 [00:03<00:06, 14.51it/s]"
     ]
    },
    {
     "name": "stdout",
     "output_type": "stream",
     "text": [
      "处理 drummer1_session2_142_gospel_120_beat_4-4_43-fake.wav 时出错: [Errno 2] No such file or directory: 'ffmpeg'\n",
      "处理 drummer1_session2_38_punk_128_fill_4-4_37.wav 时出错: [Errno 2] No such file or directory: 'ffmpeg'\n",
      "处理 drummer7_session2_16_rock_118_fill_4-4_4-fake.wav 时出错: [Errno 2] No such file or directory: 'ffmpeg'\n",
      "处理 drummer1_session1_121_funk_95_fill_4-4_55.wav 时出错: [Errno 2] No such file or directory: 'ffmpeg'\n"
     ]
    },
    {
     "name": "stderr",
     "output_type": "stream",
     "text": [
      " 23%|██▎       | 25/109 [00:03<00:05, 15.64it/s]"
     ]
    },
    {
     "name": "stdout",
     "output_type": "stream",
     "text": [
      "处理 drummer1_session1_203_rock-halftime_140_fill_4-4_43.wav 时出错: [Errno 2] No such file or directory: 'ffmpeg'\n",
      "处理 drummer1_session1_261_funk-purdieshuffle_130_fill_4-4_4.wav 时出错: [Errno 2] No such file or directory: 'ffmpeg'\n",
      "处理 drummer1_session1_17_jazz-funk_116_fill_4-4_37.wav 时出错: [Errno 2] No such file or directory: 'ffmpeg'\n",
      "处理 drummer3_session1_7_rock_105_beat_4-4_43-fake.wav 时出错: [Errno 2] No such file or directory: 'ffmpeg'\n"
     ]
    },
    {
     "name": "stderr",
     "output_type": "stream",
     "text": [
      " 27%|██▋       | 29/109 [00:03<00:04, 16.55it/s]"
     ]
    },
    {
     "name": "stdout",
     "output_type": "stream",
     "text": [
      "处理 drummer1_session3_15_funk_117_beat_4-4_4-fake.wav 时出错: [Errno 2] No such file or directory: 'ffmpeg'\n",
      "处理 drummer1_session1_140_funk-fast_125_fill_4-4_37.wav 时出错: [Errno 2] No such file or directory: 'ffmpeg'\n",
      "处理 drummer1_session2_38_punk_128_fill_4-4_34.wav 时出错: [Errno 2] No such file or directory: 'ffmpeg'\n",
      "处理 drummer1_session2_62_punk_144_beat_4-4_37-fake.wav 时出错: [Errno 2] No such file or directory: 'ffmpeg'\n"
     ]
    },
    {
     "name": "stderr",
     "output_type": "stream",
     "text": [
      " 30%|███       | 33/109 [00:04<00:04, 15.99it/s]"
     ]
    },
    {
     "name": "stdout",
     "output_type": "stream",
     "text": [
      "处理 drummer7_session2_14_rock_95_beat_4-4_55.wav 时出错: [Errno 2] No such file or directory: 'ffmpeg'\n",
      "处理 drummer1_session3_15_funk_117_beat_4-4_55-fake.wav 时出错: [Errno 2] No such file or directory: 'ffmpeg'\n",
      "处理 drummer7_session1_2_rock_86_fill_4-4_34.wav 时出错: [Errno 2] No such file or directory: 'ffmpeg'\n",
      "处理 drummer7_session2_16_rock_118_fill_4-4_34-fake.wav 时出错: [Errno 2] No such file or directory: 'ffmpeg'\n"
     ]
    },
    {
     "name": "stderr",
     "output_type": "stream",
     "text": [
      " 34%|███▍      | 37/109 [00:04<00:04, 15.62it/s]"
     ]
    },
    {
     "name": "stdout",
     "output_type": "stream",
     "text": [
      "处理 drummer7_session3_88_neworleans-funk_93_fill_4-4_37-fake.wav 时出错: [Errno 2] No such file or directory: 'ffmpeg'\n",
      "处理 drummer1_session2_142_gospel_120_beat_4-4_55-fake.wav 时出错: [Errno 2] No such file or directory: 'ffmpeg'\n",
      "处理 drummer1_session2_100_funk-rock_92_fill_4-4_34.wav 时出错: [Errno 2] No such file or directory: 'ffmpeg'\n",
      "处理 drummer1_session1_17_jazz-funk_116_fill_4-4_55.wav 时出错: [Errno 2] No such file or directory: 'ffmpeg'\n"
     ]
    },
    {
     "name": "stderr",
     "output_type": "stream",
     "text": [
      " 38%|███▊      | 41/109 [00:04<00:04, 15.90it/s]"
     ]
    },
    {
     "name": "stdout",
     "output_type": "stream",
     "text": [
      "处理 drummer1_session1_216_rock-halftime_140_fill_4-4_4.wav 时出错: [Errno 2] No such file or directory: 'ffmpeg'\n",
      "处理 drummer3_session2_25_hiphop_92_beat_4-4_37-fake.wav 时出错: [Errno 2] No such file or directory: 'ffmpeg'\n",
      "处理 drummer1_session1_261_funk-purdieshuffle_130_fill_4-4_43.wav 时出错: [Errno 2] No such file or directory: 'ffmpeg'\n",
      "处理 drummer1_session1_216_rock-halftime_140_fill_4-4_55.wav 时出错: [Errno 2] No such file or directory: 'ffmpeg'\n"
     ]
    },
    {
     "name": "stderr",
     "output_type": "stream",
     "text": [
      " 41%|████▏     | 45/109 [00:04<00:03, 16.12it/s]"
     ]
    },
    {
     "name": "stdout",
     "output_type": "stream",
     "text": [
      "处理 drummer1_session1_121_funk_95_fill_4-4_37.wav 时出错: [Errno 2] No such file or directory: 'ffmpeg'\n",
      "处理 drummer7_session2_14_rock_95_beat_4-4_4.wav 时出错: [Errno 2] No such file or directory: 'ffmpeg'\n",
      "处理 drummer1_session2_62_punk_144_beat_4-4_34-fake.wav 时出错: [Errno 2] No such file or directory: 'ffmpeg'\n",
      "处理 drummer3_session1_7_rock_105_beat_4-4_4-fake.wav 时出错: [Errno 2] No such file or directory: 'ffmpeg'\n"
     ]
    },
    {
     "name": "stderr",
     "output_type": "stream",
     "text": [
      " 45%|████▍     | 49/109 [00:05<00:03, 16.53it/s]"
     ]
    },
    {
     "name": "stdout",
     "output_type": "stream",
     "text": [
      "处理 drummer1_session1_261_funk-purdieshuffle_130_fill_4-4_55.wav 时出错: [Errno 2] No such file or directory: 'ffmpeg'\n",
      "处理 drummer7_session2_27_rock_75_beat_4-4_43-fake.wav 时出错: [Errno 2] No such file or directory: 'ffmpeg'\n",
      "处理 drummer7_session2_16_rock_118_fill_4-4_55-fake.wav 时出错: [Errno 2] No such file or directory: 'ffmpeg'\n",
      "处理 drummer1_session3_15_funk_117_beat_4-4_34-fake.wav 时出错: [Errno 2] No such file or directory: 'ffmpeg'\n"
     ]
    },
    {
     "name": "stderr",
     "output_type": "stream",
     "text": [
      " 49%|████▊     | 53/109 [00:05<00:03, 15.81it/s]"
     ]
    },
    {
     "name": "stdout",
     "output_type": "stream",
     "text": [
      "处理 drummer7_session1_2_rock_86_fill_4-4_43.wav 时出错: [Errno 2] No such file or directory: 'ffmpeg'\n",
      "处理 drummer3_session2_25_hiphop_92_beat_4-4_4-fake.wav 时出错: [Errno 2] No such file or directory: 'ffmpeg'\n",
      "处理 drummer7_session1_2_rock_86_fill_4-4_55.wav 时出错: [Errno 2] No such file or directory: 'ffmpeg'\n",
      "处理 drummer1_session1_140_funk-fast_125_fill_4-4_4.wav 时出错: [Errno 2] No such file or directory: 'ffmpeg'\n"
     ]
    },
    {
     "name": "stderr",
     "output_type": "stream",
     "text": [
      " 52%|█████▏    | 57/109 [00:05<00:02, 17.36it/s]"
     ]
    },
    {
     "name": "stdout",
     "output_type": "stream",
     "text": [
      "处理 drummer1_session1_38_latin-samba_116_beat_4-4_55.wav 时出错: [Errno 2] No such file or directory: 'ffmpeg'\n",
      "处理 drummer1_session2_38_punk_128_fill_4-4_43.wav 时出错: [Errno 2] No such file or directory: 'ffmpeg'\n",
      "处理 drummer7_session2_70_rock_145_fill_4-4_4-fake.wav 时出错: [Errno 2] No such file or directory: 'ffmpeg'\n",
      "处理 drummer1_session1_121_funk_95_fill_4-4_43.wav 时出错: [Errno 2] No such file or directory: 'ffmpeg'\n"
     ]
    },
    {
     "name": "stderr",
     "output_type": "stream",
     "text": [
      " 56%|█████▌    | 61/109 [00:05<00:02, 18.09it/s]"
     ]
    },
    {
     "name": "stdout",
     "output_type": "stream",
     "text": [
      "处理 drummer1_session1_121_funk_95_fill_4-4_34.wav 时出错: [Errno 2] No such file or directory: 'ffmpeg'\n",
      "处理 drummer1_session1_203_rock-halftime_140_fill_4-4_55.wav 时出错: [Errno 2] No such file or directory: 'ffmpeg'\n",
      "处理 drummer1_session1_203_rock-halftime_140_fill_4-4_37.wav 时出错: [Errno 2] No such file or directory: 'ffmpeg'\n",
      "处理 drummer1_session1_38_latin-samba_116_beat_4-4_43.wav 时出错: [Errno 2] No such file or directory: 'ffmpeg'\n"
     ]
    },
    {
     "name": "stderr",
     "output_type": "stream",
     "text": [
      " 60%|█████▉    | 65/109 [00:05<00:02, 16.96it/s]"
     ]
    },
    {
     "name": "stdout",
     "output_type": "stream",
     "text": [
      "处理 drummer7_session2_14_rock_95_beat_4-4_37.wav 时出错: [Errno 2] No such file or directory: 'ffmpeg'\n",
      "处理 drummer7_session2_120_jazz-fusion_96_fill_4-4_43-fake.wav 时出错: [Errno 2] No such file or directory: 'ffmpeg'\n",
      "处理 drummer1_session1_17_jazz-funk_116_fill_4-4_34.wav 时出错: [Errno 2] No such file or directory: 'ffmpeg'\n",
      "处理 drummer7_session2_70_rock_145_fill_4-4_37-fake.wav 时出错: [Errno 2] No such file or directory: 'ffmpeg'\n"
     ]
    },
    {
     "name": "stderr",
     "output_type": "stream",
     "text": [
      " 63%|██████▎   | 69/109 [00:06<00:02, 17.46it/s]"
     ]
    },
    {
     "name": "stdout",
     "output_type": "stream",
     "text": [
      "处理 drummer1_session1_216_rock-halftime_140_fill_4-4_34.wav 时出错: [Errno 2] No such file or directory: 'ffmpeg'\n",
      "处理 drummer1_session1_216_rock-halftime_140_fill_4-4_37.wav 时出错: [Errno 2] No such file or directory: 'ffmpeg'\n",
      "处理 drummer7_session2_14_rock_95_beat_4-4_43.wav 时出错: [Errno 2] No such file or directory: 'ffmpeg'\n",
      "处理 drummer1_session1_261_funk-purdieshuffle_130_fill_4-4_37.wav 时出错: [Errno 2] No such file or directory: 'ffmpeg'\n"
     ]
    },
    {
     "name": "stderr",
     "output_type": "stream",
     "text": [
      " 67%|██████▋   | 73/109 [00:06<00:02, 17.07it/s]"
     ]
    },
    {
     "name": "stdout",
     "output_type": "stream",
     "text": [
      "处理 drummer7_session2_70_rock_145_fill_4-4_43-fake.wav 时出错: [Errno 2] No such file or directory: 'ffmpeg'\n",
      "处理 drummer3_session1_7_rock_105_beat_4-4_34-fake.wav 时出错: [Errno 2] No such file or directory: 'ffmpeg'\n",
      "处理 drummer3_session2_25_hiphop_92_beat_4-4_43-fake.wav 时出错: [Errno 2] No such file or directory: 'ffmpeg'\n"
     ]
    },
    {
     "name": "stderr",
     "output_type": "stream",
     "text": [
      " 71%|███████   | 77/109 [00:06<00:01, 16.97it/s]"
     ]
    },
    {
     "name": "stdout",
     "output_type": "stream",
     "text": [
      "处理 drummer7_session3_88_neworleans-funk_93_fill_4-4_34-fake.wav 时出错: [Errno 2] No such file or directory: 'ffmpeg'\n",
      "处理 drummer1_session1_203_rock-halftime_140_fill_4-4_34.wav 时出错: [Errno 2] No such file or directory: 'ffmpeg'\n",
      "处理 drummer1_session2_142_gospel_120_beat_4-4_4-fake.wav 时出错: [Errno 2] No such file or directory: 'ffmpeg'\n",
      "处理 drummer1_session1_157_latin-brazilian-baiao_95_fill_4-4_37-fake.wav 时出错: [Errno 2] No such file or directory: 'ffmpeg'\n"
     ]
    },
    {
     "name": "stderr",
     "output_type": "stream",
     "text": [
      " 74%|███████▍  | 81/109 [00:06<00:01, 15.90it/s]"
     ]
    },
    {
     "name": "stdout",
     "output_type": "stream",
     "text": [
      "处理 drummer7_session2_27_rock_75_beat_4-4_4-fake.wav 时出错: [Errno 2] No such file or directory: 'ffmpeg'\n",
      "处理 drummer1_session1_157_latin-brazilian-baiao_95_fill_4-4_34-fake.wav 时出错: [Errno 2] No such file or directory: 'ffmpeg'\n",
      "处理 drummer7_session2_120_jazz-fusion_96_fill_4-4_4-fake.wav 时出错: [Errno 2] No such file or directory: 'ffmpeg'\n",
      "处理 drummer7_session2_27_rock_75_beat_4-4_55-fake.wav 时出错: [Errno 2] No such file or directory: 'ffmpeg'\n"
     ]
    },
    {
     "name": "stderr",
     "output_type": "stream",
     "text": [
      " 78%|███████▊  | 85/109 [00:07<00:01, 15.95it/s]"
     ]
    },
    {
     "name": "stdout",
     "output_type": "stream",
     "text": [
      "处理 drummer1_session2_100_funk-rock_92_fill_4-4_4.wav 时出错: [Errno 2] No such file or directory: 'ffmpeg'\n",
      "处理 drummer1_session3_15_funk_117_beat_4-4_43-fake.wav 时出错: [Errno 2] No such file or directory: 'ffmpeg'\n",
      "处理 drummer7_session2_120_jazz-fusion_96_fill_4-4_37-fake.wav 时出错: [Errno 2] No such file or directory: 'ffmpeg'\n",
      "处理 drummer7_session2_27_rock_75_beat_4-4_34-fake.wav 时出错: [Errno 2] No such file or directory: 'ffmpeg'\n"
     ]
    },
    {
     "name": "stderr",
     "output_type": "stream",
     "text": [
      " 81%|████████  | 88/109 [00:07<00:01, 17.34it/s]"
     ]
    },
    {
     "name": "stdout",
     "output_type": "stream",
     "text": [
      "处理 drummer1_session2_38_punk_128_fill_4-4_4.wav 时出错: [Errno 2] No such file or directory: 'ffmpeg'\n",
      "处理 drummer1_session1_140_funk-fast_125_fill_4-4_43.wav 时出错: [Errno 2] No such file or directory: 'ffmpeg'\n",
      "处理 drummer1_session2_62_punk_144_beat_4-4_4-fake.wav 时出错: [Errno 2] No such file or directory: 'ffmpeg'\n",
      "处理 drummer7_session3_88_neworleans-funk_93_fill_4-4_55-fake.wav 时出错: [Errno 2] No such file or directory: 'ffmpeg'\n"
     ]
    },
    {
     "name": "stderr",
     "output_type": "stream",
     "text": [
      " 84%|████████▍ | 92/109 [00:07<00:01, 16.86it/s]"
     ]
    },
    {
     "name": "stdout",
     "output_type": "stream",
     "text": [
      "处理 drummer1_session3_15_funk_117_beat_4-4_37-fake.wav 时出错: [Errno 2] No such file or directory: 'ffmpeg'\n",
      "处理 drummer7_session2_120_jazz-fusion_96_fill_4-4_34-fake.wav 时出错: [Errno 2] No such file or directory: 'ffmpeg'\n",
      "处理 drummer1_session2_100_funk-rock_92_fill_4-4_37.wav 时出错: [Errno 2] No such file or directory: 'ffmpeg'\n",
      "处理 drummer1_session1_38_latin-samba_116_beat_4-4_4.wav 时出错: [Errno 2] No such file or directory: 'ffmpeg'\n"
     ]
    },
    {
     "name": "stderr",
     "output_type": "stream",
     "text": [
      " 88%|████████▊ | 96/109 [00:07<00:00, 16.95it/s]"
     ]
    },
    {
     "name": "stdout",
     "output_type": "stream",
     "text": [
      "处理 drummer1_session2_100_funk-rock_92_fill_4-4_55.wav 时出错: [Errno 2] No such file or directory: 'ffmpeg'\n",
      "处理 drummer1_session1_38_latin-samba_116_beat_4-4_34.wav 时出错: [Errno 2] No such file or directory: 'ffmpeg'\n",
      "处理 drummer1_session1_140_funk-fast_125_fill_4-4_34.wav 时出错: [Errno 2] No such file or directory: 'ffmpeg'\n",
      "处理 drummer1_session2_38_punk_128_fill_4-4_55.wav 时出错: [Errno 2] No such file or directory: 'ffmpeg'\n"
     ]
    },
    {
     "name": "stderr",
     "output_type": "stream",
     "text": [
      " 92%|█████████▏| 100/109 [00:07<00:00, 17.24it/s]"
     ]
    },
    {
     "name": "stdout",
     "output_type": "stream",
     "text": [
      "处理 drummer3_session2_25_hiphop_92_beat_4-4_34-fake.wav 时出错: [Errno 2] No such file or directory: 'ffmpeg'\n",
      "处理 drummer3_session1_7_rock_105_beat_4-4_37-fake.wav 时出错: [Errno 2] No such file or directory: 'ffmpeg'\n",
      "处理 drummer1_session2_100_funk-rock_92_fill_4-4_43.wav 时出错: [Errno 2] No such file or directory: 'ffmpeg'\n",
      "处理 drummer7_session1_2_rock_86_fill_4-4_4.wav 时出错: [Errno 2] No such file or directory: 'ffmpeg'\n"
     ]
    },
    {
     "name": "stderr",
     "output_type": "stream",
     "text": [
      " 95%|█████████▌| 104/109 [00:08<00:00, 15.95it/s]"
     ]
    },
    {
     "name": "stdout",
     "output_type": "stream",
     "text": [
      "处理 drummer7_session2_70_rock_145_fill_4-4_34-fake.wav 时出错: [Errno 2] No such file or directory: 'ffmpeg'\n",
      "处理 drummer7_session3_88_neworleans-funk_93_fill_4-4_4-fake.wav 时出错: [Errno 2] No such file or directory: 'ffmpeg'\n",
      "处理 drummer1_session2_62_punk_144_beat_4-4_55-fake.wav 时出错: [Errno 2] No such file or directory: 'ffmpeg'\n"
     ]
    },
    {
     "name": "stderr",
     "output_type": "stream",
     "text": [
      " 99%|█████████▉| 108/109 [00:08<00:00, 15.73it/s]"
     ]
    },
    {
     "name": "stdout",
     "output_type": "stream",
     "text": [
      "处理 drummer3_session2_25_hiphop_92_beat_4-4_55-fake.wav 时出错: [Errno 2] No such file or directory: 'ffmpeg'\n",
      "处理 drummer7_session2_27_rock_75_beat_4-4_37-fake.wav 时出错: [Errno 2] No such file or directory: 'ffmpeg'\n",
      "处理 drummer7_session1_2_rock_86_fill_4-4_37.wav 时出错: [Errno 2] No such file or directory: 'ffmpeg'\n",
      "处理 drummer1_session1_216_rock-halftime_140_fill_4-4_43.wav 时出错: [Errno 2] No such file or directory: 'ffmpeg'\n"
     ]
    },
    {
     "name": "stderr",
     "output_type": "stream",
     "text": [
      "100%|██████████| 109/109 [00:08<00:00, 12.72it/s]\n"
     ]
    },
    {
     "name": "stdout",
     "output_type": "stream",
     "text": [
      "处理 drummer1_session1_261_funk-purdieshuffle_130_fill_4-4_34.wav 时出错: [Errno 2] No such file or directory: 'ffmpeg'\n"
     ]
    },
    {
     "name": "stderr",
     "output_type": "stream",
     "text": [
      "  4%|▎         | 2/54 [00:00<00:03, 15.62it/s]"
     ]
    },
    {
     "name": "stdout",
     "output_type": "stream",
     "text": [
      "处理 drummer3_session2_25_hiphop_92_beat_4-4_4.wav 时出错: [Errno 2] No such file or directory: 'ffmpeg'\n",
      "处理 drummer1_session2_142_gospel_120_beat_4-4_4.wav 时出错: [Errno 2] No such file or directory: 'ffmpeg'\n",
      "处理 drummer7_session2_16_rock_118_fill_4-4_55.wav 时出错: [Errno 2] No such file or directory: 'ffmpeg'\n"
     ]
    },
    {
     "name": "stderr",
     "output_type": "stream",
     "text": [
      "  7%|▋         | 4/54 [00:00<00:03, 16.07it/s]"
     ]
    },
    {
     "name": "stdout",
     "output_type": "stream",
     "text": [
      "处理 drummer7_session2_27_rock_75_beat_4-4_4.wav 时出错: [Errno 2] No such file or directory: 'ffmpeg'\n"
     ]
    },
    {
     "name": "stderr",
     "output_type": "stream",
     "text": [
      " 11%|█         | 6/54 [00:00<00:02, 16.54it/s]"
     ]
    },
    {
     "name": "stdout",
     "output_type": "stream",
     "text": [
      "处理 drummer1_session1_157_latin-brazilian-baiao_95_fill_4-4_34.wav 时出错: [Errno 2] No such file or directory: 'ffmpeg'\n",
      "处理 drummer3_session1_7_rock_105_beat_4-4_43.wav 时出错: [Errno 2] No such file or directory: 'ffmpeg'\n",
      "处理 drummer1_session2_142_gospel_120_beat_4-4_37.wav 时出错: [Errno 2] No such file or directory: 'ffmpeg'\n"
     ]
    },
    {
     "name": "stderr",
     "output_type": "stream",
     "text": [
      " 15%|█▍        | 8/54 [00:00<00:02, 16.89it/s]"
     ]
    },
    {
     "name": "stdout",
     "output_type": "stream",
     "text": [
      "处理 drummer1_session2_142_gospel_120_beat_4-4_55.wav 时出错: [Errno 2] No such file or directory: 'ffmpeg'\n"
     ]
    },
    {
     "name": "stderr",
     "output_type": "stream",
     "text": [
      " 19%|█▊        | 10/54 [00:00<00:02, 16.87it/s]"
     ]
    },
    {
     "name": "stdout",
     "output_type": "stream",
     "text": [
      "处理 drummer7_session3_88_neworleans-funk_93_fill_4-4_4.wav 时出错: [Errno 2] No such file or directory: 'ffmpeg'\n",
      "处理 drummer7_session2_16_rock_118_fill_4-4_43.wav 时出错: [Errno 2] No such file or directory: 'ffmpeg'\n",
      "处理 drummer1_session2_62_punk_144_beat_4-4_43.wav 时出错: [Errno 2] No such file or directory: 'ffmpeg'\n"
     ]
    },
    {
     "name": "stderr",
     "output_type": "stream",
     "text": [
      " 22%|██▏       | 12/54 [00:00<00:02, 17.32it/s]"
     ]
    },
    {
     "name": "stdout",
     "output_type": "stream",
     "text": [
      "处理 drummer1_session2_62_punk_144_beat_4-4_4.wav 时出错: [Errno 2] No such file or directory: 'ffmpeg'\n"
     ]
    },
    {
     "name": "stderr",
     "output_type": "stream",
     "text": [
      " 26%|██▌       | 14/54 [00:00<00:02, 17.73it/s]"
     ]
    },
    {
     "name": "stdout",
     "output_type": "stream",
     "text": [
      "处理 drummer1_session3_15_funk_117_beat_4-4_4.wav 时出错: [Errno 2] No such file or directory: 'ffmpeg'\n",
      "处理 drummer7_session2_70_rock_145_fill_4-4_34.wav 时出错: [Errno 2] No such file or directory: 'ffmpeg'\n",
      "处理 drummer1_session2_62_punk_144_beat_4-4_37.wav 时出错: [Errno 2] No such file or directory: 'ffmpeg'\n"
     ]
    },
    {
     "name": "stderr",
     "output_type": "stream",
     "text": [
      " 30%|██▉       | 16/54 [00:00<00:02, 17.22it/s]"
     ]
    },
    {
     "name": "stdout",
     "output_type": "stream",
     "text": [
      "处理 drummer7_session2_120_jazz-fusion_96_fill_4-4_43.wav 时出错: [Errno 2] No such file or directory: 'ffmpeg'\n"
     ]
    },
    {
     "name": "stderr",
     "output_type": "stream",
     "text": [
      " 33%|███▎      | 18/54 [00:01<00:02, 16.84it/s]"
     ]
    },
    {
     "name": "stdout",
     "output_type": "stream",
     "text": [
      "处理 drummer3_session1_7_rock_105_beat_4-4_34.wav 时出错: [Errno 2] No such file or directory: 'ffmpeg'\n",
      "处理 drummer1_session2_62_punk_144_beat_4-4_55.wav 时出错: [Errno 2] No such file or directory: 'ffmpeg'\n",
      "处理 drummer1_session1_157_latin-brazilian-baiao_95_fill_4-4_37.wav 时出错: [Errno 2] No such file or directory: 'ffmpeg'\n"
     ]
    },
    {
     "name": "stderr",
     "output_type": "stream",
     "text": [
      " 37%|███▋      | 20/54 [00:01<00:01, 17.54it/s]"
     ]
    },
    {
     "name": "stdout",
     "output_type": "stream",
     "text": [
      "处理 drummer1_session1_157_latin-brazilian-baiao_95_fill_4-4_55.wav 时出错: [Errno 2] No such file or directory: 'ffmpeg'\n"
     ]
    },
    {
     "name": "stderr",
     "output_type": "stream",
     "text": [
      " 41%|████      | 22/54 [00:01<00:01, 17.75it/s]"
     ]
    },
    {
     "name": "stdout",
     "output_type": "stream",
     "text": [
      "处理 drummer1_session3_15_funk_117_beat_4-4_43.wav 时出错: [Errno 2] No such file or directory: 'ffmpeg'\n",
      "处理 drummer1_session3_15_funk_117_beat_4-4_34.wav 时出错: [Errno 2] No such file or directory: 'ffmpeg'\n",
      "处理 drummer7_session3_88_neworleans-funk_93_fill_4-4_37.wav 时出错: [Errno 2] No such file or directory: 'ffmpeg'\n"
     ]
    },
    {
     "name": "stderr",
     "output_type": "stream",
     "text": [
      " 44%|████▍     | 24/54 [00:01<00:01, 16.79it/s]"
     ]
    },
    {
     "name": "stdout",
     "output_type": "stream",
     "text": [
      "处理 drummer7_session3_88_neworleans-funk_93_fill_4-4_34.wav 时出错: [Errno 2] No such file or directory: 'ffmpeg'\n"
     ]
    },
    {
     "name": "stderr",
     "output_type": "stream",
     "text": [
      " 50%|█████     | 27/54 [00:01<00:01, 17.75it/s]"
     ]
    },
    {
     "name": "stdout",
     "output_type": "stream",
     "text": [
      "处理 drummer1_session1_157_latin-brazilian-baiao_95_fill_4-4_43.wav 时出错: [Errno 2] No such file or directory: 'ffmpeg'\n",
      "处理 drummer7_session2_16_rock_118_fill_4-4_37.wav 时出错: [Errno 2] No such file or directory: 'ffmpeg'\n",
      "处理 drummer7_session2_70_rock_145_fill_4-4_55.wav 时出错: [Errno 2] No such file or directory: 'ffmpeg'\n",
      "处理 drummer3_session2_25_hiphop_92_beat_4-4_43.wav 时出错: [Errno 2] No such file or directory: 'ffmpeg'\n"
     ]
    },
    {
     "name": "stderr",
     "output_type": "stream",
     "text": [
      " 54%|█████▎    | 29/54 [00:01<00:01, 16.59it/s]"
     ]
    },
    {
     "name": "stdout",
     "output_type": "stream",
     "text": [
      "处理 drummer3_session2_25_hiphop_92_beat_4-4_34.wav 时出错: [Errno 2] No such file or directory: 'ffmpeg'\n",
      "处理 drummer7_session2_120_jazz-fusion_96_fill_4-4_34.wav 时出错: [Errno 2] No such file or directory: 'ffmpeg'\n"
     ]
    },
    {
     "name": "stderr",
     "output_type": "stream",
     "text": [
      " 57%|█████▋    | 31/54 [00:01<00:01, 16.04it/s]"
     ]
    },
    {
     "name": "stdout",
     "output_type": "stream",
     "text": [
      "处理 drummer7_session2_120_jazz-fusion_96_fill_4-4_37.wav 时出错: [Errno 2] No such file or directory: 'ffmpeg'\n",
      "处理 drummer1_session2_62_punk_144_beat_4-4_34.wav 时出错: [Errno 2] No such file or directory: 'ffmpeg'\n"
     ]
    },
    {
     "name": "stderr",
     "output_type": "stream",
     "text": [
      " 61%|██████    | 33/54 [00:01<00:01, 16.55it/s]"
     ]
    },
    {
     "name": "stdout",
     "output_type": "stream",
     "text": [
      "处理 drummer1_session3_15_funk_117_beat_4-4_37.wav 时出错: [Errno 2] No such file or directory: 'ffmpeg'\n",
      "处理 drummer7_session3_88_neworleans-funk_93_fill_4-4_43.wav 时出错: [Errno 2] No such file or directory: 'ffmpeg'\n"
     ]
    },
    {
     "name": "stderr",
     "output_type": "stream",
     "text": [
      " 65%|██████▍   | 35/54 [00:02<00:01, 16.65it/s]"
     ]
    },
    {
     "name": "stdout",
     "output_type": "stream",
     "text": [
      "处理 drummer1_session1_157_latin-brazilian-baiao_95_fill_4-4_4.wav 时出错: [Errno 2] No such file or directory: 'ffmpeg'\n",
      "处理 drummer7_session2_16_rock_118_fill_4-4_4.wav 时出错: [Errno 2] No such file or directory: 'ffmpeg'\n"
     ]
    },
    {
     "name": "stderr",
     "output_type": "stream",
     "text": [
      " 69%|██████▊   | 37/54 [00:02<00:01, 16.74it/s]"
     ]
    },
    {
     "name": "stdout",
     "output_type": "stream",
     "text": [
      "处理 drummer3_session1_7_rock_105_beat_4-4_4.wav 时出错: [Errno 2] No such file or directory: 'ffmpeg'\n",
      "处理 drummer1_session3_15_funk_117_beat_4-4_55.wav 时出错: [Errno 2] No such file or directory: 'ffmpeg'\n"
     ]
    },
    {
     "name": "stderr",
     "output_type": "stream",
     "text": [
      " 72%|███████▏  | 39/54 [00:02<00:00, 17.13it/s]"
     ]
    },
    {
     "name": "stdout",
     "output_type": "stream",
     "text": [
      "处理 drummer3_session2_25_hiphop_92_beat_4-4_37.wav 时出错: [Errno 2] No such file or directory: 'ffmpeg'\n",
      "处理 drummer7_session2_70_rock_145_fill_4-4_37.wav 时出错: [Errno 2] No such file or directory: 'ffmpeg'\n"
     ]
    },
    {
     "name": "stderr",
     "output_type": "stream",
     "text": [
      " 76%|███████▌  | 41/54 [00:02<00:00, 17.38it/s]"
     ]
    },
    {
     "name": "stdout",
     "output_type": "stream",
     "text": [
      "处理 drummer7_session2_70_rock_145_fill_4-4_43.wav 时出错: [Errno 2] No such file or directory: 'ffmpeg'\n",
      "处理 drummer7_session2_120_jazz-fusion_96_fill_4-4_4.wav 时出错: [Errno 2] No such file or directory: 'ffmpeg'\n"
     ]
    },
    {
     "name": "stderr",
     "output_type": "stream",
     "text": [
      " 80%|███████▉  | 43/54 [00:02<00:00, 16.72it/s]"
     ]
    },
    {
     "name": "stdout",
     "output_type": "stream",
     "text": [
      "处理 drummer7_session2_27_rock_75_beat_4-4_43.wav 时出错: [Errno 2] No such file or directory: 'ffmpeg'\n",
      "处理 drummer3_session2_25_hiphop_92_beat_4-4_55.wav 时出错: [Errno 2] No such file or directory: 'ffmpeg'\n"
     ]
    },
    {
     "name": "stderr",
     "output_type": "stream",
     "text": [
      " 83%|████████▎ | 45/54 [00:02<00:00, 16.40it/s]"
     ]
    },
    {
     "name": "stdout",
     "output_type": "stream",
     "text": [
      "处理 drummer7_session3_88_neworleans-funk_93_fill_4-4_55.wav 时出错: [Errno 2] No such file or directory: 'ffmpeg'\n"
     ]
    },
    {
     "name": "stderr",
     "output_type": "stream",
     "text": [
      " 87%|████████▋ | 47/54 [00:02<00:00, 16.07it/s]"
     ]
    },
    {
     "name": "stdout",
     "output_type": "stream",
     "text": [
      "处理 drummer7_session2_27_rock_75_beat_4-4_34.wav 时出错: [Errno 2] No such file or directory: 'ffmpeg'\n",
      "处理 drummer7_session2_70_rock_145_fill_4-4_4.wav 时出错: [Errno 2] No such file or directory: 'ffmpeg'\n",
      "处理 drummer1_session2_142_gospel_120_beat_4-4_43.wav 时出错: [Errno 2] No such file or directory: 'ffmpeg'\n"
     ]
    },
    {
     "name": "stderr",
     "output_type": "stream",
     "text": [
      " 91%|█████████ | 49/54 [00:02<00:00, 15.92it/s]"
     ]
    },
    {
     "name": "stdout",
     "output_type": "stream",
     "text": [
      "处理 drummer7_session2_27_rock_75_beat_4-4_55.wav 时出错: [Errno 2] No such file or directory: 'ffmpeg'\n"
     ]
    },
    {
     "name": "stderr",
     "output_type": "stream",
     "text": [
      " 94%|█████████▍| 51/54 [00:03<00:00, 15.79it/s]"
     ]
    },
    {
     "name": "stdout",
     "output_type": "stream",
     "text": [
      "处理 drummer7_session2_27_rock_75_beat_4-4_37.wav 时出错: [Errno 2] No such file or directory: 'ffmpeg'\n",
      "处理 drummer7_session2_16_rock_118_fill_4-4_34.wav 时出错: [Errno 2] No such file or directory: 'ffmpeg'\n",
      "处理 drummer3_session1_7_rock_105_beat_4-4_55.wav 时出错: [Errno 2] No such file or directory: 'ffmpeg'\n"
     ]
    },
    {
     "name": "stderr",
     "output_type": "stream",
     "text": [
      " 98%|█████████▊| 53/54 [00:03<00:00, 15.44it/s]"
     ]
    },
    {
     "name": "stdout",
     "output_type": "stream",
     "text": [
      "处理 drummer3_session1_7_rock_105_beat_4-4_37.wav 时出错: [Errno 2] No such file or directory: 'ffmpeg'\n"
     ]
    },
    {
     "name": "stderr",
     "output_type": "stream",
     "text": [
      "100%|██████████| 54/54 [00:03<00:00, 16.54it/s]\n"
     ]
    },
    {
     "name": "stdout",
     "output_type": "stream",
     "text": [
      "处理 drummer7_session2_120_jazz-fusion_96_fill_4-4_55.wav 时出错: [Errno 2] No such file or directory: 'ffmpeg'\n"
     ]
    },
    {
     "name": "stderr",
     "output_type": "stream",
     "text": [
      "  0%|          | 0/54 [00:00<?, ?it/s]"
     ]
    },
    {
     "name": "stdout",
     "output_type": "stream",
     "text": [
      "处理 drummer7_session2_27_rock_75_beat_4-4_43__drummer1_session2_1_latin-chacarera_157_beat_3-4_43.wav 时出错: [Errno 2] No such file or directory: 'ffmpeg'\n"
     ]
    },
    {
     "name": "stderr",
     "output_type": "stream",
     "text": [
      "  4%|▎         | 2/54 [00:00<00:03, 14.93it/s]"
     ]
    },
    {
     "name": "stdout",
     "output_type": "stream",
     "text": [
      "处理 drummer1_session2_142_gospel_120_beat_4-4_37__drummer6_session3_1_rock_90_beat_4-4_37.wav 时出错: [Errno 2] No such file or directory: 'ffmpeg'\n",
      "处理 drummer3_session1_7_rock_105_beat_4-4_4__drummer5_session2_17_latin-brazilian-samba_110_beat_4-4_4.wav 时出错: [Errno 2] No such file or directory: 'ffmpeg'\n"
     ]
    },
    {
     "name": "stderr",
     "output_type": "stream",
     "text": [
      "  7%|▋         | 4/54 [00:00<00:03, 14.81it/s]"
     ]
    },
    {
     "name": "stdout",
     "output_type": "stream",
     "text": [
      "处理 drummer3_session1_7_rock_105_beat_4-4_43__drummer1_session1_126_funk-fast_125_beat_4-4_43.wav 时出错: [Errno 2] No such file or directory: 'ffmpeg'\n",
      "处理 drummer7_session3_88_neworleans-funk_93_fill_4-4_37__drummer1_session2_14_country_114_fill_4-4_37.wav 时出错: [Errno 2] No such file or directory: 'ffmpeg'\n"
     ]
    },
    {
     "name": "stderr",
     "output_type": "stream",
     "text": [
      " 11%|█         | 6/54 [00:00<00:03, 15.87it/s]"
     ]
    },
    {
     "name": "stdout",
     "output_type": "stream",
     "text": [
      "处理 drummer3_session1_7_rock_105_beat_4-4_55__drummer7_session3_11_pop-soft_83_beat_4-4_55.wav 时出错: [Errno 2] No such file or directory: 'ffmpeg'\n",
      "处理 drummer7_session2_16_rock_118_fill_4-4_37__drummer7_session2_66_rock_145_fill_4-4_37.wav 时出错: [Errno 2] No such file or directory: 'ffmpeg'\n"
     ]
    },
    {
     "name": "stderr",
     "output_type": "stream",
     "text": [
      " 15%|█▍        | 8/54 [00:00<00:02, 16.64it/s]"
     ]
    },
    {
     "name": "stdout",
     "output_type": "stream",
     "text": [
      "处理 drummer7_session2_70_rock_145_fill_4-4_55__drummer1_session2_185_rock_115_fill_4-4_55.wav 时出错: [Errno 2] No such file or directory: 'ffmpeg'\n",
      "处理 drummer1_session3_15_funk_117_beat_4-4_43__drummer1_session2_62_punk_144_beat_4-4_43.wav 时出错: [Errno 2] No such file or directory: 'ffmpeg'\n"
     ]
    },
    {
     "name": "stderr",
     "output_type": "stream",
     "text": [
      " 19%|█▊        | 10/54 [00:00<00:02, 16.36it/s]"
     ]
    },
    {
     "name": "stdout",
     "output_type": "stream",
     "text": [
      "处理 drummer3_session2_25_hiphop_92_beat_4-4_34__drummer1_session2_142_gospel_120_beat_4-4_34.wav 时出错: [Errno 2] No such file or directory: 'ffmpeg'\n",
      "处理 drummer7_session2_70_rock_145_fill_4-4_37__drummer7_session3_144_soul_105_fill_4-4_37.wav 时出错: [Errno 2] No such file or directory: 'ffmpeg'\n"
     ]
    },
    {
     "name": "stderr",
     "output_type": "stream",
     "text": [
      " 22%|██▏       | 12/54 [00:00<00:02, 16.64it/s]"
     ]
    },
    {
     "name": "stdout",
     "output_type": "stream",
     "text": [
      "处理 drummer7_session2_70_rock_145_fill_4-4_34__drummer7_session2_119_jazz-fusion_96_fill_4-4_34.wav 时出错: [Errno 2] No such file or directory: 'ffmpeg'\n",
      "处理 drummer3_session1_7_rock_105_beat_4-4_37__drummer5_session2_15_latin-venezuelan-joropo_80_beat_4-4_37.wav 时出错: [Errno 2] No such file or directory: 'ffmpeg'\n"
     ]
    },
    {
     "name": "stderr",
     "output_type": "stream",
     "text": [
      " 26%|██▌       | 14/54 [00:00<00:02, 16.55it/s]"
     ]
    },
    {
     "name": "stdout",
     "output_type": "stream",
     "text": [
      "处理 drummer7_session2_16_rock_118_fill_4-4_55__drummer1_session1_30_latin-samba_116_fill_4-4_55.wav 时出错: [Errno 2] No such file or directory: 'ffmpeg'\n",
      "处理 drummer7_session2_27_rock_75_beat_4-4_4__drummer6_session3_1_rock_90_beat_4-4_4.wav 时出错: [Errno 2] No such file or directory: 'ffmpeg'\n"
     ]
    },
    {
     "name": "stderr",
     "output_type": "stream",
     "text": [
      " 30%|██▉       | 16/54 [00:01<00:02, 15.66it/s]"
     ]
    },
    {
     "name": "stdout",
     "output_type": "stream",
     "text": [
      "处理 drummer1_session2_62_punk_144_beat_4-4_55__drummer7_session1_13_funk_102_beat_4-4_55.wav 时出错: [Errno 2] No such file or directory: 'ffmpeg'\n",
      "处理 drummer7_session2_120_jazz-fusion_96_fill_4-4_55__drummer1_session2_87_punk_144_fill_4-4_55.wav 时出错: [Errno 2] No such file or directory: 'ffmpeg'\n"
     ]
    },
    {
     "name": "stderr",
     "output_type": "stream",
     "text": [
      " 33%|███▎      | 18/54 [00:01<00:02, 15.85it/s]"
     ]
    },
    {
     "name": "stdout",
     "output_type": "stream",
     "text": [
      "处理 drummer7_session2_16_rock_118_fill_4-4_43__drummer7_session2_91_hiphop_75_fill_4-4_43.wav 时出错: [Errno 2] No such file or directory: 'ffmpeg'\n",
      "处理 drummer3_session2_25_hiphop_92_beat_4-4_43__drummer7_session2_8_rock_95_beat_4-4_43.wav 时出错: [Errno 2] No such file or directory: 'ffmpeg'\n"
     ]
    },
    {
     "name": "stderr",
     "output_type": "stream",
     "text": [
      " 37%|███▋      | 20/54 [00:01<00:02, 16.33it/s]"
     ]
    },
    {
     "name": "stdout",
     "output_type": "stream",
     "text": [
      "处理 drummer7_session3_88_neworleans-funk_93_fill_4-4_34__drummer1_session1_133_funk-fast_125_fill_4-4_34.wav 时出错: [Errno 2] No such file or directory: 'ffmpeg'\n",
      "处理 drummer7_session2_120_jazz-fusion_96_fill_4-4_37__drummer1_session2_57_punk_128_fill_4-4_37.wav 时出错: [Errno 2] No such file or directory: 'ffmpeg'\n"
     ]
    },
    {
     "name": "stderr",
     "output_type": "stream",
     "text": [
      " 41%|████      | 22/54 [00:01<00:01, 17.26it/s]"
     ]
    },
    {
     "name": "stdout",
     "output_type": "stream",
     "text": [
      "处理 drummer1_session2_142_gospel_120_beat_4-4_4__drummer1_session2_1_latin-chacarera_157_beat_3-4_4.wav 时出错: [Errno 2] No such file or directory: 'ffmpeg'\n",
      "处理 drummer7_session3_88_neworleans-funk_93_fill_4-4_55__drummer7_session3_70_neworleans-funk_93_fill_4-4_55.wav 时出错: [Errno 2] No such file or directory: 'ffmpeg'\n"
     ]
    },
    {
     "name": "stderr",
     "output_type": "stream",
     "text": [
      " 44%|████▍     | 24/54 [00:01<00:01, 16.57it/s]"
     ]
    },
    {
     "name": "stdout",
     "output_type": "stream",
     "text": [
      "处理 drummer1_session1_157_latin-brazilian-baiao_95_fill_4-4_34__drummer7_session2_10_rock_95_fill_4-4_34.wav 时出错: [Errno 2] No such file or directory: 'ffmpeg'\n",
      "处理 drummer1_session2_62_punk_144_beat_4-4_37__drummer1_session3_15_funk_117_beat_4-4_37.wav 时出错: [Errno 2] No such file or directory: 'ffmpeg'\n"
     ]
    },
    {
     "name": "stderr",
     "output_type": "stream",
     "text": [
      " 48%|████▊     | 26/54 [00:01<00:01, 16.44it/s]"
     ]
    },
    {
     "name": "stdout",
     "output_type": "stream",
     "text": [
      "处理 drummer7_session2_27_rock_75_beat_4-4_34__drummer3_session2_25_hiphop_92_beat_4-4_34.wav 时出错: [Errno 2] No such file or directory: 'ffmpeg'\n",
      "处理 drummer1_session2_142_gospel_120_beat_4-4_55__drummer1_session1_38_latin-samba_116_beat_4-4_55.wav 时出错: [Errno 2] No such file or directory: 'ffmpeg'\n"
     ]
    },
    {
     "name": "stderr",
     "output_type": "stream",
     "text": [
      " 52%|█████▏    | 28/54 [00:01<00:01, 15.97it/s]"
     ]
    },
    {
     "name": "stdout",
     "output_type": "stream",
     "text": [
      "处理 drummer3_session2_25_hiphop_92_beat_4-4_55__drummer5_session1_11_latin-brazilian-sambareggae_96_beat_4-4_55.wav 时出错: [Errno 2] No such file or directory: 'ffmpeg'\n",
      "处理 drummer3_session2_25_hiphop_92_beat_4-4_4__drummer6_session3_5_rock_180_beat_4-4_4.wav 时出错: [Errno 2] No such file or directory: 'ffmpeg'\n"
     ]
    },
    {
     "name": "stderr",
     "output_type": "stream",
     "text": [
      " 56%|█████▌    | 30/54 [00:01<00:01, 16.43it/s]"
     ]
    },
    {
     "name": "stdout",
     "output_type": "stream",
     "text": [
      "处理 drummer7_session2_16_rock_118_fill_4-4_4__drummer1_session1_17_jazz-funk_116_fill_4-4_4.wav 时出错: [Errno 2] No such file or directory: 'ffmpeg'\n",
      "处理 drummer1_session2_62_punk_144_beat_4-4_34__drummer3_session1_39_jazz_120_beat_4-4_34.wav 时出错: [Errno 2] No such file or directory: 'ffmpeg'\n"
     ]
    },
    {
     "name": "stderr",
     "output_type": "stream",
     "text": [
      " 59%|█████▉    | 32/54 [00:01<00:01, 16.14it/s]"
     ]
    },
    {
     "name": "stdout",
     "output_type": "stream",
     "text": [
      "处理 drummer1_session2_62_punk_144_beat_4-4_4__drummer1_session3_12_latin-bomba_96_beat_4-4_4.wav 时出错: [Errno 2] No such file or directory: 'ffmpeg'\n",
      "处理 drummer1_session1_157_latin-brazilian-baiao_95_fill_4-4_55__drummer1_session2_198_rock_115_fill_4-4_55.wav 时出错: [Errno 2] No such file or directory: 'ffmpeg'\n",
      "处理 drummer7_session2_27_rock_75_beat_4-4_55__drummer3_session1_37_rock_120_beat_4-4_55.wav 时出错: [Errno 2] No such file or directory: 'ffmpeg'\n"
     ]
    },
    {
     "name": "stderr",
     "output_type": "stream",
     "text": [
      " 65%|██████▍   | 35/54 [00:02<00:01, 17.67it/s]"
     ]
    },
    {
     "name": "stdout",
     "output_type": "stream",
     "text": [
      "处理 drummer7_session2_70_rock_145_fill_4-4_4__drummer1_session1_203_rock-halftime_140_fill_4-4_4.wav 时出错: [Errno 2] No such file or directory: 'ffmpeg'\n",
      "处理 drummer1_session1_157_latin-brazilian-baiao_95_fill_4-4_43__drummer1_session1_257_funk-purdieshuffle_130_fill_4-4_43.wav 时出错: [Errno 2] No such file or directory: 'ffmpeg'\n"
     ]
    },
    {
     "name": "stderr",
     "output_type": "stream",
     "text": [
      " 69%|██████▊   | 37/54 [00:02<00:00, 17.54it/s]"
     ]
    },
    {
     "name": "stdout",
     "output_type": "stream",
     "text": [
      "处理 drummer1_session3_15_funk_117_beat_4-4_55__drummer1_session2_62_punk_144_beat_4-4_55.wav 时出错: [Errno 2] No such file or directory: 'ffmpeg'\n",
      "处理 drummer1_session3_15_funk_117_beat_4-4_34__drummer8_session1_18_funk_108_beat_4-4_34.wav 时出错: [Errno 2] No such file or directory: 'ffmpeg'\n"
     ]
    },
    {
     "name": "stderr",
     "output_type": "stream",
     "text": [
      " 72%|███████▏  | 39/54 [00:02<00:00, 16.73it/s]"
     ]
    },
    {
     "name": "stdout",
     "output_type": "stream",
     "text": [
      "处理 drummer1_session1_157_latin-brazilian-baiao_95_fill_4-4_37__drummer7_session3_34_hiphop_67_fill_4-4_37.wav 时出错: [Errno 2] No such file or directory: 'ffmpeg'\n",
      "处理 drummer7_session3_88_neworleans-funk_93_fill_4-4_4__drummer7_session2_48_rock_135_fill_4-4_4.wav 时出错: [Errno 2] No such file or directory: 'ffmpeg'\n"
     ]
    },
    {
     "name": "stderr",
     "output_type": "stream",
     "text": [
      " 76%|███████▌  | 41/54 [00:02<00:00, 16.89it/s]"
     ]
    },
    {
     "name": "stdout",
     "output_type": "stream",
     "text": [
      "处理 drummer7_session2_70_rock_145_fill_4-4_43__drummer1_session2_144_gospel_120_fill_4-4_43.wav 时出错: [Errno 2] No such file or directory: 'ffmpeg'\n",
      "处理 drummer7_session2_120_jazz-fusion_96_fill_4-4_4__drummer1_session2_198_rock_115_fill_4-4_4.wav 时出错: [Errno 2] No such file or directory: 'ffmpeg'\n"
     ]
    },
    {
     "name": "stderr",
     "output_type": "stream",
     "text": [
      " 80%|███████▉  | 43/54 [00:02<00:00, 16.39it/s]"
     ]
    },
    {
     "name": "stdout",
     "output_type": "stream",
     "text": [
      "处理 drummer1_session3_15_funk_117_beat_4-4_4__drummer1_session1_2_funk_80_beat_4-4_4.wav 时出错: [Errno 2] No such file or directory: 'ffmpeg'\n",
      "处理 drummer7_session2_16_rock_118_fill_4-4_34__drummer1_session1_16_jazz-funk_116_fill_4-4_34.wav 时出错: [Errno 2] No such file or directory: 'ffmpeg'\n"
     ]
    },
    {
     "name": "stderr",
     "output_type": "stream",
     "text": [
      " 83%|████████▎ | 45/54 [00:02<00:00, 15.82it/s]"
     ]
    },
    {
     "name": "stdout",
     "output_type": "stream",
     "text": [
      "处理 drummer3_session2_25_hiphop_92_beat_4-4_37__drummer7_session1_13_funk_102_beat_4-4_37.wav 时出错: [Errno 2] No such file or directory: 'ffmpeg'\n"
     ]
    },
    {
     "name": "stderr",
     "output_type": "stream",
     "text": [
      " 87%|████████▋ | 47/54 [00:02<00:00, 16.02it/s]"
     ]
    },
    {
     "name": "stdout",
     "output_type": "stream",
     "text": [
      "处理 drummer1_session2_142_gospel_120_beat_4-4_43__drummer1_session1_2_funk_80_beat_4-4_43.wav 时出错: [Errno 2] No such file or directory: 'ffmpeg'\n",
      "处理 drummer7_session2_120_jazz-fusion_96_fill_4-4_43__drummer1_session2_25_country_114_fill_4-4_43.wav 时出错: [Errno 2] No such file or directory: 'ffmpeg'\n",
      "处理 drummer1_session1_157_latin-brazilian-baiao_95_fill_4-4_4__drummer1_session2_79_punk_144_fill_4-4_4.wav 时出错: [Errno 2] No such file or directory: 'ffmpeg'\n",
      "处理 drummer7_session2_120_jazz-fusion_96_fill_4-4_34__drummer1_session2_100_funk-rock_92_fill_4-4_34.wav 时出错: [Errno 2] No such file or directory: 'ffmpeg'\n"
     ]
    },
    {
     "name": "stderr",
     "output_type": "stream",
     "text": [
      " 96%|█████████▋| 52/54 [00:03<00:00, 17.11it/s]"
     ]
    },
    {
     "name": "stdout",
     "output_type": "stream",
     "text": [
      "处理 drummer1_session3_15_funk_117_beat_4-4_37__drummer5_session2_22_latin-brazilian-frevo_133_beat_4-4_37.wav 时出错: [Errno 2] No such file or directory: 'ffmpeg'\n",
      "处理 drummer7_session3_88_neworleans-funk_93_fill_4-4_43__drummer1_session1_16_jazz-funk_116_fill_4-4_43.wav 时出错: [Errno 2] No such file or directory: 'ffmpeg'\n",
      "处理 drummer3_session1_7_rock_105_beat_4-4_34__drummer7_session2_46_rock_135_beat_4-4_34.wav 时出错: [Errno 2] No such file or directory: 'ffmpeg'\n",
      "处理 drummer7_session2_27_rock_75_beat_4-4_37__drummer3_session1_15_jazz_120_beat_4-4_37.wav 时出错: [Errno 2] No such file or directory: 'ffmpeg'\n"
     ]
    },
    {
     "name": "stderr",
     "output_type": "stream",
     "text": [
      "100%|██████████| 54/54 [00:03<00:00, 16.52it/s]"
     ]
    },
    {
     "name": "stdout",
     "output_type": "stream",
     "text": [
      "处理 drummer1_session2_62_punk_144_beat_4-4_43__drummer5_session2_17_latin-brazilian-samba_110_beat_4-4_43.wav 时出错: [Errno 2] No such file or directory: 'ffmpeg'\n",
      "所有文件处理完成！输出目录: /app/data/break-the-beat/assets/audio/main_processed\n"
     ]
    },
    {
     "name": "stderr",
     "output_type": "stream",
     "text": [
      "\n"
     ]
    }
   ],
   "source": [
    "# 导入必要的库\n",
    "import os\n",
    "import numpy as np\n",
    "import librosa\n",
    "import soundfile as sf\n",
    "from pydub import AudioSegment\n",
    "from tqdm import tqdm\n",
    "\n",
    "# 设置目录路径\n",
    "audio_dir = '/app/data/break-the-beat/assets/audio/main'\n",
    "output_dir = '/app/data/break-the-beat/assets/audio/main_processed'\n",
    "\n",
    "# 创建输出目录（如果不存在）\n",
    "os.makedirs(output_dir, exist_ok=True)\n",
    "\n",
    "# 定义函数：移除尾部静音\n",
    "def remove_trailing_silence(audio, sr, threshold_db=-50, min_silence_duration=0.5):\n",
    "    \"\"\"移除音频尾部的静音\"\"\"\n",
    "    # 计算音频的RMS值\n",
    "    frame_length = int(0.025 * sr)\n",
    "    hop_length = int(0.010 * sr)\n",
    "    rms = librosa.feature.rms(y=audio, frame_length=frame_length, hop_length=hop_length)[0]\n",
    "    \n",
    "    # 将RMS转换为dB\n",
    "    rms_db = 20 * np.log10(rms + 1e-10)\n",
    "    \n",
    "    # 查找末尾静音开始的位置\n",
    "    frames_above_threshold = np.where(rms_db > threshold_db)[0]\n",
    "    if len(frames_above_threshold) > 0:\n",
    "        last_sound_frame = frames_above_threshold[-1]\n",
    "        # 将帧索引转换为样本索引\n",
    "        last_sound_sample = (last_sound_frame + 1) * hop_length\n",
    "        # 保留额外的一小段静音（min_silence_duration秒）\n",
    "        extra_samples = int(min_silence_duration * sr)\n",
    "        end_sample = min(last_sound_sample + extra_samples, len(audio))\n",
    "        return audio[:end_sample]\n",
    "    return audio\n",
    "\n",
    "# 遍历处理所有WAV文件\n",
    "print(\"正在处理WAV文件...\")\n",
    "for root, _, files in os.walk(audio_dir):\n",
    "    for file in tqdm(files):\n",
    "        if file.lower().endswith('.wav'):\n",
    "            # 构建完整的文件路径\n",
    "            file_path = os.path.join(root, file)\n",
    "            \n",
    "            # 相对路径，用于构建输出路径\n",
    "            rel_path = os.path.relpath(root, audio_dir)\n",
    "            out_subdir = os.path.join(output_dir, rel_path)\n",
    "            os.makedirs(out_subdir, exist_ok=True)\n",
    "            \n",
    "            # 构建输出MP3文件路径\n",
    "            mp3_filename = os.path.splitext(file)[0] + '.mp3'\n",
    "            mp3_path = os.path.join(out_subdir, mp3_filename)\n",
    "            \n",
    "            # 处理步骤1：读取WAV并移除尾部静音\n",
    "            try:\n",
    "                audio, sr = librosa.load(file_path, sr=None)\n",
    "                trimmed_audio = remove_trailing_silence(audio, sr)\n",
    "                \n",
    "                # 保存为临时WAV文件\n",
    "                temp_wav = os.path.join(out_subdir, \"temp.wav\")\n",
    "                sf.write(temp_wav, trimmed_audio, sr)\n",
    "                \n",
    "                # 处理步骤2：转换为高质量MP3\n",
    "                wav_audio = AudioSegment.from_wav(temp_wav)\n",
    "                wav_audio.export(mp3_path, format=\"mp3\", bitrate=\"320k\")\n",
    "                \n",
    "                # 删除临时WAV文件\n",
    "                os.remove(temp_wav)\n",
    "                print(f\"已处理: {file} -> {mp3_filename}\")\n",
    "            except Exception as e:\n",
    "                print(f\"处理 {file} 时出错: {str(e)}\")\n",
    "\n",
    "print(f\"所有文件处理完成！输出目录: {output_dir}\")"
   ]
  },
  {
   "cell_type": "code",
   "execution_count": 3,
   "id": "fb757637",
   "metadata": {},
   "outputs": [
    {
     "name": "stdout",
     "output_type": "stream",
     "text": [
      "Hit:1 http://archive.ubuntu.com/ubuntu jammy InRelease\n",
      "Get:2 http://security.ubuntu.com/ubuntu jammy-security InRelease [129 kB]\n",
      "Get:3 http://archive.ubuntu.com/ubuntu jammy-updates InRelease [128 kB]\n",
      "Get:4 http://archive.ubuntu.com/ubuntu jammy-backports InRelease [127 kB]\n",
      "Get:5 http://security.ubuntu.com/ubuntu jammy-security/restricted amd64 Packages [5712 kB]\n",
      "Get:6 http://archive.ubuntu.com/ubuntu jammy-updates/multiverse amd64 Packages [69.1 kB]\n",
      "Get:7 http://archive.ubuntu.com/ubuntu jammy-updates/restricted amd64 Packages [5907 kB]\n",
      "Get:8 http://security.ubuntu.com/ubuntu jammy-security/multiverse amd64 Packages [71.0 kB]\n",
      "Get:9 http://security.ubuntu.com/ubuntu jammy-security/universe amd64 Packages [1275 kB]\n",
      "Get:10 http://security.ubuntu.com/ubuntu jammy-security/main amd64 Packages [3412 kB]\n",
      "Get:11 http://archive.ubuntu.com/ubuntu jammy-updates/main amd64 Packages [3738 kB]\n",
      "Get:12 http://archive.ubuntu.com/ubuntu jammy-updates/universe amd64 Packages [1580 kB]\n",
      "Get:13 http://archive.ubuntu.com/ubuntu jammy-backports/universe amd64 Packages [35.2 kB]\n",
      "Get:14 http://archive.ubuntu.com/ubuntu jammy-backports/main amd64 Packages [83.9 kB]\n",
      "Fetched 22.3 MB in 4s (5452 kB/s)                          \n",
      "Reading package lists... Done\n",
      "/bin/bash: line 1: sudo: command not found\n"
     ]
    }
   ],
   "source": [
    "!apt-get update && sudo apt-get install -y ffmpeg"
   ]
  }
 ],
 "metadata": {
  "kernelspec": {
   "display_name": "Python 3",
   "language": "python",
   "name": "python3"
  },
  "language_info": {
   "codemirror_mode": {
    "name": "ipython",
    "version": 3
   },
   "file_extension": ".py",
   "mimetype": "text/x-python",
   "name": "python",
   "nbconvert_exporter": "python",
   "pygments_lexer": "ipython3",
   "version": "3.10.12"
  }
 },
 "nbformat": 4,
 "nbformat_minor": 5
}
