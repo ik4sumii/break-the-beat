{
 "cells": [
  {
   "cell_type": "code",
   "execution_count": null,
   "id": "dd443640",
   "metadata": {},
   "outputs": [
    {
     "name": "stdout",
     "output_type": "stream",
     "text": [
      "正在处理WAV文件...\n"
     ]
    },
    {
     "name": "stderr",
     "output_type": "stream",
     "text": [
      "0it [00:00, ?it/s]\n",
      "  2%|▏         | 2/109 [00:00<00:19,  5.52it/s]"
     ]
    },
    {
     "name": "stdout",
     "output_type": "stream",
     "text": [
      "已处理: drummer1_session1_157_latin-brazilian-baiao_95_fill_4-4_4-fake.wav -> drummer1_session1_157_latin-brazilian-baiao_95_fill_4-4_4-fake.mp3\n",
      "已处理: drummer1_session1_17_jazz-funk_116_fill_4-4_43.wav -> drummer1_session1_17_jazz-funk_116_fill_4-4_43.mp3\n"
     ]
    },
    {
     "name": "stderr",
     "output_type": "stream",
     "text": [
      "  4%|▎         | 4/109 [00:00<00:19,  5.51it/s]"
     ]
    },
    {
     "name": "stdout",
     "output_type": "stream",
     "text": [
      "已处理: drummer7_session2_70_rock_145_fill_4-4_55-fake.wav -> drummer7_session2_70_rock_145_fill_4-4_55-fake.mp3\n",
      "已处理: drummer1_session1_17_jazz-funk_116_fill_4-4_4.wav -> drummer1_session1_17_jazz-funk_116_fill_4-4_4.mp3\n"
     ]
    },
    {
     "name": "stderr",
     "output_type": "stream",
     "text": [
      "  6%|▌         | 6/109 [00:01<00:18,  5.45it/s]"
     ]
    },
    {
     "name": "stdout",
     "output_type": "stream",
     "text": [
      "已处理: drummer1_session1_203_rock-halftime_140_fill_4-4_4.wav -> drummer1_session1_203_rock-halftime_140_fill_4-4_4.mp3\n",
      "已处理: drummer7_session2_14_rock_95_beat_4-4_34.wav -> drummer7_session2_14_rock_95_beat_4-4_34.mp3\n"
     ]
    },
    {
     "name": "stderr",
     "output_type": "stream",
     "text": [
      "  7%|▋         | 8/109 [00:01<00:16,  6.07it/s]"
     ]
    },
    {
     "name": "stdout",
     "output_type": "stream",
     "text": [
      "已处理: drummer1_session1_140_funk-fast_125_fill_4-4_55.wav -> drummer1_session1_140_funk-fast_125_fill_4-4_55.mp3\n",
      "已处理: drummer7_session2_16_rock_118_fill_4-4_37-fake.wav -> drummer7_session2_16_rock_118_fill_4-4_37-fake.mp3\n"
     ]
    },
    {
     "name": "stderr",
     "output_type": "stream",
     "text": [
      "  9%|▉         | 10/109 [00:01<00:17,  5.58it/s]"
     ]
    },
    {
     "name": "stdout",
     "output_type": "stream",
     "text": [
      "已处理: drummer7_session3_88_neworleans-funk_93_fill_4-4_43-fake.wav -> drummer7_session3_88_neworleans-funk_93_fill_4-4_43-fake.mp3\n",
      "已处理: drummer1_session1_38_latin-samba_116_beat_4-4_37.wav -> drummer1_session1_38_latin-samba_116_beat_4-4_37.mp3\n"
     ]
    },
    {
     "name": "stderr",
     "output_type": "stream",
     "text": [
      " 11%|█         | 12/109 [00:02<00:17,  5.50it/s]"
     ]
    },
    {
     "name": "stdout",
     "output_type": "stream",
     "text": [
      "已处理: drummer1_session1_157_latin-brazilian-baiao_95_fill_4-4_55-fake.wav -> drummer1_session1_157_latin-brazilian-baiao_95_fill_4-4_55-fake.mp3\n",
      "已处理: drummer7_session2_120_jazz-fusion_96_fill_4-4_55-fake.wav -> drummer7_session2_120_jazz-fusion_96_fill_4-4_55-fake.mp3\n"
     ]
    },
    {
     "name": "stderr",
     "output_type": "stream",
     "text": [
      " 13%|█▎        | 14/109 [00:02<00:16,  5.61it/s]"
     ]
    },
    {
     "name": "stdout",
     "output_type": "stream",
     "text": [
      "已处理: drummer3_session1_7_rock_105_beat_4-4_55-fake.wav -> drummer3_session1_7_rock_105_beat_4-4_55-fake.mp3\n",
      "已处理: drummer7_session2_16_rock_118_fill_4-4_43-fake.wav -> drummer7_session2_16_rock_118_fill_4-4_43-fake.mp3\n"
     ]
    },
    {
     "name": "stderr",
     "output_type": "stream",
     "text": [
      " 15%|█▍        | 16/109 [00:02<00:16,  5.78it/s]"
     ]
    },
    {
     "name": "stdout",
     "output_type": "stream",
     "text": [
      "已处理: drummer1_session1_157_latin-brazilian-baiao_95_fill_4-4_43-fake.wav -> drummer1_session1_157_latin-brazilian-baiao_95_fill_4-4_43-fake.mp3\n",
      "已处理: drummer1_session2_62_punk_144_beat_4-4_43-fake.wav -> drummer1_session2_62_punk_144_beat_4-4_43-fake.mp3\n"
     ]
    },
    {
     "name": "stderr",
     "output_type": "stream",
     "text": [
      " 17%|█▋        | 18/109 [00:03<00:15,  5.90it/s]"
     ]
    },
    {
     "name": "stdout",
     "output_type": "stream",
     "text": [
      "已处理: drummer1_session2_142_gospel_120_beat_4-4_37-fake.wav -> drummer1_session2_142_gospel_120_beat_4-4_37-fake.mp3\n",
      "已处理: drummer1_session1_121_funk_95_fill_4-4_4.wav -> drummer1_session1_121_funk_95_fill_4-4_4.mp3\n"
     ]
    },
    {
     "name": "stderr",
     "output_type": "stream",
     "text": [
      " 18%|█▊        | 20/109 [00:03<00:14,  6.03it/s]"
     ]
    },
    {
     "name": "stdout",
     "output_type": "stream",
     "text": [
      "已处理: drummer1_session2_142_gospel_120_beat_4-4_43-fake.wav -> drummer1_session2_142_gospel_120_beat_4-4_43-fake.mp3\n",
      "已处理: drummer1_session2_38_punk_128_fill_4-4_37.wav -> drummer1_session2_38_punk_128_fill_4-4_37.mp3\n"
     ]
    },
    {
     "name": "stderr",
     "output_type": "stream",
     "text": [
      " 20%|██        | 22/109 [00:03<00:14,  6.09it/s]"
     ]
    },
    {
     "name": "stdout",
     "output_type": "stream",
     "text": [
      "已处理: drummer7_session2_16_rock_118_fill_4-4_4-fake.wav -> drummer7_session2_16_rock_118_fill_4-4_4-fake.mp3\n",
      "已处理: drummer1_session1_121_funk_95_fill_4-4_55.wav -> drummer1_session1_121_funk_95_fill_4-4_55.mp3\n"
     ]
    },
    {
     "name": "stderr",
     "output_type": "stream",
     "text": [
      " 22%|██▏       | 24/109 [00:04<00:13,  6.22it/s]"
     ]
    },
    {
     "name": "stdout",
     "output_type": "stream",
     "text": [
      "已处理: drummer1_session1_203_rock-halftime_140_fill_4-4_43.wav -> drummer1_session1_203_rock-halftime_140_fill_4-4_43.mp3\n",
      "已处理: drummer1_session1_261_funk-purdieshuffle_130_fill_4-4_4.wav -> drummer1_session1_261_funk-purdieshuffle_130_fill_4-4_4.mp3\n"
     ]
    },
    {
     "name": "stderr",
     "output_type": "stream",
     "text": [
      " 24%|██▍       | 26/109 [00:04<00:14,  5.74it/s]"
     ]
    },
    {
     "name": "stdout",
     "output_type": "stream",
     "text": [
      "已处理: drummer1_session1_17_jazz-funk_116_fill_4-4_37.wav -> drummer1_session1_17_jazz-funk_116_fill_4-4_37.mp3\n",
      "已处理: drummer3_session1_7_rock_105_beat_4-4_43-fake.wav -> drummer3_session1_7_rock_105_beat_4-4_43-fake.mp3\n"
     ]
    },
    {
     "name": "stderr",
     "output_type": "stream",
     "text": [
      " 26%|██▌       | 28/109 [00:04<00:13,  5.91it/s]"
     ]
    },
    {
     "name": "stdout",
     "output_type": "stream",
     "text": [
      "已处理: drummer1_session3_15_funk_117_beat_4-4_4-fake.wav -> drummer1_session3_15_funk_117_beat_4-4_4-fake.mp3\n",
      "已处理: drummer1_session1_140_funk-fast_125_fill_4-4_37.wav -> drummer1_session1_140_funk-fast_125_fill_4-4_37.mp3\n"
     ]
    },
    {
     "name": "stderr",
     "output_type": "stream",
     "text": [
      " 28%|██▊       | 30/109 [00:05<00:13,  6.07it/s]"
     ]
    },
    {
     "name": "stdout",
     "output_type": "stream",
     "text": [
      "已处理: drummer1_session2_38_punk_128_fill_4-4_34.wav -> drummer1_session2_38_punk_128_fill_4-4_34.mp3\n",
      "已处理: drummer1_session2_62_punk_144_beat_4-4_37-fake.wav -> drummer1_session2_62_punk_144_beat_4-4_37-fake.mp3\n"
     ]
    },
    {
     "name": "stderr",
     "output_type": "stream",
     "text": [
      " 29%|██▉       | 32/109 [00:05<00:14,  5.48it/s]"
     ]
    },
    {
     "name": "stdout",
     "output_type": "stream",
     "text": [
      "已处理: drummer7_session2_14_rock_95_beat_4-4_55.wav -> drummer7_session2_14_rock_95_beat_4-4_55.mp3\n",
      "已处理: drummer1_session3_15_funk_117_beat_4-4_55-fake.wav -> drummer1_session3_15_funk_117_beat_4-4_55-fake.mp3\n"
     ]
    },
    {
     "name": "stderr",
     "output_type": "stream",
     "text": [
      " 31%|███       | 34/109 [00:05<00:13,  5.46it/s]"
     ]
    },
    {
     "name": "stdout",
     "output_type": "stream",
     "text": [
      "已处理: drummer7_session1_2_rock_86_fill_4-4_34.wav -> drummer7_session1_2_rock_86_fill_4-4_34.mp3\n",
      "已处理: drummer7_session2_16_rock_118_fill_4-4_34-fake.wav -> drummer7_session2_16_rock_118_fill_4-4_34-fake.mp3\n"
     ]
    },
    {
     "name": "stderr",
     "output_type": "stream",
     "text": [
      " 33%|███▎      | 36/109 [00:06<00:13,  5.34it/s]"
     ]
    },
    {
     "name": "stdout",
     "output_type": "stream",
     "text": [
      "已处理: drummer7_session3_88_neworleans-funk_93_fill_4-4_37-fake.wav -> drummer7_session3_88_neworleans-funk_93_fill_4-4_37-fake.mp3\n",
      "已处理: drummer1_session2_142_gospel_120_beat_4-4_55-fake.wav -> drummer1_session2_142_gospel_120_beat_4-4_55-fake.mp3\n"
     ]
    },
    {
     "name": "stderr",
     "output_type": "stream",
     "text": [
      " 35%|███▍      | 38/109 [00:06<00:12,  5.78it/s]"
     ]
    },
    {
     "name": "stdout",
     "output_type": "stream",
     "text": [
      "已处理: drummer1_session2_100_funk-rock_92_fill_4-4_34.wav -> drummer1_session2_100_funk-rock_92_fill_4-4_34.mp3\n",
      "已处理: drummer1_session1_17_jazz-funk_116_fill_4-4_55.wav -> drummer1_session1_17_jazz-funk_116_fill_4-4_55.mp3\n"
     ]
    },
    {
     "name": "stderr",
     "output_type": "stream",
     "text": [
      " 36%|███▌      | 39/109 [00:06<00:11,  6.18it/s]"
     ]
    },
    {
     "name": "stdout",
     "output_type": "stream",
     "text": [
      "已处理: drummer1_session1_216_rock-halftime_140_fill_4-4_4.wav -> drummer1_session1_216_rock-halftime_140_fill_4-4_4.mp3\n"
     ]
    },
    {
     "name": "stderr",
     "output_type": "stream",
     "text": [
      " 38%|███▊      | 41/109 [00:07<00:11,  6.14it/s]"
     ]
    },
    {
     "name": "stdout",
     "output_type": "stream",
     "text": [
      "已处理: drummer3_session2_25_hiphop_92_beat_4-4_37-fake.wav -> drummer3_session2_25_hiphop_92_beat_4-4_37-fake.mp3\n",
      "已处理: drummer1_session1_261_funk-purdieshuffle_130_fill_4-4_43.wav -> drummer1_session1_261_funk-purdieshuffle_130_fill_4-4_43.mp3\n"
     ]
    },
    {
     "name": "stderr",
     "output_type": "stream",
     "text": [
      " 39%|███▉      | 43/109 [00:07<00:10,  6.26it/s]"
     ]
    },
    {
     "name": "stdout",
     "output_type": "stream",
     "text": [
      "已处理: drummer1_session1_216_rock-halftime_140_fill_4-4_55.wav -> drummer1_session1_216_rock-halftime_140_fill_4-4_55.mp3\n",
      "已处理: drummer1_session1_121_funk_95_fill_4-4_37.wav -> drummer1_session1_121_funk_95_fill_4-4_37.mp3\n"
     ]
    },
    {
     "name": "stderr",
     "output_type": "stream",
     "text": [
      " 41%|████▏     | 45/109 [00:07<00:11,  5.75it/s]"
     ]
    },
    {
     "name": "stdout",
     "output_type": "stream",
     "text": [
      "已处理: drummer7_session2_14_rock_95_beat_4-4_4.wav -> drummer7_session2_14_rock_95_beat_4-4_4.mp3\n",
      "已处理: drummer1_session2_62_punk_144_beat_4-4_34-fake.wav -> drummer1_session2_62_punk_144_beat_4-4_34-fake.mp3\n"
     ]
    },
    {
     "name": "stderr",
     "output_type": "stream",
     "text": [
      " 43%|████▎     | 47/109 [00:08<00:10,  5.84it/s]"
     ]
    },
    {
     "name": "stdout",
     "output_type": "stream",
     "text": [
      "已处理: drummer3_session1_7_rock_105_beat_4-4_4-fake.wav -> drummer3_session1_7_rock_105_beat_4-4_4-fake.mp3\n",
      "已处理: drummer1_session1_261_funk-purdieshuffle_130_fill_4-4_55.wav -> drummer1_session1_261_funk-purdieshuffle_130_fill_4-4_55.mp3\n"
     ]
    },
    {
     "name": "stderr",
     "output_type": "stream",
     "text": [
      " 45%|████▍     | 49/109 [00:08<00:10,  5.50it/s]"
     ]
    },
    {
     "name": "stdout",
     "output_type": "stream",
     "text": [
      "已处理: drummer7_session2_27_rock_75_beat_4-4_43-fake.wav -> drummer7_session2_27_rock_75_beat_4-4_43-fake.mp3\n",
      "已处理: drummer7_session2_16_rock_118_fill_4-4_55-fake.wav -> drummer7_session2_16_rock_118_fill_4-4_55-fake.mp3\n"
     ]
    },
    {
     "name": "stderr",
     "output_type": "stream",
     "text": [
      " 46%|████▌     | 50/109 [00:08<00:11,  5.36it/s]"
     ]
    },
    {
     "name": "stdout",
     "output_type": "stream",
     "text": [
      "已处理: drummer1_session3_15_funk_117_beat_4-4_34-fake.wav -> drummer1_session3_15_funk_117_beat_4-4_34-fake.mp3\n"
     ]
    },
    {
     "name": "stderr",
     "output_type": "stream",
     "text": [
      " 47%|████▋     | 51/109 [00:08<00:11,  5.13it/s]"
     ]
    },
    {
     "name": "stdout",
     "output_type": "stream",
     "text": [
      "已处理: drummer7_session1_2_rock_86_fill_4-4_43.wav -> drummer7_session1_2_rock_86_fill_4-4_43.mp3\n"
     ]
    },
    {
     "name": "stderr",
     "output_type": "stream",
     "text": [
      " 48%|████▊     | 52/109 [00:09<00:11,  5.03it/s]"
     ]
    },
    {
     "name": "stdout",
     "output_type": "stream",
     "text": [
      "已处理: drummer3_session2_25_hiphop_92_beat_4-4_4-fake.wav -> drummer3_session2_25_hiphop_92_beat_4-4_4-fake.mp3\n"
     ]
    },
    {
     "name": "stderr",
     "output_type": "stream",
     "text": [
      " 50%|████▉     | 54/109 [00:09<00:10,  5.37it/s]"
     ]
    },
    {
     "name": "stdout",
     "output_type": "stream",
     "text": [
      "已处理: drummer7_session1_2_rock_86_fill_4-4_55.wav -> drummer7_session1_2_rock_86_fill_4-4_55.mp3\n",
      "已处理: drummer1_session1_140_funk-fast_125_fill_4-4_4.wav -> drummer1_session1_140_funk-fast_125_fill_4-4_4.mp3\n"
     ]
    },
    {
     "name": "stderr",
     "output_type": "stream",
     "text": [
      " 51%|█████▏    | 56/109 [00:09<00:09,  5.72it/s]"
     ]
    },
    {
     "name": "stdout",
     "output_type": "stream",
     "text": [
      "已处理: drummer1_session1_38_latin-samba_116_beat_4-4_55.wav -> drummer1_session1_38_latin-samba_116_beat_4-4_55.mp3\n",
      "已处理: drummer1_session2_38_punk_128_fill_4-4_43.wav -> drummer1_session2_38_punk_128_fill_4-4_43.mp3\n"
     ]
    },
    {
     "name": "stderr",
     "output_type": "stream",
     "text": [
      " 53%|█████▎    | 58/109 [00:10<00:08,  5.91it/s]"
     ]
    },
    {
     "name": "stdout",
     "output_type": "stream",
     "text": [
      "已处理: drummer7_session2_70_rock_145_fill_4-4_4-fake.wav -> drummer7_session2_70_rock_145_fill_4-4_4-fake.mp3\n",
      "已处理: drummer1_session1_121_funk_95_fill_4-4_43.wav -> drummer1_session1_121_funk_95_fill_4-4_43.mp3\n"
     ]
    },
    {
     "name": "stderr",
     "output_type": "stream",
     "text": [
      " 55%|█████▌    | 60/109 [00:10<00:08,  5.97it/s]"
     ]
    },
    {
     "name": "stdout",
     "output_type": "stream",
     "text": [
      "已处理: drummer1_session1_121_funk_95_fill_4-4_34.wav -> drummer1_session1_121_funk_95_fill_4-4_34.mp3\n",
      "已处理: drummer1_session1_203_rock-halftime_140_fill_4-4_55.wav -> drummer1_session1_203_rock-halftime_140_fill_4-4_55.mp3\n"
     ]
    },
    {
     "name": "stderr",
     "output_type": "stream",
     "text": [
      " 57%|█████▋    | 62/109 [00:10<00:08,  5.70it/s]"
     ]
    },
    {
     "name": "stdout",
     "output_type": "stream",
     "text": [
      "已处理: drummer1_session1_203_rock-halftime_140_fill_4-4_37.wav -> drummer1_session1_203_rock-halftime_140_fill_4-4_37.mp3\n",
      "已处理: drummer1_session1_38_latin-samba_116_beat_4-4_43.wav -> drummer1_session1_38_latin-samba_116_beat_4-4_43.mp3\n"
     ]
    },
    {
     "name": "stderr",
     "output_type": "stream",
     "text": [
      " 59%|█████▊    | 64/109 [00:11<00:08,  5.30it/s]"
     ]
    },
    {
     "name": "stdout",
     "output_type": "stream",
     "text": [
      "已处理: drummer7_session2_14_rock_95_beat_4-4_37.wav -> drummer7_session2_14_rock_95_beat_4-4_37.mp3\n",
      "已处理: drummer7_session2_120_jazz-fusion_96_fill_4-4_43-fake.wav -> drummer7_session2_120_jazz-fusion_96_fill_4-4_43-fake.mp3\n"
     ]
    },
    {
     "name": "stderr",
     "output_type": "stream",
     "text": [
      " 61%|██████    | 66/109 [00:11<00:07,  5.51it/s]"
     ]
    },
    {
     "name": "stdout",
     "output_type": "stream",
     "text": [
      "已处理: drummer1_session1_17_jazz-funk_116_fill_4-4_34.wav -> drummer1_session1_17_jazz-funk_116_fill_4-4_34.mp3\n",
      "已处理: drummer7_session2_70_rock_145_fill_4-4_37-fake.wav -> drummer7_session2_70_rock_145_fill_4-4_37-fake.mp3\n"
     ]
    },
    {
     "name": "stderr",
     "output_type": "stream",
     "text": [
      " 62%|██████▏   | 68/109 [00:11<00:06,  6.16it/s]"
     ]
    },
    {
     "name": "stdout",
     "output_type": "stream",
     "text": [
      "已处理: drummer1_session1_216_rock-halftime_140_fill_4-4_34.wav -> drummer1_session1_216_rock-halftime_140_fill_4-4_34.mp3\n",
      "已处理: drummer1_session1_216_rock-halftime_140_fill_4-4_37.wav -> drummer1_session1_216_rock-halftime_140_fill_4-4_37.mp3\n"
     ]
    },
    {
     "name": "stderr",
     "output_type": "stream",
     "text": [
      " 64%|██████▍   | 70/109 [00:12<00:06,  5.99it/s]"
     ]
    },
    {
     "name": "stdout",
     "output_type": "stream",
     "text": [
      "已处理: drummer7_session2_14_rock_95_beat_4-4_43.wav -> drummer7_session2_14_rock_95_beat_4-4_43.mp3\n",
      "已处理: drummer1_session1_261_funk-purdieshuffle_130_fill_4-4_37.wav -> drummer1_session1_261_funk-purdieshuffle_130_fill_4-4_37.mp3\n"
     ]
    },
    {
     "name": "stderr",
     "output_type": "stream",
     "text": [
      " 66%|██████▌   | 72/109 [00:12<00:06,  5.67it/s]"
     ]
    },
    {
     "name": "stdout",
     "output_type": "stream",
     "text": [
      "已处理: drummer7_session2_70_rock_145_fill_4-4_43-fake.wav -> drummer7_session2_70_rock_145_fill_4-4_43-fake.mp3\n",
      "已处理: drummer3_session1_7_rock_105_beat_4-4_34-fake.wav -> drummer3_session1_7_rock_105_beat_4-4_34-fake.mp3\n"
     ]
    },
    {
     "name": "stderr",
     "output_type": "stream",
     "text": [
      " 68%|██████▊   | 74/109 [00:13<00:06,  5.15it/s]"
     ]
    },
    {
     "name": "stdout",
     "output_type": "stream",
     "text": [
      "已处理: drummer3_session2_25_hiphop_92_beat_4-4_43-fake.wav -> drummer3_session2_25_hiphop_92_beat_4-4_43-fake.mp3\n",
      "已处理: drummer7_session3_88_neworleans-funk_93_fill_4-4_34-fake.wav -> drummer7_session3_88_neworleans-funk_93_fill_4-4_34-fake.mp3\n"
     ]
    },
    {
     "name": "stderr",
     "output_type": "stream",
     "text": [
      " 70%|██████▉   | 76/109 [00:13<00:06,  5.32it/s]"
     ]
    },
    {
     "name": "stdout",
     "output_type": "stream",
     "text": [
      "已处理: drummer1_session1_203_rock-halftime_140_fill_4-4_34.wav -> drummer1_session1_203_rock-halftime_140_fill_4-4_34.mp3\n",
      "已处理: drummer1_session2_142_gospel_120_beat_4-4_4-fake.wav -> drummer1_session2_142_gospel_120_beat_4-4_4-fake.mp3\n"
     ]
    },
    {
     "name": "stderr",
     "output_type": "stream",
     "text": [
      " 72%|███████▏  | 78/109 [00:13<00:05,  5.41it/s]"
     ]
    },
    {
     "name": "stdout",
     "output_type": "stream",
     "text": [
      "已处理: drummer1_session1_157_latin-brazilian-baiao_95_fill_4-4_37-fake.wav -> drummer1_session1_157_latin-brazilian-baiao_95_fill_4-4_37-fake.mp3\n",
      "已处理: drummer7_session2_27_rock_75_beat_4-4_4-fake.wav -> drummer7_session2_27_rock_75_beat_4-4_4-fake.mp3\n"
     ]
    },
    {
     "name": "stderr",
     "output_type": "stream",
     "text": [
      " 73%|███████▎  | 80/109 [00:14<00:05,  5.51it/s]"
     ]
    },
    {
     "name": "stdout",
     "output_type": "stream",
     "text": [
      "已处理: drummer1_session1_157_latin-brazilian-baiao_95_fill_4-4_34-fake.wav -> drummer1_session1_157_latin-brazilian-baiao_95_fill_4-4_34-fake.mp3\n",
      "已处理: drummer7_session2_120_jazz-fusion_96_fill_4-4_4-fake.wav -> drummer7_session2_120_jazz-fusion_96_fill_4-4_4-fake.mp3\n"
     ]
    },
    {
     "name": "stderr",
     "output_type": "stream",
     "text": [
      " 75%|███████▌  | 82/109 [00:14<00:05,  5.38it/s]"
     ]
    },
    {
     "name": "stdout",
     "output_type": "stream",
     "text": [
      "已处理: drummer7_session2_27_rock_75_beat_4-4_55-fake.wav -> drummer7_session2_27_rock_75_beat_4-4_55-fake.mp3\n",
      "已处理: drummer1_session2_100_funk-rock_92_fill_4-4_4.wav -> drummer1_session2_100_funk-rock_92_fill_4-4_4.mp3\n"
     ]
    },
    {
     "name": "stderr",
     "output_type": "stream",
     "text": [
      " 76%|███████▌  | 83/109 [00:14<00:04,  5.31it/s]"
     ]
    },
    {
     "name": "stdout",
     "output_type": "stream",
     "text": [
      "已处理: drummer1_session3_15_funk_117_beat_4-4_43-fake.wav -> drummer1_session3_15_funk_117_beat_4-4_43-fake.mp3\n"
     ]
    },
    {
     "name": "stderr",
     "output_type": "stream",
     "text": [
      " 77%|███████▋  | 84/109 [00:14<00:04,  5.14it/s]"
     ]
    },
    {
     "name": "stdout",
     "output_type": "stream",
     "text": [
      "已处理: drummer7_session2_120_jazz-fusion_96_fill_4-4_37-fake.wav -> drummer7_session2_120_jazz-fusion_96_fill_4-4_37-fake.mp3\n"
     ]
    },
    {
     "name": "stderr",
     "output_type": "stream",
     "text": [
      " 79%|███████▉  | 86/109 [00:15<00:04,  5.48it/s]"
     ]
    },
    {
     "name": "stdout",
     "output_type": "stream",
     "text": [
      "已处理: drummer7_session2_27_rock_75_beat_4-4_34-fake.wav -> drummer7_session2_27_rock_75_beat_4-4_34-fake.mp3\n",
      "已处理: drummer1_session2_38_punk_128_fill_4-4_4.wav -> drummer1_session2_38_punk_128_fill_4-4_4.mp3\n"
     ]
    },
    {
     "name": "stderr",
     "output_type": "stream",
     "text": [
      " 81%|████████  | 88/109 [00:15<00:03,  5.82it/s]"
     ]
    },
    {
     "name": "stdout",
     "output_type": "stream",
     "text": [
      "已处理: drummer1_session1_140_funk-fast_125_fill_4-4_43.wav -> drummer1_session1_140_funk-fast_125_fill_4-4_43.mp3\n",
      "已处理: drummer1_session2_62_punk_144_beat_4-4_4-fake.wav -> drummer1_session2_62_punk_144_beat_4-4_4-fake.mp3\n"
     ]
    },
    {
     "name": "stderr",
     "output_type": "stream",
     "text": [
      " 83%|████████▎ | 90/109 [00:15<00:03,  5.78it/s]"
     ]
    },
    {
     "name": "stdout",
     "output_type": "stream",
     "text": [
      "已处理: drummer7_session3_88_neworleans-funk_93_fill_4-4_55-fake.wav -> drummer7_session3_88_neworleans-funk_93_fill_4-4_55-fake.mp3\n",
      "已处理: drummer1_session3_15_funk_117_beat_4-4_37-fake.wav -> drummer1_session3_15_funk_117_beat_4-4_37-fake.mp3\n"
     ]
    },
    {
     "name": "stderr",
     "output_type": "stream",
     "text": [
      " 84%|████████▍ | 92/109 [00:16<00:02,  5.75it/s]"
     ]
    },
    {
     "name": "stdout",
     "output_type": "stream",
     "text": [
      "已处理: drummer7_session2_120_jazz-fusion_96_fill_4-4_34-fake.wav -> drummer7_session2_120_jazz-fusion_96_fill_4-4_34-fake.mp3\n",
      "已处理: drummer1_session2_100_funk-rock_92_fill_4-4_37.wav -> drummer1_session2_100_funk-rock_92_fill_4-4_37.mp3\n"
     ]
    },
    {
     "name": "stderr",
     "output_type": "stream",
     "text": [
      " 86%|████████▌ | 94/109 [00:16<00:02,  5.97it/s]"
     ]
    },
    {
     "name": "stdout",
     "output_type": "stream",
     "text": [
      "已处理: drummer1_session1_38_latin-samba_116_beat_4-4_4.wav -> drummer1_session1_38_latin-samba_116_beat_4-4_4.mp3\n",
      "已处理: drummer1_session2_100_funk-rock_92_fill_4-4_55.wav -> drummer1_session2_100_funk-rock_92_fill_4-4_55.mp3\n"
     ]
    },
    {
     "name": "stderr",
     "output_type": "stream",
     "text": [
      " 88%|████████▊ | 96/109 [00:16<00:02,  6.13it/s]"
     ]
    },
    {
     "name": "stdout",
     "output_type": "stream",
     "text": [
      "已处理: drummer1_session1_38_latin-samba_116_beat_4-4_34.wav -> drummer1_session1_38_latin-samba_116_beat_4-4_34.mp3\n",
      "已处理: drummer1_session1_140_funk-fast_125_fill_4-4_34.wav -> drummer1_session1_140_funk-fast_125_fill_4-4_34.mp3\n"
     ]
    },
    {
     "name": "stderr",
     "output_type": "stream",
     "text": [
      " 90%|████████▉ | 98/109 [00:17<00:01,  5.92it/s]"
     ]
    },
    {
     "name": "stdout",
     "output_type": "stream",
     "text": [
      "已处理: drummer1_session2_38_punk_128_fill_4-4_55.wav -> drummer1_session2_38_punk_128_fill_4-4_55.mp3\n",
      "已处理: drummer3_session2_25_hiphop_92_beat_4-4_34-fake.wav -> drummer3_session2_25_hiphop_92_beat_4-4_34-fake.mp3\n"
     ]
    },
    {
     "name": "stderr",
     "output_type": "stream",
     "text": [
      " 92%|█████████▏| 100/109 [00:17<00:01,  5.77it/s]"
     ]
    },
    {
     "name": "stdout",
     "output_type": "stream",
     "text": [
      "已处理: drummer3_session1_7_rock_105_beat_4-4_37-fake.wav -> drummer3_session1_7_rock_105_beat_4-4_37-fake.mp3\n",
      "已处理: drummer1_session2_100_funk-rock_92_fill_4-4_43.wav -> drummer1_session2_100_funk-rock_92_fill_4-4_43.mp3\n"
     ]
    },
    {
     "name": "stderr",
     "output_type": "stream",
     "text": [
      " 94%|█████████▎| 102/109 [00:18<00:01,  5.75it/s]"
     ]
    },
    {
     "name": "stdout",
     "output_type": "stream",
     "text": [
      "已处理: drummer7_session1_2_rock_86_fill_4-4_4.wav -> drummer7_session1_2_rock_86_fill_4-4_4.mp3\n",
      "已处理: drummer7_session2_70_rock_145_fill_4-4_34-fake.wav -> drummer7_session2_70_rock_145_fill_4-4_34-fake.mp3\n"
     ]
    },
    {
     "name": "stderr",
     "output_type": "stream",
     "text": [
      " 95%|█████████▌| 104/109 [00:18<00:00,  5.69it/s]"
     ]
    },
    {
     "name": "stdout",
     "output_type": "stream",
     "text": [
      "已处理: drummer7_session3_88_neworleans-funk_93_fill_4-4_4-fake.wav -> drummer7_session3_88_neworleans-funk_93_fill_4-4_4-fake.mp3\n",
      "已处理: drummer1_session2_62_punk_144_beat_4-4_55-fake.wav -> drummer1_session2_62_punk_144_beat_4-4_55-fake.mp3\n"
     ]
    },
    {
     "name": "stderr",
     "output_type": "stream",
     "text": [
      " 96%|█████████▋| 105/109 [00:18<00:00,  5.36it/s]"
     ]
    },
    {
     "name": "stdout",
     "output_type": "stream",
     "text": [
      "已处理: drummer3_session2_25_hiphop_92_beat_4-4_55-fake.wav -> drummer3_session2_25_hiphop_92_beat_4-4_55-fake.mp3\n"
     ]
    },
    {
     "name": "stderr",
     "output_type": "stream",
     "text": [
      " 97%|█████████▋| 106/109 [00:18<00:00,  5.05it/s]"
     ]
    },
    {
     "name": "stdout",
     "output_type": "stream",
     "text": [
      "已处理: drummer7_session2_27_rock_75_beat_4-4_37-fake.wav -> drummer7_session2_27_rock_75_beat_4-4_37-fake.mp3\n"
     ]
    },
    {
     "name": "stderr",
     "output_type": "stream",
     "text": [
      " 99%|█████████▉| 108/109 [00:19<00:00,  5.39it/s]"
     ]
    },
    {
     "name": "stdout",
     "output_type": "stream",
     "text": [
      "已处理: drummer7_session1_2_rock_86_fill_4-4_37.wav -> drummer7_session1_2_rock_86_fill_4-4_37.mp3\n",
      "已处理: drummer1_session1_216_rock-halftime_140_fill_4-4_43.wav -> drummer1_session1_216_rock-halftime_140_fill_4-4_43.mp3\n"
     ]
    },
    {
     "name": "stderr",
     "output_type": "stream",
     "text": [
      "100%|██████████| 109/109 [00:19<00:00,  5.63it/s]\n"
     ]
    },
    {
     "name": "stdout",
     "output_type": "stream",
     "text": [
      "已处理: drummer1_session1_261_funk-purdieshuffle_130_fill_4-4_34.wav -> drummer1_session1_261_funk-purdieshuffle_130_fill_4-4_34.mp3\n"
     ]
    },
    {
     "name": "stderr",
     "output_type": "stream",
     "text": [
      "  1%|          | 1/99 [00:00<00:17,  5.58it/s]"
     ]
    },
    {
     "name": "stdout",
     "output_type": "stream",
     "text": [
      "已处理: drummer1_session1_17_jazz-funk_116_fill_4-4_43.wav -> drummer1_session1_17_jazz-funk_116_fill_4-4_43.mp3\n"
     ]
    },
    {
     "name": "stderr",
     "output_type": "stream",
     "text": [
      "  3%|▎         | 3/99 [00:00<00:18,  5.29it/s]"
     ]
    },
    {
     "name": "stdout",
     "output_type": "stream",
     "text": [
      "已处理: drummer3_session2_25_hiphop_92_beat_4-4_4.wav -> drummer3_session2_25_hiphop_92_beat_4-4_4.mp3\n",
      "已处理: drummer1_session1_17_jazz-funk_116_fill_4-4_4.wav -> drummer1_session1_17_jazz-funk_116_fill_4-4_4.mp3\n"
     ]
    },
    {
     "name": "stderr",
     "output_type": "stream",
     "text": [
      "  5%|▌         | 5/99 [00:00<00:17,  5.40it/s]"
     ]
    },
    {
     "name": "stdout",
     "output_type": "stream",
     "text": [
      "已处理: drummer1_session1_203_rock-halftime_140_fill_4-4_4.wav -> drummer1_session1_203_rock-halftime_140_fill_4-4_4.mp3\n",
      "已处理: drummer1_session2_142_gospel_120_beat_4-4_4.wav -> drummer1_session2_142_gospel_120_beat_4-4_4.mp3\n"
     ]
    },
    {
     "name": "stderr",
     "output_type": "stream",
     "text": [
      "  7%|▋         | 7/99 [00:01<00:16,  5.61it/s]"
     ]
    },
    {
     "name": "stdout",
     "output_type": "stream",
     "text": [
      "已处理: drummer7_session2_14_rock_95_beat_4-4_34.wav -> drummer7_session2_14_rock_95_beat_4-4_34.mp3\n",
      "已处理: drummer1_session1_140_funk-fast_125_fill_4-4_55.wav -> drummer1_session1_140_funk-fast_125_fill_4-4_55.mp3\n"
     ]
    },
    {
     "name": "stderr",
     "output_type": "stream",
     "text": [
      "  8%|▊         | 8/99 [00:01<00:15,  5.83it/s]"
     ]
    },
    {
     "name": "stdout",
     "output_type": "stream",
     "text": [
      "已处理: drummer7_session2_16_rock_118_fill_4-4_55.wav -> drummer7_session2_16_rock_118_fill_4-4_55.mp3\n"
     ]
    },
    {
     "name": "stderr",
     "output_type": "stream",
     "text": [
      " 10%|█         | 10/99 [00:01<00:15,  5.71it/s]"
     ]
    },
    {
     "name": "stdout",
     "output_type": "stream",
     "text": [
      "已处理: drummer7_session2_27_rock_75_beat_4-4_4.wav -> drummer7_session2_27_rock_75_beat_4-4_4.mp3\n",
      "已处理: drummer1_session1_157_latin-brazilian-baiao_95_fill_4-4_34.wav -> drummer1_session1_157_latin-brazilian-baiao_95_fill_4-4_34.mp3\n"
     ]
    },
    {
     "name": "stderr",
     "output_type": "stream",
     "text": [
      " 12%|█▏        | 12/99 [00:02<00:15,  5.49it/s]"
     ]
    },
    {
     "name": "stdout",
     "output_type": "stream",
     "text": [
      "已处理: drummer3_session1_7_rock_105_beat_4-4_43.wav -> drummer3_session1_7_rock_105_beat_4-4_43.mp3\n",
      "已处理: drummer1_session2_142_gospel_120_beat_4-4_37.wav -> drummer1_session2_142_gospel_120_beat_4-4_37.mp3\n"
     ]
    },
    {
     "name": "stderr",
     "output_type": "stream",
     "text": [
      " 14%|█▍        | 14/99 [00:02<00:16,  5.28it/s]"
     ]
    },
    {
     "name": "stdout",
     "output_type": "stream",
     "text": [
      "已处理: drummer1_session2_142_gospel_120_beat_4-4_55.wav -> drummer1_session2_142_gospel_120_beat_4-4_55.mp3\n",
      "已处理: drummer7_session3_88_neworleans-funk_93_fill_4-4_4.wav -> drummer7_session3_88_neworleans-funk_93_fill_4-4_4.mp3\n"
     ]
    },
    {
     "name": "stderr",
     "output_type": "stream",
     "text": [
      " 16%|█▌        | 16/99 [00:02<00:13,  6.03it/s]"
     ]
    },
    {
     "name": "stdout",
     "output_type": "stream",
     "text": [
      "已处理: drummer1_session1_121_funk_95_fill_4-4_4.wav -> drummer1_session1_121_funk_95_fill_4-4_4.mp3\n",
      "已处理: drummer1_session2_38_punk_128_fill_4-4_37.wav -> drummer1_session2_38_punk_128_fill_4-4_37.mp3\n"
     ]
    },
    {
     "name": "stderr",
     "output_type": "stream",
     "text": [
      " 18%|█▊        | 18/99 [00:03<00:13,  6.08it/s]"
     ]
    },
    {
     "name": "stdout",
     "output_type": "stream",
     "text": [
      "已处理: drummer7_session2_16_rock_118_fill_4-4_43.wav -> drummer7_session2_16_rock_118_fill_4-4_43.mp3\n",
      "已处理: drummer1_session2_62_punk_144_beat_4-4_43.wav -> drummer1_session2_62_punk_144_beat_4-4_43.mp3\n"
     ]
    },
    {
     "name": "stderr",
     "output_type": "stream",
     "text": [
      " 20%|██        | 20/99 [00:03<00:12,  6.14it/s]"
     ]
    },
    {
     "name": "stdout",
     "output_type": "stream",
     "text": [
      "已处理: drummer1_session2_62_punk_144_beat_4-4_4.wav -> drummer1_session2_62_punk_144_beat_4-4_4.mp3\n",
      "已处理: drummer1_session1_121_funk_95_fill_4-4_55.wav -> drummer1_session1_121_funk_95_fill_4-4_55.mp3\n"
     ]
    },
    {
     "name": "stderr",
     "output_type": "stream",
     "text": [
      " 22%|██▏       | 22/99 [00:03<00:13,  5.86it/s]"
     ]
    },
    {
     "name": "stdout",
     "output_type": "stream",
     "text": [
      "已处理: drummer1_session3_15_funk_117_beat_4-4_4.wav -> drummer1_session3_15_funk_117_beat_4-4_4.mp3\n",
      "已处理: drummer1_session1_203_rock-halftime_140_fill_4-4_43.wav -> drummer1_session1_203_rock-halftime_140_fill_4-4_43.mp3\n"
     ]
    },
    {
     "name": "stderr",
     "output_type": "stream",
     "text": [
      " 24%|██▍       | 24/99 [00:04<00:12,  5.93it/s]"
     ]
    },
    {
     "name": "stdout",
     "output_type": "stream",
     "text": [
      "已处理: drummer1_session1_261_funk-purdieshuffle_130_fill_4-4_4.wav -> drummer1_session1_261_funk-purdieshuffle_130_fill_4-4_4.mp3\n",
      "已处理: drummer1_session1_17_jazz-funk_116_fill_4-4_37.wav -> drummer1_session1_17_jazz-funk_116_fill_4-4_37.mp3\n"
     ]
    },
    {
     "name": "stderr",
     "output_type": "stream",
     "text": [
      " 26%|██▋       | 26/99 [00:04<00:11,  6.18it/s]"
     ]
    },
    {
     "name": "stdout",
     "output_type": "stream",
     "text": [
      "已处理: drummer7_session2_70_rock_145_fill_4-4_34.wav -> drummer7_session2_70_rock_145_fill_4-4_34.mp3\n",
      "已处理: drummer1_session1_140_funk-fast_125_fill_4-4_37.wav -> drummer1_session1_140_funk-fast_125_fill_4-4_37.mp3\n"
     ]
    },
    {
     "name": "stderr",
     "output_type": "stream",
     "text": [
      " 28%|██▊       | 28/99 [00:04<00:11,  6.18it/s]"
     ]
    },
    {
     "name": "stdout",
     "output_type": "stream",
     "text": [
      "已处理: drummer1_session2_38_punk_128_fill_4-4_34.wav -> drummer1_session2_38_punk_128_fill_4-4_34.mp3\n",
      "已处理: drummer1_session2_62_punk_144_beat_4-4_37.wav -> drummer1_session2_62_punk_144_beat_4-4_37.mp3\n"
     ]
    },
    {
     "name": "stderr",
     "output_type": "stream",
     "text": [
      " 30%|███       | 30/99 [00:05<00:12,  5.58it/s]"
     ]
    },
    {
     "name": "stdout",
     "output_type": "stream",
     "text": [
      "已处理: drummer7_session2_14_rock_95_beat_4-4_55.wav -> drummer7_session2_14_rock_95_beat_4-4_55.mp3\n",
      "已处理: drummer7_session1_2_rock_86_fill_4-4_34.wav -> drummer7_session1_2_rock_86_fill_4-4_34.mp3\n"
     ]
    },
    {
     "name": "stderr",
     "output_type": "stream",
     "text": [
      " 32%|███▏      | 32/99 [00:05<00:12,  5.32it/s]"
     ]
    },
    {
     "name": "stdout",
     "output_type": "stream",
     "text": [
      "已处理: drummer7_session2_120_jazz-fusion_96_fill_4-4_43.wav -> drummer7_session2_120_jazz-fusion_96_fill_4-4_43.mp3\n",
      "已处理: drummer3_session1_7_rock_105_beat_4-4_34.wav -> drummer3_session1_7_rock_105_beat_4-4_34.mp3\n"
     ]
    },
    {
     "name": "stderr",
     "output_type": "stream",
     "text": [
      " 34%|███▍      | 34/99 [00:05<00:11,  5.62it/s]"
     ]
    },
    {
     "name": "stdout",
     "output_type": "stream",
     "text": [
      "已处理: drummer1_session2_62_punk_144_beat_4-4_55.wav -> drummer1_session2_62_punk_144_beat_4-4_55.mp3\n",
      "已处理: drummer1_session1_157_latin-brazilian-baiao_95_fill_4-4_37.wav -> drummer1_session1_157_latin-brazilian-baiao_95_fill_4-4_37.mp3\n"
     ]
    },
    {
     "name": "stderr",
     "output_type": "stream",
     "text": [
      " 36%|███▋      | 36/99 [00:06<00:10,  5.84it/s]"
     ]
    },
    {
     "name": "stdout",
     "output_type": "stream",
     "text": [
      "已处理: drummer1_session1_17_jazz-funk_116_fill_4-4_55.wav -> drummer1_session1_17_jazz-funk_116_fill_4-4_55.mp3\n",
      "已处理: drummer1_session1_216_rock-halftime_140_fill_4-4_4.wav -> drummer1_session1_216_rock-halftime_140_fill_4-4_4.mp3\n"
     ]
    },
    {
     "name": "stderr",
     "output_type": "stream",
     "text": [
      " 38%|███▊      | 38/99 [00:06<00:09,  6.17it/s]"
     ]
    },
    {
     "name": "stdout",
     "output_type": "stream",
     "text": [
      "已处理: drummer1_session1_157_latin-brazilian-baiao_95_fill_4-4_55.wav -> drummer1_session1_157_latin-brazilian-baiao_95_fill_4-4_55.mp3\n",
      "已处理: drummer1_session1_261_funk-purdieshuffle_130_fill_4-4_43.wav -> drummer1_session1_261_funk-purdieshuffle_130_fill_4-4_43.mp3\n"
     ]
    },
    {
     "name": "stderr",
     "output_type": "stream",
     "text": [
      " 40%|████      | 40/99 [00:06<00:10,  5.78it/s]"
     ]
    },
    {
     "name": "stdout",
     "output_type": "stream",
     "text": [
      "已处理: drummer1_session3_15_funk_117_beat_4-4_43.wav -> drummer1_session3_15_funk_117_beat_4-4_43.mp3\n",
      "已处理: drummer1_session3_15_funk_117_beat_4-4_34.wav -> drummer1_session3_15_funk_117_beat_4-4_34.mp3\n"
     ]
    },
    {
     "name": "stderr",
     "output_type": "stream",
     "text": [
      " 41%|████▏     | 41/99 [00:07<00:09,  6.12it/s]"
     ]
    },
    {
     "name": "stdout",
     "output_type": "stream",
     "text": [
      "已处理: drummer1_session1_216_rock-halftime_140_fill_4-4_55.wav -> drummer1_session1_216_rock-halftime_140_fill_4-4_55.mp3\n"
     ]
    },
    {
     "name": "stderr",
     "output_type": "stream",
     "text": [
      " 43%|████▎     | 43/99 [00:07<00:09,  5.84it/s]"
     ]
    },
    {
     "name": "stdout",
     "output_type": "stream",
     "text": [
      "已处理: drummer7_session3_88_neworleans-funk_93_fill_4-4_37.wav -> drummer7_session3_88_neworleans-funk_93_fill_4-4_37.mp3\n",
      "已处理: drummer1_session1_121_funk_95_fill_4-4_37.wav -> drummer1_session1_121_funk_95_fill_4-4_37.mp3\n"
     ]
    },
    {
     "name": "stderr",
     "output_type": "stream",
     "text": [
      " 45%|████▌     | 45/99 [00:07<00:10,  5.32it/s]"
     ]
    },
    {
     "name": "stdout",
     "output_type": "stream",
     "text": [
      "已处理: drummer7_session2_14_rock_95_beat_4-4_4.wav -> drummer7_session2_14_rock_95_beat_4-4_4.mp3\n",
      "已处理: drummer7_session3_88_neworleans-funk_93_fill_4-4_34.wav -> drummer7_session3_88_neworleans-funk_93_fill_4-4_34.mp3\n"
     ]
    },
    {
     "name": "stderr",
     "output_type": "stream",
     "text": [
      " 47%|████▋     | 47/99 [00:08<00:09,  5.77it/s]"
     ]
    },
    {
     "name": "stdout",
     "output_type": "stream",
     "text": [
      "已处理: drummer1_session1_261_funk-purdieshuffle_130_fill_4-4_55.wav -> drummer1_session1_261_funk-purdieshuffle_130_fill_4-4_55.mp3\n",
      "已处理: drummer1_session1_157_latin-brazilian-baiao_95_fill_4-4_43.wav -> drummer1_session1_157_latin-brazilian-baiao_95_fill_4-4_43.mp3\n"
     ]
    },
    {
     "name": "stderr",
     "output_type": "stream",
     "text": [
      " 48%|████▊     | 48/99 [00:08<00:09,  5.46it/s]"
     ]
    },
    {
     "name": "stdout",
     "output_type": "stream",
     "text": [
      "已处理: drummer7_session1_2_rock_86_fill_4-4_43.wav -> drummer7_session1_2_rock_86_fill_4-4_43.mp3\n"
     ]
    },
    {
     "name": "stderr",
     "output_type": "stream",
     "text": [
      " 51%|█████     | 50/99 [00:08<00:08,  5.59it/s]"
     ]
    },
    {
     "name": "stdout",
     "output_type": "stream",
     "text": [
      "已处理: drummer7_session1_2_rock_86_fill_4-4_55.wav -> drummer7_session1_2_rock_86_fill_4-4_55.mp3\n",
      "已处理: drummer7_session2_16_rock_118_fill_4-4_37.wav -> drummer7_session2_16_rock_118_fill_4-4_37.mp3\n"
     ]
    },
    {
     "name": "stderr",
     "output_type": "stream",
     "text": [
      " 53%|█████▎    | 52/99 [00:09<00:07,  5.94it/s]"
     ]
    },
    {
     "name": "stdout",
     "output_type": "stream",
     "text": [
      "已处理: drummer1_session1_140_funk-fast_125_fill_4-4_4.wav -> drummer1_session1_140_funk-fast_125_fill_4-4_4.mp3\n",
      "已处理: drummer7_session2_70_rock_145_fill_4-4_55.wav -> drummer7_session2_70_rock_145_fill_4-4_55.mp3\n"
     ]
    },
    {
     "name": "stderr",
     "output_type": "stream",
     "text": [
      " 55%|█████▍    | 54/99 [00:09<00:07,  5.78it/s]"
     ]
    },
    {
     "name": "stdout",
     "output_type": "stream",
     "text": [
      "已处理: drummer1_session2_38_punk_128_fill_4-4_43.wav -> drummer1_session2_38_punk_128_fill_4-4_43.mp3\n",
      "已处理: drummer3_session2_25_hiphop_92_beat_4-4_43.wav -> drummer3_session2_25_hiphop_92_beat_4-4_43.mp3\n"
     ]
    },
    {
     "name": "stderr",
     "output_type": "stream",
     "text": [
      " 56%|█████▌    | 55/99 [00:09<00:07,  5.98it/s]"
     ]
    },
    {
     "name": "stdout",
     "output_type": "stream",
     "text": [
      "已处理: drummer1_session1_121_funk_95_fill_4-4_43.wav -> drummer1_session1_121_funk_95_fill_4-4_43.mp3\n"
     ]
    },
    {
     "name": "stderr",
     "output_type": "stream",
     "text": [
      " 58%|█████▊    | 57/99 [00:09<00:07,  5.80it/s]"
     ]
    },
    {
     "name": "stdout",
     "output_type": "stream",
     "text": [
      "已处理: drummer3_session2_25_hiphop_92_beat_4-4_34.wav -> drummer3_session2_25_hiphop_92_beat_4-4_34.mp3\n",
      "已处理: drummer1_session1_121_funk_95_fill_4-4_34.wav -> drummer1_session1_121_funk_95_fill_4-4_34.mp3\n"
     ]
    },
    {
     "name": "stderr",
     "output_type": "stream",
     "text": [
      " 59%|█████▊    | 58/99 [00:10<00:07,  5.69it/s]"
     ]
    },
    {
     "name": "stdout",
     "output_type": "stream",
     "text": [
      "已处理: drummer7_session2_120_jazz-fusion_96_fill_4-4_34.wav -> drummer7_session2_120_jazz-fusion_96_fill_4-4_34.mp3\n"
     ]
    },
    {
     "name": "stderr",
     "output_type": "stream",
     "text": [
      " 61%|██████    | 60/99 [00:10<00:06,  5.58it/s]"
     ]
    },
    {
     "name": "stdout",
     "output_type": "stream",
     "text": [
      "已处理: drummer7_session2_120_jazz-fusion_96_fill_4-4_37.wav -> drummer7_session2_120_jazz-fusion_96_fill_4-4_37.mp3\n",
      "已处理: drummer1_session1_203_rock-halftime_140_fill_4-4_55.wav -> drummer1_session1_203_rock-halftime_140_fill_4-4_55.mp3\n"
     ]
    },
    {
     "name": "stderr",
     "output_type": "stream",
     "text": [
      " 63%|██████▎   | 62/99 [00:10<00:06,  5.72it/s]"
     ]
    },
    {
     "name": "stdout",
     "output_type": "stream",
     "text": [
      "已处理: drummer1_session1_203_rock-halftime_140_fill_4-4_37.wav -> drummer1_session1_203_rock-halftime_140_fill_4-4_37.mp3\n",
      "已处理: drummer1_session2_62_punk_144_beat_4-4_34.wav -> drummer1_session2_62_punk_144_beat_4-4_34.mp3\n"
     ]
    },
    {
     "name": "stderr",
     "output_type": "stream",
     "text": [
      " 65%|██████▍   | 64/99 [00:11<00:06,  5.46it/s]"
     ]
    },
    {
     "name": "stdout",
     "output_type": "stream",
     "text": [
      "已处理: drummer7_session2_14_rock_95_beat_4-4_37.wav -> drummer7_session2_14_rock_95_beat_4-4_37.mp3\n",
      "已处理: drummer1_session3_15_funk_117_beat_4-4_37.wav -> drummer1_session3_15_funk_117_beat_4-4_37.mp3\n"
     ]
    },
    {
     "name": "stderr",
     "output_type": "stream",
     "text": [
      " 67%|██████▋   | 66/99 [00:11<00:06,  5.35it/s]"
     ]
    },
    {
     "name": "stdout",
     "output_type": "stream",
     "text": [
      "已处理: drummer1_session1_17_jazz-funk_116_fill_4-4_34.wav -> drummer1_session1_17_jazz-funk_116_fill_4-4_34.mp3\n",
      "已处理: drummer7_session3_88_neworleans-funk_93_fill_4-4_43.wav -> drummer7_session3_88_neworleans-funk_93_fill_4-4_43.mp3\n"
     ]
    },
    {
     "name": "stderr",
     "output_type": "stream",
     "text": [
      " 69%|██████▊   | 68/99 [00:11<00:05,  5.73it/s]"
     ]
    },
    {
     "name": "stdout",
     "output_type": "stream",
     "text": [
      "已处理: drummer1_session1_216_rock-halftime_140_fill_4-4_34.wav -> drummer1_session1_216_rock-halftime_140_fill_4-4_34.mp3\n",
      "已处理: drummer1_session1_157_latin-brazilian-baiao_95_fill_4-4_4.wav -> drummer1_session1_157_latin-brazilian-baiao_95_fill_4-4_4.mp3\n"
     ]
    },
    {
     "name": "stderr",
     "output_type": "stream",
     "text": [
      " 71%|███████   | 70/99 [00:12<00:05,  5.61it/s]"
     ]
    },
    {
     "name": "stdout",
     "output_type": "stream",
     "text": [
      "已处理: drummer7_session2_16_rock_118_fill_4-4_4.wav -> drummer7_session2_16_rock_118_fill_4-4_4.mp3\n",
      "已处理: drummer3_session1_7_rock_105_beat_4-4_4.wav -> drummer3_session1_7_rock_105_beat_4-4_4.mp3\n"
     ]
    },
    {
     "name": "stderr",
     "output_type": "stream",
     "text": [
      " 73%|███████▎  | 72/99 [00:12<00:04,  5.92it/s]"
     ]
    },
    {
     "name": "stdout",
     "output_type": "stream",
     "text": [
      "已处理: drummer1_session1_216_rock-halftime_140_fill_4-4_37.wav -> drummer1_session1_216_rock-halftime_140_fill_4-4_37.mp3\n",
      "已处理: drummer1_session3_15_funk_117_beat_4-4_55.wav -> drummer1_session3_15_funk_117_beat_4-4_55.mp3\n"
     ]
    },
    {
     "name": "stderr",
     "output_type": "stream",
     "text": [
      " 74%|███████▎  | 73/99 [00:12<00:04,  5.62it/s]"
     ]
    },
    {
     "name": "stdout",
     "output_type": "stream",
     "text": [
      "已处理: drummer7_session2_14_rock_95_beat_4-4_43.wav -> drummer7_session2_14_rock_95_beat_4-4_43.mp3\n"
     ]
    },
    {
     "name": "stderr",
     "output_type": "stream",
     "text": [
      " 76%|███████▌  | 75/99 [00:13<00:04,  5.77it/s]"
     ]
    },
    {
     "name": "stdout",
     "output_type": "stream",
     "text": [
      "已处理: drummer3_session2_25_hiphop_92_beat_4-4_37.wav -> drummer3_session2_25_hiphop_92_beat_4-4_37.mp3\n",
      "已处理: drummer1_session1_261_funk-purdieshuffle_130_fill_4-4_37.wav -> drummer1_session1_261_funk-purdieshuffle_130_fill_4-4_37.mp3\n"
     ]
    },
    {
     "name": "stderr",
     "output_type": "stream",
     "text": [
      " 78%|███████▊  | 77/99 [00:13<00:03,  5.82it/s]"
     ]
    },
    {
     "name": "stdout",
     "output_type": "stream",
     "text": [
      "已处理: drummer7_session2_70_rock_145_fill_4-4_37.wav -> drummer7_session2_70_rock_145_fill_4-4_37.mp3\n",
      "已处理: drummer1_session1_203_rock-halftime_140_fill_4-4_34.wav -> drummer1_session1_203_rock-halftime_140_fill_4-4_34.mp3\n"
     ]
    },
    {
     "name": "stderr",
     "output_type": "stream",
     "text": [
      " 79%|███████▉  | 78/99 [00:13<00:03,  5.89it/s]"
     ]
    },
    {
     "name": "stdout",
     "output_type": "stream",
     "text": [
      "已处理: drummer7_session2_70_rock_145_fill_4-4_43.wav -> drummer7_session2_70_rock_145_fill_4-4_43.mp3\n"
     ]
    },
    {
     "name": "stderr",
     "output_type": "stream",
     "text": [
      " 80%|███████▉  | 79/99 [00:13<00:03,  5.56it/s]"
     ]
    },
    {
     "name": "stdout",
     "output_type": "stream",
     "text": [
      "已处理: drummer7_session2_120_jazz-fusion_96_fill_4-4_4.wav -> drummer7_session2_120_jazz-fusion_96_fill_4-4_4.mp3\n"
     ]
    },
    {
     "name": "stderr",
     "output_type": "stream",
     "text": [
      " 81%|████████  | 80/99 [00:14<00:03,  5.17it/s]"
     ]
    },
    {
     "name": "stdout",
     "output_type": "stream",
     "text": [
      "已处理: drummer7_session2_27_rock_75_beat_4-4_43.wav -> drummer7_session2_27_rock_75_beat_4-4_43.mp3\n"
     ]
    },
    {
     "name": "stderr",
     "output_type": "stream",
     "text": [
      " 82%|████████▏ | 81/99 [00:14<00:03,  5.09it/s]"
     ]
    },
    {
     "name": "stdout",
     "output_type": "stream",
     "text": [
      "已处理: drummer3_session2_25_hiphop_92_beat_4-4_55.wav -> drummer3_session2_25_hiphop_92_beat_4-4_55.mp3\n"
     ]
    },
    {
     "name": "stderr",
     "output_type": "stream",
     "text": [
      " 83%|████████▎ | 82/99 [00:14<00:03,  5.03it/s]"
     ]
    },
    {
     "name": "stdout",
     "output_type": "stream",
     "text": [
      "已处理: drummer7_session3_88_neworleans-funk_93_fill_4-4_55.wav -> drummer7_session3_88_neworleans-funk_93_fill_4-4_55.mp3\n"
     ]
    },
    {
     "name": "stderr",
     "output_type": "stream",
     "text": [
      " 85%|████████▍ | 84/99 [00:14<00:02,  5.11it/s]"
     ]
    },
    {
     "name": "stdout",
     "output_type": "stream",
     "text": [
      "已处理: drummer7_session2_27_rock_75_beat_4-4_34.wav -> drummer7_session2_27_rock_75_beat_4-4_34.mp3\n",
      "已处理: drummer7_session2_70_rock_145_fill_4-4_4.wav -> drummer7_session2_70_rock_145_fill_4-4_4.mp3\n"
     ]
    },
    {
     "name": "stderr",
     "output_type": "stream",
     "text": [
      " 87%|████████▋ | 86/99 [00:15<00:02,  5.67it/s]"
     ]
    },
    {
     "name": "stdout",
     "output_type": "stream",
     "text": [
      "已处理: drummer1_session2_142_gospel_120_beat_4-4_43.wav -> drummer1_session2_142_gospel_120_beat_4-4_43.mp3\n",
      "已处理: drummer1_session2_38_punk_128_fill_4-4_4.wav -> drummer1_session2_38_punk_128_fill_4-4_4.mp3\n"
     ]
    },
    {
     "name": "stderr",
     "output_type": "stream",
     "text": [
      " 88%|████████▊ | 87/99 [00:15<00:02,  5.90it/s]"
     ]
    },
    {
     "name": "stdout",
     "output_type": "stream",
     "text": [
      "已处理: drummer1_session1_140_funk-fast_125_fill_4-4_43.wav -> drummer1_session1_140_funk-fast_125_fill_4-4_43.mp3\n"
     ]
    },
    {
     "name": "stderr",
     "output_type": "stream",
     "text": [
      " 89%|████████▉ | 88/99 [00:15<00:02,  5.44it/s]"
     ]
    },
    {
     "name": "stdout",
     "output_type": "stream",
     "text": [
      "已处理: drummer7_session2_27_rock_75_beat_4-4_55.wav -> drummer7_session2_27_rock_75_beat_4-4_55.mp3\n"
     ]
    },
    {
     "name": "stderr",
     "output_type": "stream",
     "text": [
      " 91%|█████████ | 90/99 [00:15<00:01,  5.51it/s]"
     ]
    },
    {
     "name": "stdout",
     "output_type": "stream",
     "text": [
      "已处理: drummer7_session2_27_rock_75_beat_4-4_37.wav -> drummer7_session2_27_rock_75_beat_4-4_37.mp3\n",
      "已处理: drummer7_session2_16_rock_118_fill_4-4_34.wav -> drummer7_session2_16_rock_118_fill_4-4_34.mp3\n"
     ]
    },
    {
     "name": "stderr",
     "output_type": "stream",
     "text": [
      " 93%|█████████▎| 92/99 [00:16<00:01,  5.32it/s]"
     ]
    },
    {
     "name": "stdout",
     "output_type": "stream",
     "text": [
      "已处理: drummer3_session1_7_rock_105_beat_4-4_55.wav -> drummer3_session1_7_rock_105_beat_4-4_55.mp3\n",
      "已处理: drummer3_session1_7_rock_105_beat_4-4_37.wav -> drummer3_session1_7_rock_105_beat_4-4_37.mp3\n"
     ]
    },
    {
     "name": "stderr",
     "output_type": "stream",
     "text": [
      " 95%|█████████▍| 94/99 [00:16<00:00,  6.01it/s]"
     ]
    },
    {
     "name": "stdout",
     "output_type": "stream",
     "text": [
      "已处理: drummer1_session1_140_funk-fast_125_fill_4-4_34.wav -> drummer1_session1_140_funk-fast_125_fill_4-4_34.mp3\n",
      "已处理: drummer1_session2_38_punk_128_fill_4-4_55.wav -> drummer1_session2_38_punk_128_fill_4-4_55.mp3\n"
     ]
    },
    {
     "name": "stderr",
     "output_type": "stream",
     "text": [
      " 97%|█████████▋| 96/99 [00:17<00:00,  5.46it/s]"
     ]
    },
    {
     "name": "stdout",
     "output_type": "stream",
     "text": [
      "已处理: drummer7_session1_2_rock_86_fill_4-4_4.wav -> drummer7_session1_2_rock_86_fill_4-4_4.mp3\n",
      "已处理: drummer7_session2_120_jazz-fusion_96_fill_4-4_55.wav -> drummer7_session2_120_jazz-fusion_96_fill_4-4_55.mp3\n"
     ]
    },
    {
     "name": "stderr",
     "output_type": "stream",
     "text": [
      " 99%|█████████▉| 98/99 [00:17<00:00,  5.71it/s]"
     ]
    },
    {
     "name": "stdout",
     "output_type": "stream",
     "text": [
      "已处理: drummer7_session1_2_rock_86_fill_4-4_37.wav -> drummer7_session1_2_rock_86_fill_4-4_37.mp3\n",
      "已处理: drummer1_session1_216_rock-halftime_140_fill_4-4_43.wav -> drummer1_session1_216_rock-halftime_140_fill_4-4_43.mp3\n"
     ]
    },
    {
     "name": "stderr",
     "output_type": "stream",
     "text": [
      "100%|██████████| 99/99 [00:17<00:00,  5.65it/s]\n"
     ]
    },
    {
     "name": "stdout",
     "output_type": "stream",
     "text": [
      "已处理: drummer1_session1_261_funk-purdieshuffle_130_fill_4-4_34.wav -> drummer1_session1_261_funk-purdieshuffle_130_fill_4-4_34.mp3\n"
     ]
    },
    {
     "name": "stderr",
     "output_type": "stream",
     "text": [
      "  1%|          | 1/104 [00:00<00:17,  5.95it/s]"
     ]
    },
    {
     "name": "stdout",
     "output_type": "stream",
     "text": [
      "已处理: drummer7_session2_27_rock_75_beat_4-4_43__drummer1_session2_1_latin-chacarera_157_beat_3-4_43.wav -> drummer7_session2_27_rock_75_beat_4-4_43__drummer1_session2_1_latin-chacarera_157_beat_3-4_43.mp3\n"
     ]
    },
    {
     "name": "stderr",
     "output_type": "stream",
     "text": [
      "  2%|▏         | 2/104 [00:00<00:18,  5.66it/s]"
     ]
    },
    {
     "name": "stdout",
     "output_type": "stream",
     "text": [
      "已处理: drummer1_session2_142_gospel_120_beat_4-4_37__drummer6_session3_1_rock_90_beat_4-4_37.wav -> drummer1_session2_142_gospel_120_beat_4-4_37__drummer6_session3_1_rock_90_beat_4-4_37.mp3\n"
     ]
    },
    {
     "name": "stderr",
     "output_type": "stream",
     "text": [
      "  3%|▎         | 3/104 [00:00<00:18,  5.44it/s]"
     ]
    },
    {
     "name": "stdout",
     "output_type": "stream",
     "text": [
      "已处理: drummer3_session1_7_rock_105_beat_4-4_4__drummer5_session2_17_latin-brazilian-samba_110_beat_4-4_4.wav -> drummer3_session1_7_rock_105_beat_4-4_4__drummer5_session2_17_latin-brazilian-samba_110_beat_4-4_4.mp3\n"
     ]
    },
    {
     "name": "stderr",
     "output_type": "stream",
     "text": [
      "  4%|▍         | 4/104 [00:00<00:18,  5.53it/s]"
     ]
    },
    {
     "name": "stdout",
     "output_type": "stream",
     "text": [
      "已处理: drummer3_session1_7_rock_105_beat_4-4_43__drummer1_session1_126_funk-fast_125_beat_4-4_43.wav -> drummer3_session1_7_rock_105_beat_4-4_43__drummer1_session1_126_funk-fast_125_beat_4-4_43.mp3\n"
     ]
    },
    {
     "name": "stderr",
     "output_type": "stream",
     "text": [
      "  5%|▍         | 5/104 [00:00<00:16,  6.10it/s]"
     ]
    },
    {
     "name": "stdout",
     "output_type": "stream",
     "text": [
      "已处理: drummer7_session3_88_neworleans-funk_93_fill_4-4_37__drummer1_session2_14_country_114_fill_4-4_37.wav -> drummer7_session3_88_neworleans-funk_93_fill_4-4_37__drummer1_session2_14_country_114_fill_4-4_37.mp3\n"
     ]
    },
    {
     "name": "stderr",
     "output_type": "stream",
     "text": [
      "  6%|▌         | 6/104 [00:01<00:15,  6.22it/s]"
     ]
    },
    {
     "name": "stdout",
     "output_type": "stream",
     "text": [
      "已处理: drummer1_session1_261_funk-purdieshuffle_130_fill_4-4_43__drummer7_session2_16_rock_118_fill_4-4_43.wav -> drummer1_session1_261_funk-purdieshuffle_130_fill_4-4_43__drummer7_session2_16_rock_118_fill_4-4_43.mp3\n"
     ]
    },
    {
     "name": "stderr",
     "output_type": "stream",
     "text": [
      "  8%|▊         | 8/104 [00:01<00:15,  6.14it/s]"
     ]
    },
    {
     "name": "stdout",
     "output_type": "stream",
     "text": [
      "已处理: drummer3_session1_7_rock_105_beat_4-4_55__drummer7_session3_11_pop-soft_83_beat_4-4_55.wav -> drummer3_session1_7_rock_105_beat_4-4_55__drummer7_session3_11_pop-soft_83_beat_4-4_55.mp3\n",
      "已处理: drummer1_session1_17_jazz-funk_116_fill_4-4_55__drummer1_session2_134_afrocuban-bembe_122_fill_4-4_55.wav -> drummer1_session1_17_jazz-funk_116_fill_4-4_55__drummer1_session2_134_afrocuban-bembe_122_fill_4-4_55.mp3\n"
     ]
    },
    {
     "name": "stderr",
     "output_type": "stream",
     "text": [
      " 10%|▉         | 10/104 [00:01<00:14,  6.64it/s]"
     ]
    },
    {
     "name": "stdout",
     "output_type": "stream",
     "text": [
      "已处理: drummer1_session1_261_funk-purdieshuffle_130_fill_4-4_34__drummer1_session2_133_afrocuban-bembe_122_fill_4-4_34.wav -> drummer1_session1_261_funk-purdieshuffle_130_fill_4-4_34__drummer1_session2_133_afrocuban-bembe_122_fill_4-4_34.mp3\n",
      "已处理: drummer1_session1_216_rock-halftime_140_fill_4-4_37__drummer1_session2_195_rock_115_fill_4-4_37.wav -> drummer1_session1_216_rock-halftime_140_fill_4-4_37__drummer1_session2_195_rock_115_fill_4-4_37.mp3\n"
     ]
    },
    {
     "name": "stderr",
     "output_type": "stream",
     "text": [
      " 12%|█▏        | 12/104 [00:01<00:15,  6.03it/s]"
     ]
    },
    {
     "name": "stdout",
     "output_type": "stream",
     "text": [
      "已处理: drummer7_session2_16_rock_118_fill_4-4_37__drummer7_session2_66_rock_145_fill_4-4_37.wav -> drummer7_session2_16_rock_118_fill_4-4_37__drummer7_session2_66_rock_145_fill_4-4_37.mp3\n",
      "已处理: drummer7_session1_2_rock_86_fill_4-4_55__drummer7_session2_10_rock_95_fill_4-4_55.wav -> drummer7_session1_2_rock_86_fill_4-4_55__drummer7_session2_10_rock_95_fill_4-4_55.mp3\n"
     ]
    },
    {
     "name": "stderr",
     "output_type": "stream",
     "text": [
      " 13%|█▎        | 14/104 [00:02<00:15,  5.96it/s]"
     ]
    },
    {
     "name": "stdout",
     "output_type": "stream",
     "text": [
      "已处理: drummer7_session2_14_rock_95_beat_4-4_34__drummer7_session2_113_jazz-fusion_96_beat_4-4_34.wav -> drummer7_session2_14_rock_95_beat_4-4_34__drummer7_session2_113_jazz-fusion_96_beat_4-4_34.mp3\n",
      "已处理: drummer1_session1_261_funk-purdieshuffle_130_fill_4-4_37__drummer7_session3_143_soul_105_fill_4-4_37.wav -> drummer1_session1_261_funk-purdieshuffle_130_fill_4-4_37__drummer7_session3_143_soul_105_fill_4-4_37.mp3\n"
     ]
    },
    {
     "name": "stderr",
     "output_type": "stream",
     "text": [
      " 15%|█▌        | 16/104 [00:02<00:14,  6.05it/s]"
     ]
    },
    {
     "name": "stdout",
     "output_type": "stream",
     "text": [
      "已处理: drummer7_session2_70_rock_145_fill_4-4_55__drummer1_session2_185_rock_115_fill_4-4_55.wav -> drummer7_session2_70_rock_145_fill_4-4_55__drummer1_session2_185_rock_115_fill_4-4_55.mp3\n",
      "已处理: drummer1_session3_15_funk_117_beat_4-4_43__drummer1_session2_62_punk_144_beat_4-4_43.wav -> drummer1_session3_15_funk_117_beat_4-4_43__drummer1_session2_62_punk_144_beat_4-4_43.mp3\n"
     ]
    },
    {
     "name": "stderr",
     "output_type": "stream",
     "text": [
      " 17%|█▋        | 18/104 [00:02<00:14,  6.14it/s]"
     ]
    },
    {
     "name": "stdout",
     "output_type": "stream",
     "text": [
      "已处理: drummer3_session2_25_hiphop_92_beat_4-4_34__drummer1_session2_142_gospel_120_beat_4-4_34.wav -> drummer3_session2_25_hiphop_92_beat_4-4_34__drummer1_session2_142_gospel_120_beat_4-4_34.mp3\n",
      "已处理: drummer7_session2_14_rock_95_beat_4-4_4__drummer3_session1_37_rock_120_beat_4-4_4.wav -> drummer7_session2_14_rock_95_beat_4-4_4__drummer3_session1_37_rock_120_beat_4-4_4.mp3\n"
     ]
    },
    {
     "name": "stderr",
     "output_type": "stream",
     "text": [
      " 19%|█▉        | 20/104 [00:03<00:14,  5.85it/s]"
     ]
    },
    {
     "name": "stdout",
     "output_type": "stream",
     "text": [
      "已处理: drummer7_session2_70_rock_145_fill_4-4_37__drummer7_session3_144_soul_105_fill_4-4_37.wav -> drummer7_session2_70_rock_145_fill_4-4_37__drummer7_session3_144_soul_105_fill_4-4_37.mp3\n",
      "已处理: drummer7_session2_70_rock_145_fill_4-4_34__drummer7_session2_119_jazz-fusion_96_fill_4-4_34.wav -> drummer7_session2_70_rock_145_fill_4-4_34__drummer7_session2_119_jazz-fusion_96_fill_4-4_34.mp3\n"
     ]
    },
    {
     "name": "stderr",
     "output_type": "stream",
     "text": [
      " 21%|██        | 22/104 [00:03<00:15,  5.43it/s]"
     ]
    },
    {
     "name": "stdout",
     "output_type": "stream",
     "text": [
      "已处理: drummer3_session1_7_rock_105_beat_4-4_37__drummer5_session2_15_latin-venezuelan-joropo_80_beat_4-4_37.wav -> drummer3_session1_7_rock_105_beat_4-4_37__drummer5_session2_15_latin-venezuelan-joropo_80_beat_4-4_37.mp3\n",
      "已处理: drummer1_session1_17_jazz-funk_116_fill_4-4_34__drummer7_session2_120_jazz-fusion_96_fill_4-4_34.wav -> drummer1_session1_17_jazz-funk_116_fill_4-4_34__drummer7_session2_120_jazz-fusion_96_fill_4-4_34.mp3\n"
     ]
    },
    {
     "name": "stderr",
     "output_type": "stream",
     "text": [
      " 23%|██▎       | 24/104 [00:04<00:14,  5.69it/s]"
     ]
    },
    {
     "name": "stdout",
     "output_type": "stream",
     "text": [
      "已处理: drummer7_session2_16_rock_118_fill_4-4_55__drummer1_session1_30_latin-samba_116_fill_4-4_55.wav -> drummer7_session2_16_rock_118_fill_4-4_55__drummer1_session1_30_latin-samba_116_fill_4-4_55.mp3\n",
      "已处理: drummer1_session1_203_rock-halftime_140_fill_4-4_37__drummer1_session1_99_neworleans-funk_84_fill_4-4_37.wav -> drummer1_session1_203_rock-halftime_140_fill_4-4_37__drummer1_session1_99_neworleans-funk_84_fill_4-4_37.mp3\n"
     ]
    },
    {
     "name": "stderr",
     "output_type": "stream",
     "text": [
      " 25%|██▌       | 26/104 [00:04<00:13,  5.72it/s]"
     ]
    },
    {
     "name": "stdout",
     "output_type": "stream",
     "text": [
      "已处理: drummer1_session2_100_funk-rock_92_fill_4-4_55__drummer1_session1_236_rock-halftime_140_fill_4-4_55.wav -> drummer1_session2_100_funk-rock_92_fill_4-4_55__drummer1_session1_236_rock-halftime_140_fill_4-4_55.mp3\n",
      "已处理: drummer7_session2_27_rock_75_beat_4-4_4__drummer6_session3_1_rock_90_beat_4-4_4.wav -> drummer7_session2_27_rock_75_beat_4-4_4__drummer6_session3_1_rock_90_beat_4-4_4.mp3\n"
     ]
    },
    {
     "name": "stderr",
     "output_type": "stream",
     "text": [
      " 27%|██▋       | 28/104 [00:04<00:13,  5.71it/s]"
     ]
    },
    {
     "name": "stdout",
     "output_type": "stream",
     "text": [
      "已处理: drummer1_session1_261_funk-purdieshuffle_130_fill_4-4_4__drummer1_session2_144_gospel_120_fill_4-4_4.wav -> drummer1_session1_261_funk-purdieshuffle_130_fill_4-4_4__drummer1_session2_144_gospel_120_fill_4-4_4.mp3\n",
      "已处理: drummer1_session2_62_punk_144_beat_4-4_55__drummer7_session1_13_funk_102_beat_4-4_55.wav -> drummer1_session2_62_punk_144_beat_4-4_55__drummer7_session1_13_funk_102_beat_4-4_55.mp3\n"
     ]
    },
    {
     "name": "stderr",
     "output_type": "stream",
     "text": [
      " 29%|██▉       | 30/104 [00:05<00:12,  6.09it/s]"
     ]
    },
    {
     "name": "stdout",
     "output_type": "stream",
     "text": [
      "已处理: drummer1_session1_121_funk_95_fill_4-4_55__drummer1_session1_218_rock-halftime_140_fill_4-4_55.wav -> drummer1_session1_121_funk_95_fill_4-4_55__drummer1_session1_218_rock-halftime_140_fill_4-4_55.mp3\n",
      "已处理: drummer7_session1_2_rock_86_fill_4-4_4__drummer1_session1_196_reggae_78_fill_4-4_4.wav -> drummer7_session1_2_rock_86_fill_4-4_4__drummer1_session1_196_reggae_78_fill_4-4_4.mp3\n"
     ]
    },
    {
     "name": "stderr",
     "output_type": "stream",
     "text": [
      " 31%|███       | 32/104 [00:05<00:11,  6.08it/s]"
     ]
    },
    {
     "name": "stdout",
     "output_type": "stream",
     "text": [
      "已处理: drummer7_session2_120_jazz-fusion_96_fill_4-4_55__drummer1_session2_87_punk_144_fill_4-4_55.wav -> drummer7_session2_120_jazz-fusion_96_fill_4-4_55__drummer1_session2_87_punk_144_fill_4-4_55.mp3\n",
      "已处理: drummer1_session2_38_punk_128_fill_4-4_4__drummer7_session2_58_soul-motown_148_fill_4-4_4.wav -> drummer1_session2_38_punk_128_fill_4-4_4__drummer7_session2_58_soul-motown_148_fill_4-4_4.mp3\n"
     ]
    },
    {
     "name": "stderr",
     "output_type": "stream",
     "text": [
      " 33%|███▎      | 34/104 [00:05<00:10,  6.37it/s]"
     ]
    },
    {
     "name": "stdout",
     "output_type": "stream",
     "text": [
      "已处理: drummer1_session1_17_jazz-funk_116_fill_4-4_43__drummer7_session3_107_hiphop_70_fill_4-4_43.wav -> drummer1_session1_17_jazz-funk_116_fill_4-4_43__drummer7_session3_107_hiphop_70_fill_4-4_43.mp3\n",
      "已处理: drummer7_session1_2_rock_86_fill_4-4_43__drummer7_session3_144_soul_105_fill_4-4_43.wav -> drummer7_session1_2_rock_86_fill_4-4_43__drummer7_session3_144_soul_105_fill_4-4_43.mp3\n"
     ]
    },
    {
     "name": "stderr",
     "output_type": "stream",
     "text": [
      " 35%|███▍      | 36/104 [00:06<00:11,  6.07it/s]"
     ]
    },
    {
     "name": "stdout",
     "output_type": "stream",
     "text": [
      "已处理: drummer7_session2_16_rock_118_fill_4-4_43__drummer7_session2_91_hiphop_75_fill_4-4_43.wav -> drummer7_session2_16_rock_118_fill_4-4_43__drummer7_session2_91_hiphop_75_fill_4-4_43.mp3\n",
      "已处理: drummer1_session2_38_punk_128_fill_4-4_55__drummer7_session2_73_funk_100_fill_4-4_55.wav -> drummer1_session2_38_punk_128_fill_4-4_55__drummer7_session2_73_funk_100_fill_4-4_55.mp3\n"
     ]
    },
    {
     "name": "stderr",
     "output_type": "stream",
     "text": [
      " 37%|███▋      | 38/104 [00:06<00:10,  6.02it/s]"
     ]
    },
    {
     "name": "stdout",
     "output_type": "stream",
     "text": [
      "已处理: drummer3_session2_25_hiphop_92_beat_4-4_43__drummer7_session2_8_rock_95_beat_4-4_43.wav -> drummer3_session2_25_hiphop_92_beat_4-4_43__drummer7_session2_8_rock_95_beat_4-4_43.mp3\n",
      "已处理: drummer7_session3_88_neworleans-funk_93_fill_4-4_34__drummer1_session1_133_funk-fast_125_fill_4-4_34.wav -> drummer7_session3_88_neworleans-funk_93_fill_4-4_34__drummer1_session1_133_funk-fast_125_fill_4-4_34.mp3\n"
     ]
    },
    {
     "name": "stderr",
     "output_type": "stream",
     "text": [
      " 38%|███▊      | 40/104 [00:06<00:10,  6.12it/s]"
     ]
    },
    {
     "name": "stdout",
     "output_type": "stream",
     "text": [
      "已处理: drummer1_session1_121_funk_95_fill_4-4_34__drummer7_session3_34_hiphop_67_fill_4-4_34.wav -> drummer1_session1_121_funk_95_fill_4-4_34__drummer7_session3_34_hiphop_67_fill_4-4_34.mp3\n",
      "已处理: drummer1_session2_100_funk-rock_92_fill_4-4_43__drummer1_session2_196_rock_115_fill_4-4_43.wav -> drummer1_session2_100_funk-rock_92_fill_4-4_43__drummer1_session2_196_rock_115_fill_4-4_43.mp3\n"
     ]
    },
    {
     "name": "stderr",
     "output_type": "stream",
     "text": [
      " 40%|████      | 42/104 [00:06<00:08,  6.96it/s]"
     ]
    },
    {
     "name": "stdout",
     "output_type": "stream",
     "text": [
      "已处理: drummer1_session2_38_punk_128_fill_4-4_37__drummer1_session2_149_gospel_120_fill_4-4_37.wav -> drummer1_session2_38_punk_128_fill_4-4_37__drummer1_session2_149_gospel_120_fill_4-4_37.mp3\n",
      "已处理: drummer1_session1_121_funk_95_fill_4-4_43__drummer1_session2_135_afrocuban-bembe_122_fill_4-4_43.wav -> drummer1_session1_121_funk_95_fill_4-4_43__drummer1_session2_135_afrocuban-bembe_122_fill_4-4_43.mp3\n"
     ]
    },
    {
     "name": "stderr",
     "output_type": "stream",
     "text": [
      " 42%|████▏     | 44/104 [00:07<00:09,  6.55it/s]"
     ]
    },
    {
     "name": "stdout",
     "output_type": "stream",
     "text": [
      "已处理: drummer7_session2_120_jazz-fusion_96_fill_4-4_37__drummer1_session2_57_punk_128_fill_4-4_37.wav -> drummer7_session2_120_jazz-fusion_96_fill_4-4_37__drummer1_session2_57_punk_128_fill_4-4_37.mp3\n",
      "已处理: drummer1_session2_142_gospel_120_beat_4-4_4__drummer1_session2_1_latin-chacarera_157_beat_3-4_4.wav -> drummer1_session2_142_gospel_120_beat_4-4_4__drummer1_session2_1_latin-chacarera_157_beat_3-4_4.mp3\n"
     ]
    },
    {
     "name": "stderr",
     "output_type": "stream",
     "text": [
      " 44%|████▍     | 46/104 [00:07<00:09,  5.81it/s]"
     ]
    },
    {
     "name": "stdout",
     "output_type": "stream",
     "text": [
      "已处理: drummer7_session2_14_rock_95_beat_4-4_37__drummer8_session1_16_afrobeat_90_beat_4-4_37.wav -> drummer7_session2_14_rock_95_beat_4-4_37__drummer8_session1_16_afrobeat_90_beat_4-4_37.mp3\n",
      "已处理: drummer1_session1_121_funk_95_fill_4-4_4__drummer7_session2_10_rock_95_fill_4-4_4.wav -> drummer1_session1_121_funk_95_fill_4-4_4__drummer7_session2_10_rock_95_fill_4-4_4.mp3\n"
     ]
    },
    {
     "name": "stderr",
     "output_type": "stream",
     "text": [
      " 46%|████▌     | 48/104 [00:08<00:09,  5.78it/s]"
     ]
    },
    {
     "name": "stdout",
     "output_type": "stream",
     "text": [
      "已处理: drummer1_session1_203_rock-halftime_140_fill_4-4_43__drummer7_session3_88_neworleans-funk_93_fill_4-4_43.wav -> drummer1_session1_203_rock-halftime_140_fill_4-4_43__drummer7_session3_88_neworleans-funk_93_fill_4-4_43.mp3\n",
      "已处理: drummer1_session1_17_jazz-funk_116_fill_4-4_37__drummer1_session2_107_funk-rock_92_fill_4-4_37.wav -> drummer1_session1_17_jazz-funk_116_fill_4-4_37__drummer1_session2_107_funk-rock_92_fill_4-4_37.mp3\n"
     ]
    },
    {
     "name": "stderr",
     "output_type": "stream",
     "text": [
      " 47%|████▋     | 49/104 [00:08<00:09,  6.05it/s]"
     ]
    },
    {
     "name": "stdout",
     "output_type": "stream",
     "text": [
      "已处理: drummer1_session2_100_funk-rock_92_fill_4-4_34__drummer1_session2_78_punk_144_fill_4-4_34.wav -> drummer1_session2_100_funk-rock_92_fill_4-4_34__drummer1_session2_78_punk_144_fill_4-4_34.mp3\n"
     ]
    },
    {
     "name": "stderr",
     "output_type": "stream",
     "text": [
      " 49%|████▉     | 51/104 [00:08<00:09,  5.71it/s]"
     ]
    },
    {
     "name": "stdout",
     "output_type": "stream",
     "text": [
      "已处理: drummer1_session2_38_punk_128_fill_4-4_43__drummer7_session2_119_jazz-fusion_96_fill_4-4_43.wav -> drummer1_session2_38_punk_128_fill_4-4_43__drummer7_session2_119_jazz-fusion_96_fill_4-4_43.mp3\n",
      "已处理: drummer1_session1_203_rock-halftime_140_fill_4-4_55__drummer7_session2_58_soul-motown_148_fill_4-4_55.wav -> drummer1_session1_203_rock-halftime_140_fill_4-4_55__drummer7_session2_58_soul-motown_148_fill_4-4_55.mp3\n"
     ]
    },
    {
     "name": "stderr",
     "output_type": "stream",
     "text": [
      " 51%|█████     | 53/104 [00:08<00:08,  5.77it/s]"
     ]
    },
    {
     "name": "stdout",
     "output_type": "stream",
     "text": [
      "已处理: drummer7_session3_88_neworleans-funk_93_fill_4-4_55__drummer7_session3_70_neworleans-funk_93_fill_4-4_55.wav -> drummer7_session3_88_neworleans-funk_93_fill_4-4_55__drummer7_session3_70_neworleans-funk_93_fill_4-4_55.mp3\n",
      "已处理: drummer1_session2_38_punk_128_fill_4-4_34__drummer1_session1_157_latin-brazilian-baiao_95_fill_4-4_34.wav -> drummer1_session2_38_punk_128_fill_4-4_34__drummer1_session1_157_latin-brazilian-baiao_95_fill_4-4_34.mp3\n"
     ]
    },
    {
     "name": "stderr",
     "output_type": "stream",
     "text": [
      " 53%|█████▎    | 55/104 [00:09<00:08,  5.72it/s]"
     ]
    },
    {
     "name": "stdout",
     "output_type": "stream",
     "text": [
      "已处理: drummer1_session1_157_latin-brazilian-baiao_95_fill_4-4_34__drummer7_session2_10_rock_95_fill_4-4_34.wav -> drummer1_session1_157_latin-brazilian-baiao_95_fill_4-4_34__drummer7_session2_10_rock_95_fill_4-4_34.mp3\n",
      "已处理: drummer1_session2_62_punk_144_beat_4-4_37__drummer1_session3_15_funk_117_beat_4-4_37.wav -> drummer1_session2_62_punk_144_beat_4-4_37__drummer1_session3_15_funk_117_beat_4-4_37.mp3\n"
     ]
    },
    {
     "name": "stderr",
     "output_type": "stream",
     "text": [
      " 55%|█████▍    | 57/104 [00:09<00:08,  5.84it/s]"
     ]
    },
    {
     "name": "stdout",
     "output_type": "stream",
     "text": [
      "已处理: drummer1_session1_121_funk_95_fill_4-4_37__drummer1_session1_133_funk-fast_125_fill_4-4_37.wav -> drummer1_session1_121_funk_95_fill_4-4_37__drummer1_session1_133_funk-fast_125_fill_4-4_37.mp3\n",
      "已处理: drummer7_session2_27_rock_75_beat_4-4_34__drummer3_session2_25_hiphop_92_beat_4-4_34.wav -> drummer7_session2_27_rock_75_beat_4-4_34__drummer3_session2_25_hiphop_92_beat_4-4_34.mp3\n"
     ]
    },
    {
     "name": "stderr",
     "output_type": "stream",
     "text": [
      " 57%|█████▋    | 59/104 [00:09<00:07,  5.80it/s]"
     ]
    },
    {
     "name": "stdout",
     "output_type": "stream",
     "text": [
      "已处理: drummer1_session1_140_funk-fast_125_fill_4-4_55__drummer1_session2_25_country_114_fill_4-4_55.wav -> drummer1_session1_140_funk-fast_125_fill_4-4_55__drummer1_session2_25_country_114_fill_4-4_55.mp3\n",
      "已处理: drummer1_session2_142_gospel_120_beat_4-4_55__drummer1_session1_38_latin-samba_116_beat_4-4_55.wav -> drummer1_session2_142_gospel_120_beat_4-4_55__drummer1_session1_38_latin-samba_116_beat_4-4_55.mp3\n"
     ]
    },
    {
     "name": "stderr",
     "output_type": "stream",
     "text": [
      " 59%|█████▊    | 61/104 [00:10<00:07,  5.95it/s]"
     ]
    },
    {
     "name": "stdout",
     "output_type": "stream",
     "text": [
      "已处理: drummer1_session1_216_rock-halftime_140_fill_4-4_43__drummer1_session1_205_rock-halftime_140_fill_4-4_43.wav -> drummer1_session1_216_rock-halftime_140_fill_4-4_43__drummer1_session1_205_rock-halftime_140_fill_4-4_43.mp3\n",
      "已处理: drummer7_session2_14_rock_95_beat_4-4_43__drummer4_session1_5_latin-brazilian_184_beat_4-4_43.wav -> drummer7_session2_14_rock_95_beat_4-4_43__drummer4_session1_5_latin-brazilian_184_beat_4-4_43.mp3\n"
     ]
    },
    {
     "name": "stderr",
     "output_type": "stream",
     "text": [
      " 61%|██████    | 63/104 [00:10<00:06,  5.91it/s]"
     ]
    },
    {
     "name": "stdout",
     "output_type": "stream",
     "text": [
      "已处理: drummer3_session2_25_hiphop_92_beat_4-4_55__drummer5_session1_11_latin-brazilian-sambareggae_96_beat_4-4_55.wav -> drummer3_session2_25_hiphop_92_beat_4-4_55__drummer5_session1_11_latin-brazilian-sambareggae_96_beat_4-4_55.mp3\n",
      "已处理: drummer3_session2_25_hiphop_92_beat_4-4_4__drummer6_session3_5_rock_180_beat_4-4_4.wav -> drummer3_session2_25_hiphop_92_beat_4-4_4__drummer6_session3_5_rock_180_beat_4-4_4.mp3\n"
     ]
    },
    {
     "name": "stderr",
     "output_type": "stream",
     "text": [
      " 62%|██████▎   | 65/104 [00:10<00:06,  5.66it/s]"
     ]
    },
    {
     "name": "stdout",
     "output_type": "stream",
     "text": [
      "已处理: drummer7_session2_16_rock_118_fill_4-4_4__drummer1_session1_17_jazz-funk_116_fill_4-4_4.wav -> drummer7_session2_16_rock_118_fill_4-4_4__drummer1_session1_17_jazz-funk_116_fill_4-4_4.mp3\n",
      "已处理: drummer1_session2_62_punk_144_beat_4-4_34__drummer3_session1_39_jazz_120_beat_4-4_34.wav -> drummer1_session2_62_punk_144_beat_4-4_34__drummer3_session1_39_jazz_120_beat_4-4_34.mp3\n"
     ]
    },
    {
     "name": "stderr",
     "output_type": "stream",
     "text": [
      " 64%|██████▍   | 67/104 [00:11<00:06,  5.83it/s]"
     ]
    },
    {
     "name": "stdout",
     "output_type": "stream",
     "text": [
      "已处理: drummer1_session2_62_punk_144_beat_4-4_4__drummer1_session3_12_latin-bomba_96_beat_4-4_4.wav -> drummer1_session2_62_punk_144_beat_4-4_4__drummer1_session3_12_latin-bomba_96_beat_4-4_4.mp3\n",
      "已处理: drummer1_session1_157_latin-brazilian-baiao_95_fill_4-4_55__drummer1_session2_198_rock_115_fill_4-4_55.wav -> drummer1_session1_157_latin-brazilian-baiao_95_fill_4-4_55__drummer1_session2_198_rock_115_fill_4-4_55.mp3\n"
     ]
    },
    {
     "name": "stderr",
     "output_type": "stream",
     "text": [
      " 66%|██████▋   | 69/104 [00:11<00:05,  5.90it/s]"
     ]
    },
    {
     "name": "stdout",
     "output_type": "stream",
     "text": [
      "已处理: drummer7_session2_14_rock_95_beat_4-4_55__drummer3_session2_25_hiphop_92_beat_4-4_55.wav -> drummer7_session2_14_rock_95_beat_4-4_55__drummer3_session2_25_hiphop_92_beat_4-4_55.mp3\n",
      "已处理: drummer1_session1_140_funk-fast_125_fill_4-4_34__drummer1_session1_59_jazz_125_fill_4-4_34.wav -> drummer1_session1_140_funk-fast_125_fill_4-4_34__drummer1_session1_59_jazz_125_fill_4-4_34.mp3\n"
     ]
    },
    {
     "name": "stderr",
     "output_type": "stream",
     "text": [
      " 68%|██████▊   | 71/104 [00:11<00:05,  6.30it/s]"
     ]
    },
    {
     "name": "stdout",
     "output_type": "stream",
     "text": [
      "已处理: drummer1_session1_216_rock-halftime_140_fill_4-4_4__drummer1_session1_30_latin-samba_116_fill_4-4_4.wav -> drummer1_session1_216_rock-halftime_140_fill_4-4_4__drummer1_session1_30_latin-samba_116_fill_4-4_4.mp3\n",
      "已处理: drummer1_session1_140_funk-fast_125_fill_4-4_4__drummer1_session1_216_rock-halftime_140_fill_4-4_4.wav -> drummer1_session1_140_funk-fast_125_fill_4-4_4__drummer1_session1_216_rock-halftime_140_fill_4-4_4.mp3\n"
     ]
    },
    {
     "name": "stderr",
     "output_type": "stream",
     "text": [
      " 70%|███████   | 73/104 [00:12<00:04,  6.33it/s]"
     ]
    },
    {
     "name": "stdout",
     "output_type": "stream",
     "text": [
      "已处理: drummer7_session1_2_rock_86_fill_4-4_37__drummer7_session2_62_soul-motown_148_fill_4-4_37.wav -> drummer7_session1_2_rock_86_fill_4-4_37__drummer7_session2_62_soul-motown_148_fill_4-4_37.mp3\n",
      "已处理: drummer7_session2_27_rock_75_beat_4-4_55__drummer3_session1_37_rock_120_beat_4-4_55.wav -> drummer7_session2_27_rock_75_beat_4-4_55__drummer3_session1_37_rock_120_beat_4-4_55.mp3\n"
     ]
    },
    {
     "name": "stderr",
     "output_type": "stream",
     "text": [
      " 72%|███████▏  | 75/104 [00:12<00:04,  6.33it/s]"
     ]
    },
    {
     "name": "stdout",
     "output_type": "stream",
     "text": [
      "已处理: drummer7_session2_70_rock_145_fill_4-4_4__drummer1_session1_203_rock-halftime_140_fill_4-4_4.wav -> drummer7_session2_70_rock_145_fill_4-4_4__drummer1_session1_203_rock-halftime_140_fill_4-4_4.mp3\n",
      "已处理: drummer1_session1_261_funk-purdieshuffle_130_fill_4-4_55__drummer1_session1_140_funk-fast_125_fill_4-4_55.wav -> drummer1_session1_261_funk-purdieshuffle_130_fill_4-4_55__drummer1_session1_140_funk-fast_125_fill_4-4_55.mp3\n"
     ]
    },
    {
     "name": "stderr",
     "output_type": "stream",
     "text": [
      " 74%|███████▍  | 77/104 [00:12<00:04,  6.38it/s]"
     ]
    },
    {
     "name": "stdout",
     "output_type": "stream",
     "text": [
      "已处理: drummer1_session1_157_latin-brazilian-baiao_95_fill_4-4_43__drummer1_session1_257_funk-purdieshuffle_130_fill_4-4_43.wav -> drummer1_session1_157_latin-brazilian-baiao_95_fill_4-4_43__drummer1_session1_257_funk-purdieshuffle_130_fill_4-4_43.mp3\n",
      "已处理: drummer1_session3_15_funk_117_beat_4-4_55__drummer1_session2_62_punk_144_beat_4-4_55.wav -> drummer1_session3_15_funk_117_beat_4-4_55__drummer1_session2_62_punk_144_beat_4-4_55.mp3\n"
     ]
    },
    {
     "name": "stderr",
     "output_type": "stream",
     "text": [
      " 76%|███████▌  | 79/104 [00:13<00:04,  5.94it/s]"
     ]
    },
    {
     "name": "stdout",
     "output_type": "stream",
     "text": [
      "已处理: drummer1_session3_15_funk_117_beat_4-4_34__drummer8_session1_18_funk_108_beat_4-4_34.wav -> drummer1_session3_15_funk_117_beat_4-4_34__drummer8_session1_18_funk_108_beat_4-4_34.mp3\n",
      "已处理: drummer1_session1_157_latin-brazilian-baiao_95_fill_4-4_37__drummer7_session3_34_hiphop_67_fill_4-4_37.wav -> drummer1_session1_157_latin-brazilian-baiao_95_fill_4-4_37__drummer7_session3_34_hiphop_67_fill_4-4_37.mp3\n"
     ]
    },
    {
     "name": "stderr",
     "output_type": "stream",
     "text": [
      " 78%|███████▊  | 81/104 [00:13<00:03,  6.35it/s]"
     ]
    },
    {
     "name": "stdout",
     "output_type": "stream",
     "text": [
      "已处理: drummer7_session3_88_neworleans-funk_93_fill_4-4_4__drummer7_session2_48_rock_135_fill_4-4_4.wav -> drummer7_session3_88_neworleans-funk_93_fill_4-4_4__drummer7_session2_48_rock_135_fill_4-4_4.mp3\n",
      "已处理: drummer1_session1_140_funk-fast_125_fill_4-4_43__drummer1_session2_133_afrocuban-bembe_122_fill_4-4_43.wav -> drummer1_session1_140_funk-fast_125_fill_4-4_43__drummer1_session2_133_afrocuban-bembe_122_fill_4-4_43.mp3\n"
     ]
    },
    {
     "name": "stderr",
     "output_type": "stream",
     "text": [
      " 80%|███████▉  | 83/104 [00:13<00:03,  6.80it/s]"
     ]
    },
    {
     "name": "stdout",
     "output_type": "stream",
     "text": [
      "已处理: drummer7_session2_70_rock_145_fill_4-4_43__drummer1_session2_144_gospel_120_fill_4-4_43.wav -> drummer7_session2_70_rock_145_fill_4-4_43__drummer1_session2_144_gospel_120_fill_4-4_43.mp3\n",
      "已处理: drummer1_session1_203_rock-halftime_140_fill_4-4_4__drummer1_session2_133_afrocuban-bembe_122_fill_4-4_4.wav -> drummer1_session1_203_rock-halftime_140_fill_4-4_4__drummer1_session2_133_afrocuban-bembe_122_fill_4-4_4.mp3\n"
     ]
    },
    {
     "name": "stderr",
     "output_type": "stream",
     "text": [
      " 81%|████████  | 84/104 [00:13<00:02,  6.83it/s]"
     ]
    },
    {
     "name": "stdout",
     "output_type": "stream",
     "text": [
      "已处理: drummer7_session2_120_jazz-fusion_96_fill_4-4_4__drummer1_session2_198_rock_115_fill_4-4_4.wav -> drummer7_session2_120_jazz-fusion_96_fill_4-4_4__drummer1_session2_198_rock_115_fill_4-4_4.mp3\n"
     ]
    },
    {
     "name": "stderr",
     "output_type": "stream",
     "text": [
      " 83%|████████▎ | 86/104 [00:14<00:03,  5.83it/s]"
     ]
    },
    {
     "name": "stdout",
     "output_type": "stream",
     "text": [
      "已处理: drummer1_session3_15_funk_117_beat_4-4_4__drummer1_session1_2_funk_80_beat_4-4_4.wav -> drummer1_session3_15_funk_117_beat_4-4_4__drummer1_session1_2_funk_80_beat_4-4_4.mp3\n",
      "已处理: drummer7_session2_16_rock_118_fill_4-4_34__drummer1_session1_16_jazz-funk_116_fill_4-4_34.wav -> drummer7_session2_16_rock_118_fill_4-4_34__drummer1_session1_16_jazz-funk_116_fill_4-4_34.mp3\n"
     ]
    },
    {
     "name": "stderr",
     "output_type": "stream",
     "text": [
      " 85%|████████▍ | 88/104 [00:14<00:02,  5.87it/s]"
     ]
    },
    {
     "name": "stdout",
     "output_type": "stream",
     "text": [
      "已处理: drummer1_session1_140_funk-fast_125_fill_4-4_37__drummer1_session1_30_latin-samba_116_fill_4-4_37.wav -> drummer1_session1_140_funk-fast_125_fill_4-4_37__drummer1_session1_30_latin-samba_116_fill_4-4_37.mp3\n",
      "已处理: drummer3_session2_25_hiphop_92_beat_4-4_37__drummer7_session1_13_funk_102_beat_4-4_37.wav -> drummer3_session2_25_hiphop_92_beat_4-4_37__drummer7_session1_13_funk_102_beat_4-4_37.mp3\n"
     ]
    },
    {
     "name": "stderr",
     "output_type": "stream",
     "text": [
      " 86%|████████▌ | 89/104 [00:14<00:02,  6.13it/s]"
     ]
    },
    {
     "name": "stdout",
     "output_type": "stream",
     "text": [
      "已处理: drummer1_session1_216_rock-halftime_140_fill_4-4_55__drummer1_session1_31_latin-samba_116_fill_4-4_55.wav -> drummer1_session1_216_rock-halftime_140_fill_4-4_55__drummer1_session1_31_latin-samba_116_fill_4-4_55.mp3\n"
     ]
    },
    {
     "name": "stderr",
     "output_type": "stream",
     "text": [
      " 88%|████████▊ | 91/104 [00:15<00:02,  6.10it/s]"
     ]
    },
    {
     "name": "stdout",
     "output_type": "stream",
     "text": [
      "已处理: drummer1_session2_142_gospel_120_beat_4-4_43__drummer1_session1_2_funk_80_beat_4-4_43.wav -> drummer1_session2_142_gospel_120_beat_4-4_43__drummer1_session1_2_funk_80_beat_4-4_43.mp3\n",
      "已处理: drummer7_session2_120_jazz-fusion_96_fill_4-4_43__drummer1_session2_25_country_114_fill_4-4_43.wav -> drummer7_session2_120_jazz-fusion_96_fill_4-4_43__drummer1_session2_25_country_114_fill_4-4_43.mp3\n"
     ]
    },
    {
     "name": "stderr",
     "output_type": "stream",
     "text": [
      " 89%|████████▉ | 93/104 [00:15<00:01,  6.25it/s]"
     ]
    },
    {
     "name": "stdout",
     "output_type": "stream",
     "text": [
      "已处理: drummer1_session1_157_latin-brazilian-baiao_95_fill_4-4_4__drummer1_session2_79_punk_144_fill_4-4_4.wav -> drummer1_session1_157_latin-brazilian-baiao_95_fill_4-4_4__drummer1_session2_79_punk_144_fill_4-4_4.mp3\n",
      "已处理: drummer7_session2_120_jazz-fusion_96_fill_4-4_34__drummer1_session2_100_funk-rock_92_fill_4-4_34.wav -> drummer7_session2_120_jazz-fusion_96_fill_4-4_34__drummer1_session2_100_funk-rock_92_fill_4-4_34.mp3\n"
     ]
    },
    {
     "name": "stderr",
     "output_type": "stream",
     "text": [
      " 91%|█████████▏| 95/104 [00:15<00:01,  6.20it/s]"
     ]
    },
    {
     "name": "stdout",
     "output_type": "stream",
     "text": [
      "已处理: drummer1_session2_100_funk-rock_92_fill_4-4_37__drummer7_session2_73_funk_100_fill_4-4_37.wav -> drummer1_session2_100_funk-rock_92_fill_4-4_37__drummer7_session2_73_funk_100_fill_4-4_37.mp3\n",
      "已处理: drummer1_session3_15_funk_117_beat_4-4_37__drummer5_session2_22_latin-brazilian-frevo_133_beat_4-4_37.wav -> drummer1_session3_15_funk_117_beat_4-4_37__drummer5_session2_22_latin-brazilian-frevo_133_beat_4-4_37.mp3\n"
     ]
    },
    {
     "name": "stderr",
     "output_type": "stream",
     "text": [
      " 93%|█████████▎| 97/104 [00:16<00:01,  6.52it/s]"
     ]
    },
    {
     "name": "stdout",
     "output_type": "stream",
     "text": [
      "已处理: drummer1_session1_203_rock-halftime_140_fill_4-4_34__drummer1_session2_196_rock_115_fill_4-4_34.wav -> drummer1_session1_203_rock-halftime_140_fill_4-4_34__drummer1_session2_196_rock_115_fill_4-4_34.mp3\n",
      "已处理: drummer1_session1_216_rock-halftime_140_fill_4-4_34__drummer7_session3_107_hiphop_70_fill_4-4_34.wav -> drummer1_session1_216_rock-halftime_140_fill_4-4_34__drummer7_session3_107_hiphop_70_fill_4-4_34.mp3\n"
     ]
    },
    {
     "name": "stderr",
     "output_type": "stream",
     "text": [
      " 95%|█████████▌| 99/104 [00:16<00:00,  6.09it/s]"
     ]
    },
    {
     "name": "stdout",
     "output_type": "stream",
     "text": [
      "已处理: drummer7_session3_88_neworleans-funk_93_fill_4-4_43__drummer1_session1_16_jazz-funk_116_fill_4-4_43.wav -> drummer7_session3_88_neworleans-funk_93_fill_4-4_43__drummer1_session1_16_jazz-funk_116_fill_4-4_43.mp3\n",
      "已处理: drummer3_session1_7_rock_105_beat_4-4_34__drummer7_session2_46_rock_135_beat_4-4_34.wav -> drummer3_session1_7_rock_105_beat_4-4_34__drummer7_session2_46_rock_135_beat_4-4_34.mp3\n"
     ]
    },
    {
     "name": "stderr",
     "output_type": "stream",
     "text": [
      " 97%|█████████▋| 101/104 [00:16<00:00,  5.99it/s]"
     ]
    },
    {
     "name": "stdout",
     "output_type": "stream",
     "text": [
      "已处理: drummer1_session2_100_funk-rock_92_fill_4-4_4__drummer1_session2_196_rock_115_fill_4-4_4.wav -> drummer1_session2_100_funk-rock_92_fill_4-4_4__drummer1_session2_196_rock_115_fill_4-4_4.mp3\n",
      "已处理: drummer7_session2_27_rock_75_beat_4-4_37__drummer3_session1_15_jazz_120_beat_4-4_37.wav -> drummer7_session2_27_rock_75_beat_4-4_37__drummer3_session1_15_jazz_120_beat_4-4_37.mp3\n"
     ]
    },
    {
     "name": "stderr",
     "output_type": "stream",
     "text": [
      " 99%|█████████▉| 103/104 [00:17<00:00,  5.83it/s]"
     ]
    },
    {
     "name": "stdout",
     "output_type": "stream",
     "text": [
      "已处理: drummer1_session1_17_jazz-funk_116_fill_4-4_4__drummer1_session1_147_latin-brazilian-baiao_95_fill_4-4_4.wav -> drummer1_session1_17_jazz-funk_116_fill_4-4_4__drummer1_session1_147_latin-brazilian-baiao_95_fill_4-4_4.mp3\n",
      "已处理: drummer1_session2_62_punk_144_beat_4-4_43__drummer5_session2_17_latin-brazilian-samba_110_beat_4-4_43.wav -> drummer1_session2_62_punk_144_beat_4-4_43__drummer5_session2_17_latin-brazilian-samba_110_beat_4-4_43.mp3\n"
     ]
    },
    {
     "name": "stderr",
     "output_type": "stream",
     "text": [
      "100%|██████████| 104/104 [00:17<00:00,  6.01it/s]"
     ]
    },
    {
     "name": "stdout",
     "output_type": "stream",
     "text": [
      "已处理: drummer7_session1_2_rock_86_fill_4-4_34__drummer7_session2_62_soul-motown_148_fill_4-4_34.wav -> drummer7_session1_2_rock_86_fill_4-4_34__drummer7_session2_62_soul-motown_148_fill_4-4_34.mp3\n",
      "所有文件处理完成！输出目录: /app/data/break-the-beat/assets/audio/main_processed\n"
     ]
    },
    {
     "name": "stderr",
     "output_type": "stream",
     "text": [
      "\n"
     ]
    }
   ],
   "source": [
    "# 导入必要的库\n",
    "import os\n",
    "import numpy as np\n",
    "import librosa\n",
    "import soundfile as sf\n",
    "from pydub import AudioSegment\n",
    "from tqdm import tqdm\n",
    "\n",
    "# 设置目录路径\n",
    "audio_dir = '/app/data/break-the-beat/assets/audio/main/temp'\n",
    "output_dir = '/app/data/break-the-beat/assets/audio/main/temp_processed'\n",
    "\n",
    "# 创建输出目录（如果不存在）\n",
    "os.makedirs(output_dir, exist_ok=True)\n",
    "\n",
    "# 定义函数：移除尾部静音\n",
    "def remove_trailing_silence(audio, sr, threshold_db=-50, min_silence_duration=0.5):\n",
    "    \"\"\"移除音频尾部的静音\"\"\"\n",
    "    # 计算音频的RMS值\n",
    "    frame_length = int(0.025 * sr)\n",
    "    hop_length = int(0.010 * sr)\n",
    "    rms = librosa.feature.rms(y=audio, frame_length=frame_length, hop_length=hop_length)[0]\n",
    "    \n",
    "    # 将RMS转换为dB\n",
    "    rms_db = 20 * np.log10(rms + 1e-10)\n",
    "    \n",
    "    # 查找末尾静音开始的位置\n",
    "    frames_above_threshold = np.where(rms_db > threshold_db)[0]\n",
    "    if len(frames_above_threshold) > 0:\n",
    "        last_sound_frame = frames_above_threshold[-1]\n",
    "        # 将帧索引转换为样本索引\n",
    "        last_sound_sample = (last_sound_frame + 1) * hop_length\n",
    "        # 保留额外的一小段静音（min_silence_duration秒）\n",
    "        extra_samples = int(min_silence_duration * sr)\n",
    "        end_sample = min(last_sound_sample + extra_samples, len(audio))\n",
    "        return audio[:end_sample]\n",
    "    return audio\n",
    "\n",
    "# 遍历处理所有WAV文件\n",
    "print(\"正在处理WAV文件...\")\n",
    "for root, _, files in os.walk(audio_dir):\n",
    "    for file in tqdm(files):\n",
    "        if file.lower().endswith('.wav'):\n",
    "            # 构建完整的文件路径\n",
    "            file_path = os.path.join(root, file)\n",
    "            \n",
    "            # 相对路径，用于构建输出路径\n",
    "            rel_path = os.path.relpath(root, audio_dir)\n",
    "            out_subdir = os.path.join(output_dir, rel_path)\n",
    "            os.makedirs(out_subdir, exist_ok=True)\n",
    "            \n",
    "            # 构建输出MP3文件路径\n",
    "            mp3_filename = os.path.splitext(file)[0] + '.mp3'\n",
    "            mp3_path = os.path.join(out_subdir, mp3_filename)\n",
    "            \n",
    "            # 处理步骤1：读取WAV并移除尾部静音\n",
    "            try:\n",
    "                audio, sr = librosa.load(file_path, sr=None)\n",
    "                trimmed_audio = remove_trailing_silence(audio, sr)\n",
    "                \n",
    "                # 保存为临时WAV文件\n",
    "                temp_wav = os.path.join(out_subdir, \"temp.wav\")\n",
    "                sf.write(temp_wav, trimmed_audio, sr)\n",
    "                \n",
    "                # 处理步骤2：转换为高质量MP3\n",
    "                wav_audio = AudioSegment.from_wav(temp_wav)\n",
    "                wav_audio.export(mp3_path, format=\"mp3\", bitrate=\"320k\")\n",
    "                \n",
    "                # 删除临时WAV文件\n",
    "                os.remove(temp_wav)\n",
    "                print(f\"已处理: {file} -> {mp3_filename}\")\n",
    "            except Exception as e:\n",
    "                print(f\"处理 {file} 时出错: {str(e)}\")\n",
    "\n",
    "print(f\"所有文件处理完成！输出目录: {output_dir}\")"
   ]
  },
  {
   "cell_type": "code",
   "execution_count": 5,
   "id": "fb757637",
   "metadata": {},
   "outputs": [
    {
     "name": "stdout",
     "output_type": "stream",
     "text": [
      "Hit:1 http://security.ubuntu.com/ubuntu jammy-security InRelease\n",
      "Hit:2 http://archive.ubuntu.com/ubuntu jammy InRelease\n",
      "Hit:3 http://archive.ubuntu.com/ubuntu jammy-updates InRelease\n",
      "Hit:4 http://archive.ubuntu.com/ubuntu jammy-backports InRelease\n",
      "Reading package lists... Done\n",
      "Reading package lists... Done\n",
      "Building dependency tree... Done\n",
      "Reading state information... Done\n",
      "The following additional packages will be installed:\n",
      "  dbus fontconfig fontconfig-config fonts-dejavu-core i965-va-driver\n",
      "  intel-media-va-driver libaacs0 libaom3 libapparmor1 libass9 libasyncns0\n",
      "  libavc1394-0 libavcodec58 libavdevice58 libavfilter7 libavformat58\n",
      "  libavutil56 libbdplus0 libbluray2 libbs2b0 libcaca0 libcairo-gobject2\n",
      "  libcairo2 libcdio-cdda2 libcdio-paranoia2 libcdio19 libchromaprint1\n",
      "  libcodec2-1.0 libdatrie1 libdav1d5 libdbus-1-3 libdc1394-25 libdecor-0-0\n",
      "  libdecor-0-plugin-1-cairo libdrm-amdgpu1 libdrm-common libdrm-intel1\n",
      "  libdrm-nouveau2 libdrm-radeon1 libdrm2 libelf1 libflite1 libfontconfig1\n",
      "  libfribidi0 libgbm1 libgdk-pixbuf-2.0-0 libgdk-pixbuf2.0-bin\n",
      "  libgdk-pixbuf2.0-common libgl1 libgl1-amber-dri libgl1-mesa-dri\n",
      "  libglapi-mesa libglvnd0 libglx-mesa0 libglx0 libgme0 libgraphite2-3\n",
      "  libharfbuzz0b libicu70 libiec61883-0 libigdgmm12 libjack-jackd2-0\n",
      "  liblilv-0-0 libllvm15 libmfx1 libmp3lame0 libmpg123-0 libmysofa1 libnorm1\n",
      "  libopenal-data libopenal1 libopenjp2-7 libopenmpt0 libpango-1.0-0\n",
      "  libpangocairo-1.0-0 libpangoft2-1.0-0 libpciaccess0 libpgm-5.3-0\n",
      "  libpixman-1-0 libpocketsphinx3 libpostproc55 libpulse0 librabbitmq4\n",
      "  libraw1394-11 librsvg2-2 librsvg2-common librubberband2 libsamplerate0\n",
      "  libsdl2-2.0-0 libsensors-config libsensors5 libserd-0-0 libshine3 libslang2\n",
      "  libsndio7.0 libsord-0-0 libsoxr0 libspeex1 libsphinxbase3 libsratom-0-0\n",
      "  libsrt1.4-gnutls libssh-gcrypt-4 libswresample3 libswscale5 libthai-data\n",
      "  libthai0 libtheora0 libtwolame0 libudfread0 libusb-1.0-0 libva-drm2\n",
      "  libva-x11-2 libva2 libvdpau1 libvidstab1.1 libvpx7 libwayland-client0\n",
      "  libwayland-cursor0 libwayland-egl1 libwayland-server0 libwebpmux3\n",
      "  libx264-163 libx265-199 libxcb-dri2-0 libxcb-dri3-0 libxcb-glx0\n",
      "  libxcb-present0 libxcb-randr0 libxcb-render0 libxcb-shape0 libxcb-sync1\n",
      "  libxcb-xfixes0 libxcursor1 libxfixes3 libxi6 libxinerama1 libxkbcommon0\n",
      "  libxml2 libxrandr2 libxrender1 libxshmfence1 libxss1 libxv1 libxvidcore4\n",
      "  libxxf86vm1 libzimg2 libzmq5 libzvbi-common libzvbi0 mesa-va-drivers\n",
      "  mesa-vdpau-drivers ocl-icd-libopencl1 pocketsphinx-en-us shared-mime-info\n",
      "  ucf va-driver-all vdpau-driver-all xkb-data\n",
      "Suggested packages:\n",
      "  default-dbus-session-bus | dbus-session-bus ffmpeg-doc\n",
      "  i965-va-driver-shaders libcuda1 libnvcuvid1 libnvidia-encode1 libbluray-bdj\n",
      "  jackd2 libportaudio2 pciutils pulseaudio libraw1394-doc librsvg2-bin\n",
      "  xdg-utils lm-sensors serdi sndiod sordi speex opencl-icd libvdpau-va-gl1\n",
      "The following NEW packages will be installed:\n",
      "  dbus ffmpeg fontconfig fontconfig-config fonts-dejavu-core i965-va-driver\n",
      "  intel-media-va-driver libaacs0 libaom3 libapparmor1 libass9 libasyncns0\n",
      "  libavc1394-0 libavcodec58 libavdevice58 libavfilter7 libavformat58\n",
      "  libavutil56 libbdplus0 libbluray2 libbs2b0 libcaca0 libcairo-gobject2\n",
      "  libcairo2 libcdio-cdda2 libcdio-paranoia2 libcdio19 libchromaprint1\n",
      "  libcodec2-1.0 libdatrie1 libdav1d5 libdbus-1-3 libdc1394-25 libdecor-0-0\n",
      "  libdecor-0-plugin-1-cairo libdrm-amdgpu1 libdrm-common libdrm-intel1\n",
      "  libdrm-nouveau2 libdrm-radeon1 libdrm2 libelf1 libflite1 libfontconfig1\n",
      "  libfribidi0 libgbm1 libgdk-pixbuf-2.0-0 libgdk-pixbuf2.0-bin\n",
      "  libgdk-pixbuf2.0-common libgl1 libgl1-amber-dri libgl1-mesa-dri\n",
      "  libglapi-mesa libglvnd0 libglx-mesa0 libglx0 libgme0 libgraphite2-3\n",
      "  libharfbuzz0b libicu70 libiec61883-0 libigdgmm12 libjack-jackd2-0\n",
      "  liblilv-0-0 libllvm15 libmfx1 libmp3lame0 libmpg123-0 libmysofa1 libnorm1\n",
      "  libopenal-data libopenal1 libopenjp2-7 libopenmpt0 libpango-1.0-0\n",
      "  libpangocairo-1.0-0 libpangoft2-1.0-0 libpciaccess0 libpgm-5.3-0\n",
      "  libpixman-1-0 libpocketsphinx3 libpostproc55 libpulse0 librabbitmq4\n",
      "  libraw1394-11 librsvg2-2 librsvg2-common librubberband2 libsamplerate0\n",
      "  libsdl2-2.0-0 libsensors-config libsensors5 libserd-0-0 libshine3 libslang2\n",
      "  libsndio7.0 libsord-0-0 libsoxr0 libspeex1 libsphinxbase3 libsratom-0-0\n",
      "  libsrt1.4-gnutls libssh-gcrypt-4 libswresample3 libswscale5 libthai-data\n",
      "  libthai0 libtheora0 libtwolame0 libudfread0 libusb-1.0-0 libva-drm2\n",
      "  libva-x11-2 libva2 libvdpau1 libvidstab1.1 libvpx7 libwayland-client0\n",
      "  libwayland-cursor0 libwayland-egl1 libwayland-server0 libwebpmux3\n",
      "  libx264-163 libx265-199 libxcb-dri2-0 libxcb-dri3-0 libxcb-glx0\n",
      "  libxcb-present0 libxcb-randr0 libxcb-render0 libxcb-shape0 libxcb-sync1\n",
      "  libxcb-xfixes0 libxcursor1 libxfixes3 libxi6 libxinerama1 libxkbcommon0\n",
      "  libxml2 libxrandr2 libxrender1 libxshmfence1 libxss1 libxv1 libxvidcore4\n",
      "  libxxf86vm1 libzimg2 libzmq5 libzvbi-common libzvbi0 mesa-va-drivers\n",
      "  mesa-vdpau-drivers ocl-icd-libopencl1 pocketsphinx-en-us shared-mime-info\n",
      "  ucf va-driver-all vdpau-driver-all xkb-data\n",
      "0 upgraded, 159 newly installed, 0 to remove and 129 not upgraded.\n",
      "Need to get 148 MB of archives.\n",
      "After this operation, 465 MB of additional disk space will be used.\n",
      "Get:1 http://archive.ubuntu.com/ubuntu jammy-updates/main amd64 libapparmor1 amd64 3.0.4-2ubuntu2.4 [39.7 kB]\n",
      "Get:2 http://archive.ubuntu.com/ubuntu jammy-updates/main amd64 libdbus-1-3 amd64 1.12.20-2ubuntu4.1 [189 kB]\n",
      "Get:3 http://archive.ubuntu.com/ubuntu jammy-updates/main amd64 dbus amd64 1.12.20-2ubuntu4.1 [158 kB]\n",
      "Get:4 http://archive.ubuntu.com/ubuntu jammy-updates/main amd64 libelf1 amd64 0.186-1ubuntu0.1 [51.1 kB]\n",
      "Get:5 http://archive.ubuntu.com/ubuntu jammy-updates/main amd64 libfribidi0 amd64 1.0.8-2ubuntu3.1 [26.1 kB]\n",
      "Get:6 http://archive.ubuntu.com/ubuntu jammy/main amd64 libicu70 amd64 70.1-2 [10.6 MB]\n",
      "Get:7 http://archive.ubuntu.com/ubuntu jammy/main amd64 libslang2 amd64 2.3.2-5build4 [468 kB]\n",
      "Get:8 http://archive.ubuntu.com/ubuntu jammy-updates/main amd64 libxml2 amd64 2.9.13+dfsg-1ubuntu0.9 [764 kB]\n",
      "Get:9 http://archive.ubuntu.com/ubuntu jammy/main amd64 shared-mime-info amd64 2.1-2 [454 kB]\n",
      "Get:10 http://archive.ubuntu.com/ubuntu jammy/main amd64 ucf all 3.0043 [56.1 kB]\n",
      "Get:11 http://archive.ubuntu.com/ubuntu jammy/main amd64 xkb-data all 2.33-1 [394 kB]\n",
      "Get:12 http://archive.ubuntu.com/ubuntu jammy-updates/main amd64 libdrm-common all 2.4.113-2~ubuntu0.22.04.1 [5450 B]\n",
      "Get:13 http://archive.ubuntu.com/ubuntu jammy-updates/main amd64 libdrm2 amd64 2.4.113-2~ubuntu0.22.04.1 [38.1 kB]\n",
      "Get:14 http://archive.ubuntu.com/ubuntu jammy-updates/main amd64 libusb-1.0-0 amd64 2:1.0.25-1ubuntu2 [52.7 kB]\n",
      "Get:15 http://archive.ubuntu.com/ubuntu jammy-updates/universe amd64 libaom3 amd64 3.3.0-1ubuntu0.1 [1748 kB]\n",
      "Get:16 http://archive.ubuntu.com/ubuntu jammy/universe amd64 libva2 amd64 2.14.0-1 [65.0 kB]\n",
      "Get:17 http://archive.ubuntu.com/ubuntu jammy/universe amd64 libmfx1 amd64 22.3.0-1 [3105 kB]\n",
      "Get:18 http://archive.ubuntu.com/ubuntu jammy/universe amd64 libva-drm2 amd64 2.14.0-1 [7502 B]\n",
      "Get:19 http://archive.ubuntu.com/ubuntu jammy/main amd64 libxfixes3 amd64 1:6.0.0-1 [11.7 kB]\n",
      "Get:20 http://archive.ubuntu.com/ubuntu jammy/universe amd64 libva-x11-2 amd64 2.14.0-1 [12.6 kB]\n",
      "Get:21 http://archive.ubuntu.com/ubuntu jammy/main amd64 libvdpau1 amd64 1.4-3build2 [27.0 kB]\n",
      "Get:22 http://archive.ubuntu.com/ubuntu jammy/universe amd64 ocl-icd-libopencl1 amd64 2.2.14-3 [39.1 kB]\n",
      "Get:23 http://archive.ubuntu.com/ubuntu jammy-updates/universe amd64 libavutil56 amd64 7:4.4.2-0ubuntu0.22.04.1 [290 kB]\n",
      "Get:24 http://archive.ubuntu.com/ubuntu jammy/main amd64 fonts-dejavu-core all 2.37-2build1 [1041 kB]\n",
      "Get:25 http://archive.ubuntu.com/ubuntu jammy/main amd64 fontconfig-config all 2.13.1-4.2ubuntu5 [29.1 kB]\n",
      "Get:26 http://archive.ubuntu.com/ubuntu jammy/main amd64 libfontconfig1 amd64 2.13.1-4.2ubuntu5 [131 kB]\n",
      "Get:27 http://archive.ubuntu.com/ubuntu jammy-updates/main amd64 libpixman-1-0 amd64 0.40.0-1ubuntu0.22.04.1 [264 kB]\n",
      "Get:28 http://archive.ubuntu.com/ubuntu jammy/main amd64 libxcb-render0 amd64 1.14-3ubuntu3 [16.4 kB]\n",
      "Get:29 http://archive.ubuntu.com/ubuntu jammy/main amd64 libxrender1 amd64 1:0.9.10-1build4 [19.7 kB]\n",
      "Get:30 http://archive.ubuntu.com/ubuntu jammy/main amd64 libcairo2 amd64 1.16.0-5ubuntu2 [628 kB]\n",
      "Get:31 http://archive.ubuntu.com/ubuntu jammy/universe amd64 libcodec2-1.0 amd64 1.0.1-3 [8435 kB]\n",
      "Get:32 http://archive.ubuntu.com/ubuntu jammy/universe amd64 libdav1d5 amd64 0.9.2-1 [463 kB]\n",
      "Get:33 http://archive.ubuntu.com/ubuntu jammy/main amd64 libmp3lame0 amd64 3.100-3build2 [141 kB]\n",
      "Get:34 http://archive.ubuntu.com/ubuntu jammy-updates/main amd64 libopenjp2-7 amd64 2.4.0-6ubuntu0.4 [158 kB]\n",
      "Get:35 http://archive.ubuntu.com/ubuntu jammy/main amd64 libcairo-gobject2 amd64 1.16.0-5ubuntu2 [19.4 kB]\n",
      "Get:36 http://archive.ubuntu.com/ubuntu jammy-updates/main amd64 libgdk-pixbuf2.0-common all 2.42.8+dfsg-1ubuntu0.4 [5546 B]\n",
      "Get:37 http://archive.ubuntu.com/ubuntu jammy-updates/main amd64 libgdk-pixbuf-2.0-0 amd64 2.42.8+dfsg-1ubuntu0.4 [148 kB]\n",
      "Get:38 http://archive.ubuntu.com/ubuntu jammy/main amd64 fontconfig amd64 2.13.1-4.2ubuntu5 [177 kB]\n",
      "Get:39 http://archive.ubuntu.com/ubuntu jammy/main amd64 libgraphite2-3 amd64 1.3.14-1build2 [71.3 kB]\n",
      "Get:40 http://archive.ubuntu.com/ubuntu jammy-updates/main amd64 libharfbuzz0b amd64 2.7.4-1ubuntu3.2 [353 kB]\n",
      "Get:41 http://archive.ubuntu.com/ubuntu jammy/main amd64 libthai-data all 0.1.29-1build1 [162 kB]\n",
      "Get:42 http://archive.ubuntu.com/ubuntu jammy/main amd64 libdatrie1 amd64 0.2.13-2 [19.9 kB]\n",
      "Get:43 http://archive.ubuntu.com/ubuntu jammy/main amd64 libthai0 amd64 0.1.29-1build1 [19.2 kB]\n",
      "Get:44 http://archive.ubuntu.com/ubuntu jammy-updates/main amd64 libpango-1.0-0 amd64 1.50.6+ds-2ubuntu1 [230 kB]\n",
      "Get:45 http://archive.ubuntu.com/ubuntu jammy-updates/main amd64 libpangoft2-1.0-0 amd64 1.50.6+ds-2ubuntu1 [54.0 kB]\n",
      "Get:46 http://archive.ubuntu.com/ubuntu jammy-updates/main amd64 libpangocairo-1.0-0 amd64 1.50.6+ds-2ubuntu1 [39.8 kB]\n",
      "Get:47 http://archive.ubuntu.com/ubuntu jammy-updates/main amd64 librsvg2-2 amd64 2.52.5+dfsg-3ubuntu0.2 [2974 kB]\n",
      "Get:48 http://archive.ubuntu.com/ubuntu jammy/universe amd64 libshine3 amd64 3.1.1-2 [23.2 kB]\n",
      "Get:49 http://archive.ubuntu.com/ubuntu jammy/main amd64 libspeex1 amd64 1.2~rc1.2-1.1ubuntu3 [57.9 kB]\n",
      "Get:50 http://archive.ubuntu.com/ubuntu jammy/main amd64 libsoxr0 amd64 0.1.3-4build2 [79.8 kB]\n",
      "Get:51 http://archive.ubuntu.com/ubuntu jammy-updates/universe amd64 libswresample3 amd64 7:4.4.2-0ubuntu0.22.04.1 [62.2 kB]\n",
      "Get:52 http://archive.ubuntu.com/ubuntu jammy/main amd64 libtheora0 amd64 1.1.1+dfsg.1-15ubuntu4 [209 kB]\n",
      "Get:53 http://archive.ubuntu.com/ubuntu jammy/main amd64 libtwolame0 amd64 0.4.0-2build2 [52.5 kB]\n",
      "Get:54 http://archive.ubuntu.com/ubuntu jammy-updates/main amd64 libvpx7 amd64 1.11.0-2ubuntu2.4 [1078 kB]\n",
      "Get:55 http://archive.ubuntu.com/ubuntu jammy-updates/main amd64 libwebpmux3 amd64 1.2.2-2ubuntu0.22.04.2 [20.5 kB]\n",
      "Get:56 http://archive.ubuntu.com/ubuntu jammy/universe amd64 libx264-163 amd64 2:0.163.3060+git5db6aa6-2build1 [591 kB]\n",
      "Get:57 http://archive.ubuntu.com/ubuntu jammy/universe amd64 libx265-199 amd64 3.5-2 [1170 kB]\n",
      "Get:58 http://archive.ubuntu.com/ubuntu jammy/universe amd64 libxvidcore4 amd64 2:1.3.7-1 [201 kB]\n",
      "Get:59 http://archive.ubuntu.com/ubuntu jammy/universe amd64 libzvbi-common all 0.2.35-19 [35.5 kB]\n",
      "Get:60 http://archive.ubuntu.com/ubuntu jammy/universe amd64 libzvbi0 amd64 0.2.35-19 [262 kB]\n",
      "Get:61 http://archive.ubuntu.com/ubuntu jammy-updates/universe amd64 libavcodec58 amd64 7:4.4.2-0ubuntu0.22.04.1 [5567 kB]\n",
      "Get:62 http://archive.ubuntu.com/ubuntu jammy/main amd64 libraw1394-11 amd64 2.1.2-2build2 [27.0 kB]\n",
      "Get:63 http://archive.ubuntu.com/ubuntu jammy/main amd64 libavc1394-0 amd64 0.5.4-5build2 [17.0 kB]\n",
      "Get:64 http://archive.ubuntu.com/ubuntu jammy/universe amd64 libass9 amd64 1:0.15.2-1 [97.5 kB]\n",
      "Get:65 http://archive.ubuntu.com/ubuntu jammy/universe amd64 libudfread0 amd64 1.1.2-1 [16.2 kB]\n",
      "Get:66 http://archive.ubuntu.com/ubuntu jammy/universe amd64 libbluray2 amd64 1:1.3.1-1 [159 kB]\n",
      "Get:67 http://archive.ubuntu.com/ubuntu jammy/universe amd64 libchromaprint1 amd64 1.5.1-2 [28.4 kB]\n",
      "Get:68 http://archive.ubuntu.com/ubuntu jammy/universe amd64 libgme0 amd64 0.6.3-2 [127 kB]\n",
      "Get:69 http://archive.ubuntu.com/ubuntu jammy-updates/main amd64 libmpg123-0 amd64 1.29.3-1ubuntu0.1 [172 kB]\n",
      "Get:70 http://archive.ubuntu.com/ubuntu jammy/universe amd64 libopenmpt0 amd64 0.6.1-1 [592 kB]\n",
      "Get:71 http://archive.ubuntu.com/ubuntu jammy/main amd64 librabbitmq4 amd64 0.10.0-1ubuntu2 [39.3 kB]\n",
      "Get:72 http://archive.ubuntu.com/ubuntu jammy/universe amd64 libsrt1.4-gnutls amd64 1.4.4-4 [309 kB]\n",
      "Get:73 http://archive.ubuntu.com/ubuntu jammy-updates/main amd64 libssh-gcrypt-4 amd64 0.9.6-2ubuntu0.22.04.4 [224 kB]\n",
      "Get:74 http://archive.ubuntu.com/ubuntu jammy/universe amd64 libnorm1 amd64 1.5.9+dfsg-2 [221 kB]\n",
      "Get:75 http://archive.ubuntu.com/ubuntu jammy/universe amd64 libpgm-5.3-0 amd64 5.3.128~dfsg-2 [161 kB]\n",
      "Get:76 http://archive.ubuntu.com/ubuntu jammy/universe amd64 libzmq5 amd64 4.3.4-2 [256 kB]\n",
      "Get:77 http://archive.ubuntu.com/ubuntu jammy-updates/universe amd64 libavformat58 amd64 7:4.4.2-0ubuntu0.22.04.1 [1103 kB]\n",
      "Get:78 http://archive.ubuntu.com/ubuntu jammy/universe amd64 libbs2b0 amd64 3.1.0+dfsg-2.2build1 [10.2 kB]\n",
      "Get:79 http://archive.ubuntu.com/ubuntu jammy/universe amd64 libflite1 amd64 2.2-3 [13.7 MB]\n",
      "Get:80 http://archive.ubuntu.com/ubuntu jammy/universe amd64 libserd-0-0 amd64 0.30.10-2 [40.8 kB]\n",
      "Get:81 http://archive.ubuntu.com/ubuntu jammy/universe amd64 libsord-0-0 amd64 0.16.8-2 [21.2 kB]\n",
      "Get:82 http://archive.ubuntu.com/ubuntu jammy/universe amd64 libsratom-0-0 amd64 0.6.8-1 [17.0 kB]\n",
      "Get:83 http://archive.ubuntu.com/ubuntu jammy/universe amd64 liblilv-0-0 amd64 0.24.12-2 [42.8 kB]\n",
      "Get:84 http://archive.ubuntu.com/ubuntu jammy/universe amd64 libmysofa1 amd64 1.2.1~dfsg0-1 [1157 kB]\n",
      "Get:85 http://archive.ubuntu.com/ubuntu jammy/main amd64 libasyncns0 amd64 0.8-6build2 [12.8 kB]\n",
      "Get:86 http://archive.ubuntu.com/ubuntu jammy-updates/main amd64 libpulse0 amd64 1:15.99.1+dfsg1-1ubuntu2.2 [298 kB]\n",
      "Get:87 http://archive.ubuntu.com/ubuntu jammy/universe amd64 libsphinxbase3 amd64 0.8+5prealpha+1-13build1 [126 kB]\n",
      "Get:88 http://archive.ubuntu.com/ubuntu jammy/universe amd64 libpocketsphinx3 amd64 0.8.0+real5prealpha+1-14ubuntu1 [132 kB]\n",
      "Get:89 http://archive.ubuntu.com/ubuntu jammy-updates/universe amd64 libpostproc55 amd64 7:4.4.2-0ubuntu0.22.04.1 [60.1 kB]\n",
      "Get:90 http://archive.ubuntu.com/ubuntu jammy/main amd64 libsamplerate0 amd64 0.2.2-1build1 [1359 kB]\n",
      "Get:91 http://archive.ubuntu.com/ubuntu jammy/universe amd64 librubberband2 amd64 2.0.0-2 [90.0 kB]\n",
      "Get:92 http://archive.ubuntu.com/ubuntu jammy-updates/universe amd64 libswscale5 amd64 7:4.4.2-0ubuntu0.22.04.1 [180 kB]\n",
      "Get:93 http://archive.ubuntu.com/ubuntu jammy/universe amd64 libvidstab1.1 amd64 1.1.0-2 [35.0 kB]\n",
      "Get:94 http://archive.ubuntu.com/ubuntu jammy/universe amd64 libzimg2 amd64 3.0.3+ds1-1 [241 kB]\n",
      "Get:95 http://archive.ubuntu.com/ubuntu jammy-updates/universe amd64 libavfilter7 amd64 7:4.4.2-0ubuntu0.22.04.1 [1496 kB]\n",
      "Get:96 http://archive.ubuntu.com/ubuntu jammy/main amd64 libcaca0 amd64 0.99.beta19-2.2ubuntu4 [224 kB]\n",
      "Get:97 http://archive.ubuntu.com/ubuntu jammy-updates/main amd64 libcdio19 amd64 2.1.0-3ubuntu0.2 [63.6 kB]\n",
      "Get:98 http://archive.ubuntu.com/ubuntu jammy/main amd64 libcdio-cdda2 amd64 10.2+2.0.0-1build3 [16.7 kB]\n",
      "Get:99 http://archive.ubuntu.com/ubuntu jammy/main amd64 libcdio-paranoia2 amd64 10.2+2.0.0-1build3 [15.9 kB]\n",
      "Get:100 http://archive.ubuntu.com/ubuntu jammy/universe amd64 libdc1394-25 amd64 2.2.6-4 [88.8 kB]\n",
      "Get:101 http://archive.ubuntu.com/ubuntu jammy/main amd64 libglvnd0 amd64 1.4.0-1 [73.6 kB]\n",
      "Get:102 http://archive.ubuntu.com/ubuntu jammy-updates/main amd64 libglapi-mesa amd64 23.2.1-1ubuntu3.1~22.04.3 [35.4 kB]\n",
      "Get:103 http://archive.ubuntu.com/ubuntu jammy/main amd64 libxcb-dri2-0 amd64 1.14-3ubuntu3 [7206 B]\n",
      "Get:104 http://archive.ubuntu.com/ubuntu jammy/main amd64 libxcb-dri3-0 amd64 1.14-3ubuntu3 [6968 B]\n",
      "Get:105 http://archive.ubuntu.com/ubuntu jammy/main amd64 libxcb-glx0 amd64 1.14-3ubuntu3 [25.9 kB]\n",
      "Get:106 http://archive.ubuntu.com/ubuntu jammy/main amd64 libxcb-present0 amd64 1.14-3ubuntu3 [5734 B]\n",
      "Get:107 http://archive.ubuntu.com/ubuntu jammy/main amd64 libxcb-randr0 amd64 1.14-3ubuntu3 [18.3 kB]\n",
      "Get:108 http://archive.ubuntu.com/ubuntu jammy/main amd64 libxcb-sync1 amd64 1.14-3ubuntu3 [9416 B]\n",
      "Get:109 http://archive.ubuntu.com/ubuntu jammy/main amd64 libxcb-xfixes0 amd64 1.14-3ubuntu3 [9996 B]\n",
      "Get:110 http://archive.ubuntu.com/ubuntu jammy/main amd64 libxshmfence1 amd64 1.3-1build4 [5394 B]\n",
      "Get:111 http://archive.ubuntu.com/ubuntu jammy/main amd64 libxxf86vm1 amd64 1:1.1.4-1build3 [10.4 kB]\n",
      "Get:112 http://archive.ubuntu.com/ubuntu jammy-updates/main amd64 libdrm-amdgpu1 amd64 2.4.113-2~ubuntu0.22.04.1 [19.9 kB]\n",
      "Get:113 http://archive.ubuntu.com/ubuntu jammy/main amd64 libpciaccess0 amd64 0.16-3 [19.1 kB]\n",
      "Get:114 http://archive.ubuntu.com/ubuntu jammy-updates/main amd64 libdrm-intel1 amd64 2.4.113-2~ubuntu0.22.04.1 [66.7 kB]\n",
      "Get:115 http://archive.ubuntu.com/ubuntu jammy-updates/main amd64 libdrm-nouveau2 amd64 2.4.113-2~ubuntu0.22.04.1 [17.5 kB]\n",
      "Get:116 http://archive.ubuntu.com/ubuntu jammy-updates/main amd64 libdrm-radeon1 amd64 2.4.113-2~ubuntu0.22.04.1 [21.6 kB]\n",
      "Get:117 http://archive.ubuntu.com/ubuntu jammy-updates/main amd64 libllvm15 amd64 1:15.0.7-0ubuntu0.22.04.3 [25.4 MB]\n",
      "Get:118 http://archive.ubuntu.com/ubuntu jammy/main amd64 libsensors-config all 1:3.6.0-7ubuntu1 [5274 B]\n",
      "Get:119 http://archive.ubuntu.com/ubuntu jammy/main amd64 libsensors5 amd64 1:3.6.0-7ubuntu1 [26.3 kB]\n",
      "Get:120 http://archive.ubuntu.com/ubuntu jammy-updates/main amd64 libgl1-mesa-dri amd64 23.2.1-1ubuntu3.1~22.04.3 [8860 kB]\n",
      "Get:121 http://archive.ubuntu.com/ubuntu jammy-updates/main amd64 libglx-mesa0 amd64 23.2.1-1ubuntu3.1~22.04.3 [158 kB]\n",
      "Get:122 http://archive.ubuntu.com/ubuntu jammy/main amd64 libglx0 amd64 1.4.0-1 [41.0 kB]\n",
      "Get:123 http://archive.ubuntu.com/ubuntu jammy/main amd64 libgl1 amd64 1.4.0-1 [110 kB]\n",
      "Get:124 http://archive.ubuntu.com/ubuntu jammy/main amd64 libiec61883-0 amd64 1.2.0-4build3 [25.9 kB]\n",
      "Get:125 http://archive.ubuntu.com/ubuntu jammy/main amd64 libjack-jackd2-0 amd64 1.9.20~dfsg-1 [293 kB]\n",
      "Get:126 http://archive.ubuntu.com/ubuntu jammy/universe amd64 libopenal-data all 1:1.19.1-2build3 [164 kB]\n",
      "Get:127 http://archive.ubuntu.com/ubuntu jammy/universe amd64 libsndio7.0 amd64 1.8.1-1.1 [29.3 kB]\n",
      "Get:128 http://archive.ubuntu.com/ubuntu jammy/universe amd64 libopenal1 amd64 1:1.19.1-2build3 [535 kB]\n",
      "Get:129 http://archive.ubuntu.com/ubuntu jammy-updates/main amd64 libwayland-client0 amd64 1.20.0-1ubuntu0.1 [25.9 kB]\n",
      "Get:130 http://archive.ubuntu.com/ubuntu jammy/main amd64 libdecor-0-0 amd64 0.1.0-3build1 [15.1 kB]\n",
      "Get:131 http://archive.ubuntu.com/ubuntu jammy-updates/main amd64 libwayland-server0 amd64 1.20.0-1ubuntu0.1 [34.3 kB]\n",
      "Get:132 http://archive.ubuntu.com/ubuntu jammy-updates/main amd64 libgbm1 amd64 23.2.1-1ubuntu3.1~22.04.3 [33.5 kB]\n",
      "Get:133 http://archive.ubuntu.com/ubuntu jammy-updates/main amd64 libwayland-cursor0 amd64 1.20.0-1ubuntu0.1 [10.7 kB]\n",
      "Get:134 http://archive.ubuntu.com/ubuntu jammy-updates/main amd64 libwayland-egl1 amd64 1.20.0-1ubuntu0.1 [5582 B]\n",
      "Get:135 http://archive.ubuntu.com/ubuntu jammy/main amd64 libxcursor1 amd64 1:1.2.0-2build4 [20.9 kB]\n",
      "Get:136 http://archive.ubuntu.com/ubuntu jammy/main amd64 libxi6 amd64 2:1.8-1build1 [32.6 kB]\n",
      "Get:137 http://archive.ubuntu.com/ubuntu jammy/main amd64 libxinerama1 amd64 2:1.1.4-3 [7382 B]\n",
      "Get:138 http://archive.ubuntu.com/ubuntu jammy/main amd64 libxkbcommon0 amd64 1.4.0-1 [125 kB]\n",
      "Get:139 http://archive.ubuntu.com/ubuntu jammy/main amd64 libxrandr2 amd64 2:1.5.2-1build1 [20.4 kB]\n",
      "Get:140 http://archive.ubuntu.com/ubuntu jammy/main amd64 libxss1 amd64 1:1.2.3-1build2 [8476 B]\n",
      "Get:141 http://archive.ubuntu.com/ubuntu jammy-updates/main amd64 libsdl2-2.0-0 amd64 2.0.20+dfsg-2ubuntu1.22.04.1 [582 kB]\n",
      "Get:142 http://archive.ubuntu.com/ubuntu jammy/main amd64 libxcb-shape0 amd64 1.14-3ubuntu3 [6158 B]\n",
      "Get:143 http://archive.ubuntu.com/ubuntu jammy/main amd64 libxv1 amd64 2:1.0.11-1build2 [11.2 kB]\n",
      "Get:144 http://archive.ubuntu.com/ubuntu jammy-updates/universe amd64 libavdevice58 amd64 7:4.4.2-0ubuntu0.22.04.1 [87.5 kB]\n",
      "Get:145 http://archive.ubuntu.com/ubuntu jammy-updates/universe amd64 ffmpeg amd64 7:4.4.2-0ubuntu0.22.04.1 [1696 kB]\n",
      "Get:146 http://archive.ubuntu.com/ubuntu jammy/universe amd64 libigdgmm12 amd64 22.1.2+ds1-1 [139 kB]\n",
      "Get:147 http://archive.ubuntu.com/ubuntu jammy-updates/universe amd64 intel-media-va-driver amd64 22.3.1+dfsg1-1ubuntu2 [2283 kB]\n",
      "Get:148 http://archive.ubuntu.com/ubuntu jammy/universe amd64 libaacs0 amd64 0.11.1-1 [64.1 kB]\n",
      "Get:149 http://archive.ubuntu.com/ubuntu jammy/universe amd64 libbdplus0 amd64 0.2.0-1 [52.2 kB]\n",
      "Get:150 http://archive.ubuntu.com/ubuntu jammy/main amd64 libdecor-0-plugin-1-cairo amd64 0.1.0-3build1 [20.4 kB]\n",
      "Get:151 http://archive.ubuntu.com/ubuntu jammy-updates/main amd64 libgdk-pixbuf2.0-bin amd64 2.42.8+dfsg-1ubuntu0.4 [14.1 kB]\n",
      "Get:152 http://archive.ubuntu.com/ubuntu jammy-updates/main amd64 libgl1-amber-dri amd64 21.3.9-0ubuntu1~22.04.1 [4218 kB]\n",
      "Get:153 http://archive.ubuntu.com/ubuntu jammy-updates/main amd64 librsvg2-common amd64 2.52.5+dfsg-3ubuntu0.2 [17.7 kB]\n",
      "Get:154 http://archive.ubuntu.com/ubuntu jammy-updates/universe amd64 mesa-va-drivers amd64 23.2.1-1ubuntu3.1~22.04.3 [4100 kB]\n",
      "Get:155 http://archive.ubuntu.com/ubuntu jammy-updates/main amd64 mesa-vdpau-drivers amd64 23.2.1-1ubuntu3.1~22.04.3 [3820 kB]\n",
      "Get:156 http://archive.ubuntu.com/ubuntu jammy/universe amd64 i965-va-driver amd64 2.4.1+dfsg1-1 [302 kB]\n",
      "Get:157 http://archive.ubuntu.com/ubuntu jammy/universe amd64 va-driver-all amd64 2.14.0-1 [3984 B]\n",
      "Get:158 http://archive.ubuntu.com/ubuntu jammy/main amd64 vdpau-driver-all amd64 1.4-3build2 [4510 B]\n",
      "Get:159 http://archive.ubuntu.com/ubuntu jammy/universe amd64 pocketsphinx-en-us all 0.8.0+real5prealpha+1-14ubuntu1 [27.6 MB]\n",
      "Fetched 148 MB in 19s (7965 kB/s)                                              \n",
      "debconf: unable to initialize frontend: Dialog\n",
      "debconf: (No usable dialog-like program is installed, so the dialog based frontend cannot be used. at /usr/share/perl5/Debconf/FrontEnd/Dialog.pm line 78, <> line 159.)\n",
      "debconf: falling back to frontend: Readline\n",
      "Extracting templates from packages: 100%\n",
      "Preconfiguring packages ...\n",
      "Selecting previously unselected package libapparmor1:amd64.\n",
      "(Reading database ... 29754 files and directories currently installed.)\n",
      "Preparing to unpack .../000-libapparmor1_3.0.4-2ubuntu2.4_amd64.deb ...\n",
      "Unpacking libapparmor1:amd64 (3.0.4-2ubuntu2.4) ...\n",
      "Selecting previously unselected package libdbus-1-3:amd64.\n",
      "Preparing to unpack .../001-libdbus-1-3_1.12.20-2ubuntu4.1_amd64.deb ...\n",
      "Unpacking libdbus-1-3:amd64 (1.12.20-2ubuntu4.1) ...\n",
      "Selecting previously unselected package dbus.\n",
      "Preparing to unpack .../002-dbus_1.12.20-2ubuntu4.1_amd64.deb ...\n",
      "Unpacking dbus (1.12.20-2ubuntu4.1) ...\n",
      "Selecting previously unselected package libelf1:amd64.\n",
      "Preparing to unpack .../003-libelf1_0.186-1ubuntu0.1_amd64.deb ...\n",
      "Unpacking libelf1:amd64 (0.186-1ubuntu0.1) ...\n",
      "Selecting previously unselected package libfribidi0:amd64.\n",
      "Preparing to unpack .../004-libfribidi0_1.0.8-2ubuntu3.1_amd64.deb ...\n",
      "Unpacking libfribidi0:amd64 (1.0.8-2ubuntu3.1) ...\n",
      "Selecting previously unselected package libicu70:amd64.\n",
      "Preparing to unpack .../005-libicu70_70.1-2_amd64.deb ...\n",
      "Unpacking libicu70:amd64 (70.1-2) ...\n",
      "Selecting previously unselected package libslang2:amd64.\n",
      "Preparing to unpack .../006-libslang2_2.3.2-5build4_amd64.deb ...\n",
      "Unpacking libslang2:amd64 (2.3.2-5build4) ...\n",
      "Selecting previously unselected package libxml2:amd64.\n",
      "Preparing to unpack .../007-libxml2_2.9.13+dfsg-1ubuntu0.9_amd64.deb ...\n",
      "Unpacking libxml2:amd64 (2.9.13+dfsg-1ubuntu0.9) ...\n",
      "Selecting previously unselected package shared-mime-info.\n",
      "Preparing to unpack .../008-shared-mime-info_2.1-2_amd64.deb ...\n",
      "Unpacking shared-mime-info (2.1-2) ...\n",
      "Selecting previously unselected package ucf.\n",
      "Preparing to unpack .../009-ucf_3.0043_all.deb ...\n",
      "Moving old data out of the way\n",
      "Unpacking ucf (3.0043) ...\n",
      "Selecting previously unselected package xkb-data.\n",
      "Preparing to unpack .../010-xkb-data_2.33-1_all.deb ...\n",
      "Unpacking xkb-data (2.33-1) ...\n",
      "Selecting previously unselected package libdrm-common.\n",
      "Preparing to unpack .../011-libdrm-common_2.4.113-2~ubuntu0.22.04.1_all.deb ...\n",
      "Unpacking libdrm-common (2.4.113-2~ubuntu0.22.04.1) ...\n",
      "Selecting previously unselected package libdrm2:amd64.\n",
      "Preparing to unpack .../012-libdrm2_2.4.113-2~ubuntu0.22.04.1_amd64.deb ...\n",
      "Unpacking libdrm2:amd64 (2.4.113-2~ubuntu0.22.04.1) ...\n",
      "Selecting previously unselected package libusb-1.0-0:amd64.\n",
      "Preparing to unpack .../013-libusb-1.0-0_2%3a1.0.25-1ubuntu2_amd64.deb ...\n",
      "Unpacking libusb-1.0-0:amd64 (2:1.0.25-1ubuntu2) ...\n",
      "Selecting previously unselected package libaom3:amd64.\n",
      "Preparing to unpack .../014-libaom3_3.3.0-1ubuntu0.1_amd64.deb ...\n",
      "Unpacking libaom3:amd64 (3.3.0-1ubuntu0.1) ...\n",
      "Selecting previously unselected package libva2:amd64.\n",
      "Preparing to unpack .../015-libva2_2.14.0-1_amd64.deb ...\n",
      "Unpacking libva2:amd64 (2.14.0-1) ...\n",
      "Selecting previously unselected package libmfx1:amd64.\n",
      "Preparing to unpack .../016-libmfx1_22.3.0-1_amd64.deb ...\n",
      "Unpacking libmfx1:amd64 (22.3.0-1) ...\n",
      "Selecting previously unselected package libva-drm2:amd64.\n",
      "Preparing to unpack .../017-libva-drm2_2.14.0-1_amd64.deb ...\n",
      "Unpacking libva-drm2:amd64 (2.14.0-1) ...\n",
      "Selecting previously unselected package libxfixes3:amd64.\n",
      "Preparing to unpack .../018-libxfixes3_1%3a6.0.0-1_amd64.deb ...\n",
      "Unpacking libxfixes3:amd64 (1:6.0.0-1) ...\n",
      "Selecting previously unselected package libva-x11-2:amd64.\n",
      "Preparing to unpack .../019-libva-x11-2_2.14.0-1_amd64.deb ...\n",
      "Unpacking libva-x11-2:amd64 (2.14.0-1) ...\n",
      "Selecting previously unselected package libvdpau1:amd64.\n",
      "Preparing to unpack .../020-libvdpau1_1.4-3build2_amd64.deb ...\n",
      "Unpacking libvdpau1:amd64 (1.4-3build2) ...\n",
      "Selecting previously unselected package ocl-icd-libopencl1:amd64.\n",
      "Preparing to unpack .../021-ocl-icd-libopencl1_2.2.14-3_amd64.deb ...\n",
      "Unpacking ocl-icd-libopencl1:amd64 (2.2.14-3) ...\n",
      "Selecting previously unselected package libavutil56:amd64.\n",
      "Preparing to unpack .../022-libavutil56_7%3a4.4.2-0ubuntu0.22.04.1_amd64.deb ...\n",
      "Unpacking libavutil56:amd64 (7:4.4.2-0ubuntu0.22.04.1) ...\n",
      "Selecting previously unselected package fonts-dejavu-core.\n",
      "Preparing to unpack .../023-fonts-dejavu-core_2.37-2build1_all.deb ...\n",
      "Unpacking fonts-dejavu-core (2.37-2build1) ...\n",
      "Selecting previously unselected package fontconfig-config.\n",
      "Preparing to unpack .../024-fontconfig-config_2.13.1-4.2ubuntu5_all.deb ...\n",
      "Unpacking fontconfig-config (2.13.1-4.2ubuntu5) ...\n",
      "Selecting previously unselected package libfontconfig1:amd64.\n",
      "Preparing to unpack .../025-libfontconfig1_2.13.1-4.2ubuntu5_amd64.deb ...\n",
      "Unpacking libfontconfig1:amd64 (2.13.1-4.2ubuntu5) ...\n",
      "Selecting previously unselected package libpixman-1-0:amd64.\n",
      "Preparing to unpack .../026-libpixman-1-0_0.40.0-1ubuntu0.22.04.1_amd64.deb ...\n",
      "Unpacking libpixman-1-0:amd64 (0.40.0-1ubuntu0.22.04.1) ...\n",
      "Selecting previously unselected package libxcb-render0:amd64.\n",
      "Preparing to unpack .../027-libxcb-render0_1.14-3ubuntu3_amd64.deb ...\n",
      "Unpacking libxcb-render0:amd64 (1.14-3ubuntu3) ...\n",
      "Selecting previously unselected package libxrender1:amd64.\n",
      "Preparing to unpack .../028-libxrender1_1%3a0.9.10-1build4_amd64.deb ...\n",
      "Unpacking libxrender1:amd64 (1:0.9.10-1build4) ...\n",
      "Selecting previously unselected package libcairo2:amd64.\n",
      "Preparing to unpack .../029-libcairo2_1.16.0-5ubuntu2_amd64.deb ...\n",
      "Unpacking libcairo2:amd64 (1.16.0-5ubuntu2) ...\n",
      "Selecting previously unselected package libcodec2-1.0:amd64.\n",
      "Preparing to unpack .../030-libcodec2-1.0_1.0.1-3_amd64.deb ...\n",
      "Unpacking libcodec2-1.0:amd64 (1.0.1-3) ...\n",
      "Selecting previously unselected package libdav1d5:amd64.\n",
      "Preparing to unpack .../031-libdav1d5_0.9.2-1_amd64.deb ...\n",
      "Unpacking libdav1d5:amd64 (0.9.2-1) ...\n",
      "Selecting previously unselected package libmp3lame0:amd64.\n",
      "Preparing to unpack .../032-libmp3lame0_3.100-3build2_amd64.deb ...\n",
      "Unpacking libmp3lame0:amd64 (3.100-3build2) ...\n",
      "Selecting previously unselected package libopenjp2-7:amd64.\n",
      "Preparing to unpack .../033-libopenjp2-7_2.4.0-6ubuntu0.4_amd64.deb ...\n",
      "Unpacking libopenjp2-7:amd64 (2.4.0-6ubuntu0.4) ...\n",
      "Selecting previously unselected package libcairo-gobject2:amd64.\n",
      "Preparing to unpack .../034-libcairo-gobject2_1.16.0-5ubuntu2_amd64.deb ...\n",
      "Unpacking libcairo-gobject2:amd64 (1.16.0-5ubuntu2) ...\n",
      "Selecting previously unselected package libgdk-pixbuf2.0-common.\n",
      "Preparing to unpack .../035-libgdk-pixbuf2.0-common_2.42.8+dfsg-1ubuntu0.4_all.deb ...\n",
      "Unpacking libgdk-pixbuf2.0-common (2.42.8+dfsg-1ubuntu0.4) ...\n",
      "Selecting previously unselected package libgdk-pixbuf-2.0-0:amd64.\n",
      "Preparing to unpack .../036-libgdk-pixbuf-2.0-0_2.42.8+dfsg-1ubuntu0.4_amd64.deb ...\n",
      "Unpacking libgdk-pixbuf-2.0-0:amd64 (2.42.8+dfsg-1ubuntu0.4) ...\n",
      "Selecting previously unselected package fontconfig.\n",
      "Preparing to unpack .../037-fontconfig_2.13.1-4.2ubuntu5_amd64.deb ...\n",
      "Unpacking fontconfig (2.13.1-4.2ubuntu5) ...\n",
      "Selecting previously unselected package libgraphite2-3:amd64.\n",
      "Preparing to unpack .../038-libgraphite2-3_1.3.14-1build2_amd64.deb ...\n",
      "Unpacking libgraphite2-3:amd64 (1.3.14-1build2) ...\n",
      "Selecting previously unselected package libharfbuzz0b:amd64.\n",
      "Preparing to unpack .../039-libharfbuzz0b_2.7.4-1ubuntu3.2_amd64.deb ...\n",
      "Unpacking libharfbuzz0b:amd64 (2.7.4-1ubuntu3.2) ...\n",
      "Selecting previously unselected package libthai-data.\n",
      "Preparing to unpack .../040-libthai-data_0.1.29-1build1_all.deb ...\n",
      "Unpacking libthai-data (0.1.29-1build1) ...\n",
      "Selecting previously unselected package libdatrie1:amd64.\n",
      "Preparing to unpack .../041-libdatrie1_0.2.13-2_amd64.deb ...\n",
      "Unpacking libdatrie1:amd64 (0.2.13-2) ...\n",
      "Selecting previously unselected package libthai0:amd64.\n",
      "Preparing to unpack .../042-libthai0_0.1.29-1build1_amd64.deb ...\n",
      "Unpacking libthai0:amd64 (0.1.29-1build1) ...\n",
      "Selecting previously unselected package libpango-1.0-0:amd64.\n",
      "Preparing to unpack .../043-libpango-1.0-0_1.50.6+ds-2ubuntu1_amd64.deb ...\n",
      "Unpacking libpango-1.0-0:amd64 (1.50.6+ds-2ubuntu1) ...\n",
      "Selecting previously unselected package libpangoft2-1.0-0:amd64.\n",
      "Preparing to unpack .../044-libpangoft2-1.0-0_1.50.6+ds-2ubuntu1_amd64.deb ...\n",
      "Unpacking libpangoft2-1.0-0:amd64 (1.50.6+ds-2ubuntu1) ...\n",
      "Selecting previously unselected package libpangocairo-1.0-0:amd64.\n",
      "Preparing to unpack .../045-libpangocairo-1.0-0_1.50.6+ds-2ubuntu1_amd64.deb ...\n",
      "Unpacking libpangocairo-1.0-0:amd64 (1.50.6+ds-2ubuntu1) ...\n",
      "Selecting previously unselected package librsvg2-2:amd64.\n",
      "Preparing to unpack .../046-librsvg2-2_2.52.5+dfsg-3ubuntu0.2_amd64.deb ...\n",
      "Unpacking librsvg2-2:amd64 (2.52.5+dfsg-3ubuntu0.2) ...\n",
      "Selecting previously unselected package libshine3:amd64.\n",
      "Preparing to unpack .../047-libshine3_3.1.1-2_amd64.deb ...\n",
      "Unpacking libshine3:amd64 (3.1.1-2) ...\n",
      "Selecting previously unselected package libspeex1:amd64.\n",
      "Preparing to unpack .../048-libspeex1_1.2~rc1.2-1.1ubuntu3_amd64.deb ...\n",
      "Unpacking libspeex1:amd64 (1.2~rc1.2-1.1ubuntu3) ...\n",
      "Selecting previously unselected package libsoxr0:amd64.\n",
      "Preparing to unpack .../049-libsoxr0_0.1.3-4build2_amd64.deb ...\n",
      "Unpacking libsoxr0:amd64 (0.1.3-4build2) ...\n",
      "Selecting previously unselected package libswresample3:amd64.\n",
      "Preparing to unpack .../050-libswresample3_7%3a4.4.2-0ubuntu0.22.04.1_amd64.deb ...\n",
      "Unpacking libswresample3:amd64 (7:4.4.2-0ubuntu0.22.04.1) ...\n",
      "Selecting previously unselected package libtheora0:amd64.\n",
      "Preparing to unpack .../051-libtheora0_1.1.1+dfsg.1-15ubuntu4_amd64.deb ...\n",
      "Unpacking libtheora0:amd64 (1.1.1+dfsg.1-15ubuntu4) ...\n",
      "Selecting previously unselected package libtwolame0:amd64.\n",
      "Preparing to unpack .../052-libtwolame0_0.4.0-2build2_amd64.deb ...\n",
      "Unpacking libtwolame0:amd64 (0.4.0-2build2) ...\n",
      "Selecting previously unselected package libvpx7:amd64.\n",
      "Preparing to unpack .../053-libvpx7_1.11.0-2ubuntu2.4_amd64.deb ...\n",
      "Unpacking libvpx7:amd64 (1.11.0-2ubuntu2.4) ...\n",
      "Selecting previously unselected package libwebpmux3:amd64.\n",
      "Preparing to unpack .../054-libwebpmux3_1.2.2-2ubuntu0.22.04.2_amd64.deb ...\n",
      "Unpacking libwebpmux3:amd64 (1.2.2-2ubuntu0.22.04.2) ...\n",
      "Selecting previously unselected package libx264-163:amd64.\n",
      "Preparing to unpack .../055-libx264-163_2%3a0.163.3060+git5db6aa6-2build1_amd64.deb ...\n",
      "Unpacking libx264-163:amd64 (2:0.163.3060+git5db6aa6-2build1) ...\n",
      "Selecting previously unselected package libx265-199:amd64.\n",
      "Preparing to unpack .../056-libx265-199_3.5-2_amd64.deb ...\n",
      "Unpacking libx265-199:amd64 (3.5-2) ...\n",
      "Selecting previously unselected package libxvidcore4:amd64.\n",
      "Preparing to unpack .../057-libxvidcore4_2%3a1.3.7-1_amd64.deb ...\n",
      "Unpacking libxvidcore4:amd64 (2:1.3.7-1) ...\n",
      "Selecting previously unselected package libzvbi-common.\n",
      "Preparing to unpack .../058-libzvbi-common_0.2.35-19_all.deb ...\n",
      "Unpacking libzvbi-common (0.2.35-19) ...\n",
      "Selecting previously unselected package libzvbi0:amd64.\n",
      "Preparing to unpack .../059-libzvbi0_0.2.35-19_amd64.deb ...\n",
      "Unpacking libzvbi0:amd64 (0.2.35-19) ...\n",
      "Selecting previously unselected package libavcodec58:amd64.\n",
      "Preparing to unpack .../060-libavcodec58_7%3a4.4.2-0ubuntu0.22.04.1_amd64.deb ...\n",
      "Unpacking libavcodec58:amd64 (7:4.4.2-0ubuntu0.22.04.1) ...\n",
      "Selecting previously unselected package libraw1394-11:amd64.\n",
      "Preparing to unpack .../061-libraw1394-11_2.1.2-2build2_amd64.deb ...\n",
      "Unpacking libraw1394-11:amd64 (2.1.2-2build2) ...\n",
      "Selecting previously unselected package libavc1394-0:amd64.\n",
      "Preparing to unpack .../062-libavc1394-0_0.5.4-5build2_amd64.deb ...\n",
      "Unpacking libavc1394-0:amd64 (0.5.4-5build2) ...\n",
      "Selecting previously unselected package libass9:amd64.\n",
      "Preparing to unpack .../063-libass9_1%3a0.15.2-1_amd64.deb ...\n",
      "Unpacking libass9:amd64 (1:0.15.2-1) ...\n",
      "Selecting previously unselected package libudfread0:amd64.\n",
      "Preparing to unpack .../064-libudfread0_1.1.2-1_amd64.deb ...\n",
      "Unpacking libudfread0:amd64 (1.1.2-1) ...\n",
      "Selecting previously unselected package libbluray2:amd64.\n",
      "Preparing to unpack .../065-libbluray2_1%3a1.3.1-1_amd64.deb ...\n",
      "Unpacking libbluray2:amd64 (1:1.3.1-1) ...\n",
      "Selecting previously unselected package libchromaprint1:amd64.\n",
      "Preparing to unpack .../066-libchromaprint1_1.5.1-2_amd64.deb ...\n",
      "Unpacking libchromaprint1:amd64 (1.5.1-2) ...\n",
      "Selecting previously unselected package libgme0:amd64.\n",
      "Preparing to unpack .../067-libgme0_0.6.3-2_amd64.deb ...\n",
      "Unpacking libgme0:amd64 (0.6.3-2) ...\n",
      "Selecting previously unselected package libmpg123-0:amd64.\n",
      "Preparing to unpack .../068-libmpg123-0_1.29.3-1ubuntu0.1_amd64.deb ...\n",
      "Unpacking libmpg123-0:amd64 (1.29.3-1ubuntu0.1) ...\n",
      "Selecting previously unselected package libopenmpt0:amd64.\n",
      "Preparing to unpack .../069-libopenmpt0_0.6.1-1_amd64.deb ...\n",
      "Unpacking libopenmpt0:amd64 (0.6.1-1) ...\n",
      "Selecting previously unselected package librabbitmq4:amd64.\n",
      "Preparing to unpack .../070-librabbitmq4_0.10.0-1ubuntu2_amd64.deb ...\n",
      "Unpacking librabbitmq4:amd64 (0.10.0-1ubuntu2) ...\n",
      "Selecting previously unselected package libsrt1.4-gnutls:amd64.\n",
      "Preparing to unpack .../071-libsrt1.4-gnutls_1.4.4-4_amd64.deb ...\n",
      "Unpacking libsrt1.4-gnutls:amd64 (1.4.4-4) ...\n",
      "Selecting previously unselected package libssh-gcrypt-4:amd64.\n",
      "Preparing to unpack .../072-libssh-gcrypt-4_0.9.6-2ubuntu0.22.04.4_amd64.deb ...\n",
      "Unpacking libssh-gcrypt-4:amd64 (0.9.6-2ubuntu0.22.04.4) ...\n",
      "Selecting previously unselected package libnorm1:amd64.\n",
      "Preparing to unpack .../073-libnorm1_1.5.9+dfsg-2_amd64.deb ...\n",
      "Unpacking libnorm1:amd64 (1.5.9+dfsg-2) ...\n",
      "Selecting previously unselected package libpgm-5.3-0:amd64.\n",
      "Preparing to unpack .../074-libpgm-5.3-0_5.3.128~dfsg-2_amd64.deb ...\n",
      "Unpacking libpgm-5.3-0:amd64 (5.3.128~dfsg-2) ...\n",
      "Selecting previously unselected package libzmq5:amd64.\n",
      "Preparing to unpack .../075-libzmq5_4.3.4-2_amd64.deb ...\n",
      "Unpacking libzmq5:amd64 (4.3.4-2) ...\n",
      "Selecting previously unselected package libavformat58:amd64.\n",
      "Preparing to unpack .../076-libavformat58_7%3a4.4.2-0ubuntu0.22.04.1_amd64.deb ...\n",
      "Unpacking libavformat58:amd64 (7:4.4.2-0ubuntu0.22.04.1) ...\n",
      "Selecting previously unselected package libbs2b0:amd64.\n",
      "Preparing to unpack .../077-libbs2b0_3.1.0+dfsg-2.2build1_amd64.deb ...\n",
      "Unpacking libbs2b0:amd64 (3.1.0+dfsg-2.2build1) ...\n",
      "Selecting previously unselected package libflite1:amd64.\n",
      "Preparing to unpack .../078-libflite1_2.2-3_amd64.deb ...\n",
      "Unpacking libflite1:amd64 (2.2-3) ...\n",
      "Selecting previously unselected package libserd-0-0:amd64.\n",
      "Preparing to unpack .../079-libserd-0-0_0.30.10-2_amd64.deb ...\n",
      "Unpacking libserd-0-0:amd64 (0.30.10-2) ...\n",
      "Selecting previously unselected package libsord-0-0:amd64.\n",
      "Preparing to unpack .../080-libsord-0-0_0.16.8-2_amd64.deb ...\n",
      "Unpacking libsord-0-0:amd64 (0.16.8-2) ...\n",
      "Selecting previously unselected package libsratom-0-0:amd64.\n",
      "Preparing to unpack .../081-libsratom-0-0_0.6.8-1_amd64.deb ...\n",
      "Unpacking libsratom-0-0:amd64 (0.6.8-1) ...\n",
      "Selecting previously unselected package liblilv-0-0:amd64.\n",
      "Preparing to unpack .../082-liblilv-0-0_0.24.12-2_amd64.deb ...\n",
      "Unpacking liblilv-0-0:amd64 (0.24.12-2) ...\n",
      "Selecting previously unselected package libmysofa1:amd64.\n",
      "Preparing to unpack .../083-libmysofa1_1.2.1~dfsg0-1_amd64.deb ...\n",
      "Unpacking libmysofa1:amd64 (1.2.1~dfsg0-1) ...\n",
      "Selecting previously unselected package libasyncns0:amd64.\n",
      "Preparing to unpack .../084-libasyncns0_0.8-6build2_amd64.deb ...\n",
      "Unpacking libasyncns0:amd64 (0.8-6build2) ...\n",
      "Selecting previously unselected package libpulse0:amd64.\n",
      "Preparing to unpack .../085-libpulse0_1%3a15.99.1+dfsg1-1ubuntu2.2_amd64.deb ...\n",
      "Unpacking libpulse0:amd64 (1:15.99.1+dfsg1-1ubuntu2.2) ...\n",
      "Selecting previously unselected package libsphinxbase3:amd64.\n",
      "Preparing to unpack .../086-libsphinxbase3_0.8+5prealpha+1-13build1_amd64.deb ...\n",
      "Unpacking libsphinxbase3:amd64 (0.8+5prealpha+1-13build1) ...\n",
      "Selecting previously unselected package libpocketsphinx3:amd64.\n",
      "Preparing to unpack .../087-libpocketsphinx3_0.8.0+real5prealpha+1-14ubuntu1_amd64.deb ...\n",
      "Unpacking libpocketsphinx3:amd64 (0.8.0+real5prealpha+1-14ubuntu1) ...\n",
      "Selecting previously unselected package libpostproc55:amd64.\n",
      "Preparing to unpack .../088-libpostproc55_7%3a4.4.2-0ubuntu0.22.04.1_amd64.deb ...\n",
      "Unpacking libpostproc55:amd64 (7:4.4.2-0ubuntu0.22.04.1) ...\n",
      "Selecting previously unselected package libsamplerate0:amd64.\n",
      "Preparing to unpack .../089-libsamplerate0_0.2.2-1build1_amd64.deb ...\n",
      "Unpacking libsamplerate0:amd64 (0.2.2-1build1) ...\n",
      "Selecting previously unselected package librubberband2:amd64.\n",
      "Preparing to unpack .../090-librubberband2_2.0.0-2_amd64.deb ...\n",
      "Unpacking librubberband2:amd64 (2.0.0-2) ...\n",
      "Selecting previously unselected package libswscale5:amd64.\n",
      "Preparing to unpack .../091-libswscale5_7%3a4.4.2-0ubuntu0.22.04.1_amd64.deb ...\n",
      "Unpacking libswscale5:amd64 (7:4.4.2-0ubuntu0.22.04.1) ...\n",
      "Selecting previously unselected package libvidstab1.1:amd64.\n",
      "Preparing to unpack .../092-libvidstab1.1_1.1.0-2_amd64.deb ...\n",
      "Unpacking libvidstab1.1:amd64 (1.1.0-2) ...\n",
      "Selecting previously unselected package libzimg2:amd64.\n",
      "Preparing to unpack .../093-libzimg2_3.0.3+ds1-1_amd64.deb ...\n",
      "Unpacking libzimg2:amd64 (3.0.3+ds1-1) ...\n",
      "Selecting previously unselected package libavfilter7:amd64.\n",
      "Preparing to unpack .../094-libavfilter7_7%3a4.4.2-0ubuntu0.22.04.1_amd64.deb ...\n",
      "Unpacking libavfilter7:amd64 (7:4.4.2-0ubuntu0.22.04.1) ...\n",
      "Selecting previously unselected package libcaca0:amd64.\n",
      "Preparing to unpack .../095-libcaca0_0.99.beta19-2.2ubuntu4_amd64.deb ...\n",
      "Unpacking libcaca0:amd64 (0.99.beta19-2.2ubuntu4) ...\n",
      "Selecting previously unselected package libcdio19:amd64.\n",
      "Preparing to unpack .../096-libcdio19_2.1.0-3ubuntu0.2_amd64.deb ...\n",
      "Unpacking libcdio19:amd64 (2.1.0-3ubuntu0.2) ...\n",
      "Selecting previously unselected package libcdio-cdda2:amd64.\n",
      "Preparing to unpack .../097-libcdio-cdda2_10.2+2.0.0-1build3_amd64.deb ...\n",
      "Unpacking libcdio-cdda2:amd64 (10.2+2.0.0-1build3) ...\n",
      "Selecting previously unselected package libcdio-paranoia2:amd64.\n",
      "Preparing to unpack .../098-libcdio-paranoia2_10.2+2.0.0-1build3_amd64.deb ...\n",
      "Unpacking libcdio-paranoia2:amd64 (10.2+2.0.0-1build3) ...\n",
      "Selecting previously unselected package libdc1394-25:amd64.\n",
      "Preparing to unpack .../099-libdc1394-25_2.2.6-4_amd64.deb ...\n",
      "Unpacking libdc1394-25:amd64 (2.2.6-4) ...\n",
      "Selecting previously unselected package libglvnd0:amd64.\n",
      "Preparing to unpack .../100-libglvnd0_1.4.0-1_amd64.deb ...\n",
      "Unpacking libglvnd0:amd64 (1.4.0-1) ...\n",
      "Selecting previously unselected package libglapi-mesa:amd64.\n",
      "Preparing to unpack .../101-libglapi-mesa_23.2.1-1ubuntu3.1~22.04.3_amd64.deb ...\n",
      "Unpacking libglapi-mesa:amd64 (23.2.1-1ubuntu3.1~22.04.3) ...\n",
      "Selecting previously unselected package libxcb-dri2-0:amd64.\n",
      "Preparing to unpack .../102-libxcb-dri2-0_1.14-3ubuntu3_amd64.deb ...\n",
      "Unpacking libxcb-dri2-0:amd64 (1.14-3ubuntu3) ...\n",
      "Selecting previously unselected package libxcb-dri3-0:amd64.\n",
      "Preparing to unpack .../103-libxcb-dri3-0_1.14-3ubuntu3_amd64.deb ...\n",
      "Unpacking libxcb-dri3-0:amd64 (1.14-3ubuntu3) ...\n",
      "Selecting previously unselected package libxcb-glx0:amd64.\n",
      "Preparing to unpack .../104-libxcb-glx0_1.14-3ubuntu3_amd64.deb ...\n",
      "Unpacking libxcb-glx0:amd64 (1.14-3ubuntu3) ...\n",
      "Selecting previously unselected package libxcb-present0:amd64.\n",
      "Preparing to unpack .../105-libxcb-present0_1.14-3ubuntu3_amd64.deb ...\n",
      "Unpacking libxcb-present0:amd64 (1.14-3ubuntu3) ...\n",
      "Selecting previously unselected package libxcb-randr0:amd64.\n",
      "Preparing to unpack .../106-libxcb-randr0_1.14-3ubuntu3_amd64.deb ...\n",
      "Unpacking libxcb-randr0:amd64 (1.14-3ubuntu3) ...\n",
      "Selecting previously unselected package libxcb-sync1:amd64.\n",
      "Preparing to unpack .../107-libxcb-sync1_1.14-3ubuntu3_amd64.deb ...\n",
      "Unpacking libxcb-sync1:amd64 (1.14-3ubuntu3) ...\n",
      "Selecting previously unselected package libxcb-xfixes0:amd64.\n",
      "Preparing to unpack .../108-libxcb-xfixes0_1.14-3ubuntu3_amd64.deb ...\n",
      "Unpacking libxcb-xfixes0:amd64 (1.14-3ubuntu3) ...\n",
      "Selecting previously unselected package libxshmfence1:amd64.\n",
      "Preparing to unpack .../109-libxshmfence1_1.3-1build4_amd64.deb ...\n",
      "Unpacking libxshmfence1:amd64 (1.3-1build4) ...\n",
      "Selecting previously unselected package libxxf86vm1:amd64.\n",
      "Preparing to unpack .../110-libxxf86vm1_1%3a1.1.4-1build3_amd64.deb ...\n",
      "Unpacking libxxf86vm1:amd64 (1:1.1.4-1build3) ...\n",
      "Selecting previously unselected package libdrm-amdgpu1:amd64.\n",
      "Preparing to unpack .../111-libdrm-amdgpu1_2.4.113-2~ubuntu0.22.04.1_amd64.deb ...\n",
      "Unpacking libdrm-amdgpu1:amd64 (2.4.113-2~ubuntu0.22.04.1) ...\n",
      "Selecting previously unselected package libpciaccess0:amd64.\n",
      "Preparing to unpack .../112-libpciaccess0_0.16-3_amd64.deb ...\n",
      "Unpacking libpciaccess0:amd64 (0.16-3) ...\n",
      "Selecting previously unselected package libdrm-intel1:amd64.\n",
      "Preparing to unpack .../113-libdrm-intel1_2.4.113-2~ubuntu0.22.04.1_amd64.deb ...\n",
      "Unpacking libdrm-intel1:amd64 (2.4.113-2~ubuntu0.22.04.1) ...\n",
      "Selecting previously unselected package libdrm-nouveau2:amd64.\n",
      "Preparing to unpack .../114-libdrm-nouveau2_2.4.113-2~ubuntu0.22.04.1_amd64.deb ...\n",
      "Unpacking libdrm-nouveau2:amd64 (2.4.113-2~ubuntu0.22.04.1) ...\n",
      "Selecting previously unselected package libdrm-radeon1:amd64.\n",
      "Preparing to unpack .../115-libdrm-radeon1_2.4.113-2~ubuntu0.22.04.1_amd64.deb ...\n",
      "Unpacking libdrm-radeon1:amd64 (2.4.113-2~ubuntu0.22.04.1) ...\n",
      "Selecting previously unselected package libllvm15:amd64.\n",
      "Preparing to unpack .../116-libllvm15_1%3a15.0.7-0ubuntu0.22.04.3_amd64.deb ...\n",
      "Unpacking libllvm15:amd64 (1:15.0.7-0ubuntu0.22.04.3) ...\n",
      "Selecting previously unselected package libsensors-config.\n",
      "Preparing to unpack .../117-libsensors-config_1%3a3.6.0-7ubuntu1_all.deb ...\n",
      "Unpacking libsensors-config (1:3.6.0-7ubuntu1) ...\n",
      "Selecting previously unselected package libsensors5:amd64.\n",
      "Preparing to unpack .../118-libsensors5_1%3a3.6.0-7ubuntu1_amd64.deb ...\n",
      "Unpacking libsensors5:amd64 (1:3.6.0-7ubuntu1) ...\n",
      "Selecting previously unselected package libgl1-mesa-dri:amd64.\n",
      "Preparing to unpack .../119-libgl1-mesa-dri_23.2.1-1ubuntu3.1~22.04.3_amd64.deb ...\n",
      "Unpacking libgl1-mesa-dri:amd64 (23.2.1-1ubuntu3.1~22.04.3) ...\n",
      "Selecting previously unselected package libglx-mesa0:amd64.\n",
      "Preparing to unpack .../120-libglx-mesa0_23.2.1-1ubuntu3.1~22.04.3_amd64.deb ...\n",
      "Unpacking libglx-mesa0:amd64 (23.2.1-1ubuntu3.1~22.04.3) ...\n",
      "Selecting previously unselected package libglx0:amd64.\n",
      "Preparing to unpack .../121-libglx0_1.4.0-1_amd64.deb ...\n",
      "Unpacking libglx0:amd64 (1.4.0-1) ...\n",
      "Selecting previously unselected package libgl1:amd64.\n",
      "Preparing to unpack .../122-libgl1_1.4.0-1_amd64.deb ...\n",
      "Unpacking libgl1:amd64 (1.4.0-1) ...\n",
      "Selecting previously unselected package libiec61883-0:amd64.\n",
      "Preparing to unpack .../123-libiec61883-0_1.2.0-4build3_amd64.deb ...\n",
      "Unpacking libiec61883-0:amd64 (1.2.0-4build3) ...\n",
      "Selecting previously unselected package libjack-jackd2-0:amd64.\n",
      "Preparing to unpack .../124-libjack-jackd2-0_1.9.20~dfsg-1_amd64.deb ...\n",
      "Unpacking libjack-jackd2-0:amd64 (1.9.20~dfsg-1) ...\n",
      "Selecting previously unselected package libopenal-data.\n",
      "Preparing to unpack .../125-libopenal-data_1%3a1.19.1-2build3_all.deb ...\n",
      "Unpacking libopenal-data (1:1.19.1-2build3) ...\n",
      "Selecting previously unselected package libsndio7.0:amd64.\n",
      "Preparing to unpack .../126-libsndio7.0_1.8.1-1.1_amd64.deb ...\n",
      "Unpacking libsndio7.0:amd64 (1.8.1-1.1) ...\n",
      "Selecting previously unselected package libopenal1:amd64.\n",
      "Preparing to unpack .../127-libopenal1_1%3a1.19.1-2build3_amd64.deb ...\n",
      "Unpacking libopenal1:amd64 (1:1.19.1-2build3) ...\n",
      "Selecting previously unselected package libwayland-client0:amd64.\n",
      "Preparing to unpack .../128-libwayland-client0_1.20.0-1ubuntu0.1_amd64.deb ...\n",
      "Unpacking libwayland-client0:amd64 (1.20.0-1ubuntu0.1) ...\n",
      "Selecting previously unselected package libdecor-0-0:amd64.\n",
      "Preparing to unpack .../129-libdecor-0-0_0.1.0-3build1_amd64.deb ...\n",
      "Unpacking libdecor-0-0:amd64 (0.1.0-3build1) ...\n",
      "Selecting previously unselected package libwayland-server0:amd64.\n",
      "Preparing to unpack .../130-libwayland-server0_1.20.0-1ubuntu0.1_amd64.deb ...\n",
      "Unpacking libwayland-server0:amd64 (1.20.0-1ubuntu0.1) ...\n",
      "Selecting previously unselected package libgbm1:amd64.\n",
      "Preparing to unpack .../131-libgbm1_23.2.1-1ubuntu3.1~22.04.3_amd64.deb ...\n",
      "Unpacking libgbm1:amd64 (23.2.1-1ubuntu3.1~22.04.3) ...\n",
      "Selecting previously unselected package libwayland-cursor0:amd64.\n",
      "Preparing to unpack .../132-libwayland-cursor0_1.20.0-1ubuntu0.1_amd64.deb ...\n",
      "Unpacking libwayland-cursor0:amd64 (1.20.0-1ubuntu0.1) ...\n",
      "Selecting previously unselected package libwayland-egl1:amd64.\n",
      "Preparing to unpack .../133-libwayland-egl1_1.20.0-1ubuntu0.1_amd64.deb ...\n",
      "Unpacking libwayland-egl1:amd64 (1.20.0-1ubuntu0.1) ...\n",
      "Selecting previously unselected package libxcursor1:amd64.\n",
      "Preparing to unpack .../134-libxcursor1_1%3a1.2.0-2build4_amd64.deb ...\n",
      "Unpacking libxcursor1:amd64 (1:1.2.0-2build4) ...\n",
      "Selecting previously unselected package libxi6:amd64.\n",
      "Preparing to unpack .../135-libxi6_2%3a1.8-1build1_amd64.deb ...\n",
      "Unpacking libxi6:amd64 (2:1.8-1build1) ...\n",
      "Selecting previously unselected package libxinerama1:amd64.\n",
      "Preparing to unpack .../136-libxinerama1_2%3a1.1.4-3_amd64.deb ...\n",
      "Unpacking libxinerama1:amd64 (2:1.1.4-3) ...\n",
      "Selecting previously unselected package libxkbcommon0:amd64.\n",
      "Preparing to unpack .../137-libxkbcommon0_1.4.0-1_amd64.deb ...\n",
      "Unpacking libxkbcommon0:amd64 (1.4.0-1) ...\n",
      "Selecting previously unselected package libxrandr2:amd64.\n",
      "Preparing to unpack .../138-libxrandr2_2%3a1.5.2-1build1_amd64.deb ...\n",
      "Unpacking libxrandr2:amd64 (2:1.5.2-1build1) ...\n",
      "Selecting previously unselected package libxss1:amd64.\n",
      "Preparing to unpack .../139-libxss1_1%3a1.2.3-1build2_amd64.deb ...\n",
      "Unpacking libxss1:amd64 (1:1.2.3-1build2) ...\n",
      "Selecting previously unselected package libsdl2-2.0-0:amd64.\n",
      "Preparing to unpack .../140-libsdl2-2.0-0_2.0.20+dfsg-2ubuntu1.22.04.1_amd64.deb ...\n",
      "Unpacking libsdl2-2.0-0:amd64 (2.0.20+dfsg-2ubuntu1.22.04.1) ...\n",
      "Selecting previously unselected package libxcb-shape0:amd64.\n",
      "Preparing to unpack .../141-libxcb-shape0_1.14-3ubuntu3_amd64.deb ...\n",
      "Unpacking libxcb-shape0:amd64 (1.14-3ubuntu3) ...\n",
      "Selecting previously unselected package libxv1:amd64.\n",
      "Preparing to unpack .../142-libxv1_2%3a1.0.11-1build2_amd64.deb ...\n",
      "Unpacking libxv1:amd64 (2:1.0.11-1build2) ...\n",
      "Selecting previously unselected package libavdevice58:amd64.\n",
      "Preparing to unpack .../143-libavdevice58_7%3a4.4.2-0ubuntu0.22.04.1_amd64.deb ...\n",
      "Unpacking libavdevice58:amd64 (7:4.4.2-0ubuntu0.22.04.1) ...\n",
      "Selecting previously unselected package ffmpeg.\n",
      "Preparing to unpack .../144-ffmpeg_7%3a4.4.2-0ubuntu0.22.04.1_amd64.deb ...\n",
      "Unpacking ffmpeg (7:4.4.2-0ubuntu0.22.04.1) ...\n",
      "Selecting previously unselected package libigdgmm12:amd64.\n",
      "Preparing to unpack .../145-libigdgmm12_22.1.2+ds1-1_amd64.deb ...\n",
      "Unpacking libigdgmm12:amd64 (22.1.2+ds1-1) ...\n",
      "Selecting previously unselected package intel-media-va-driver:amd64.\n",
      "Preparing to unpack .../146-intel-media-va-driver_22.3.1+dfsg1-1ubuntu2_amd64.deb ...\n",
      "Unpacking intel-media-va-driver:amd64 (22.3.1+dfsg1-1ubuntu2) ...\n",
      "Selecting previously unselected package libaacs0:amd64.\n",
      "Preparing to unpack .../147-libaacs0_0.11.1-1_amd64.deb ...\n",
      "Unpacking libaacs0:amd64 (0.11.1-1) ...\n",
      "Selecting previously unselected package libbdplus0:amd64.\n",
      "Preparing to unpack .../148-libbdplus0_0.2.0-1_amd64.deb ...\n",
      "Unpacking libbdplus0:amd64 (0.2.0-1) ...\n",
      "Selecting previously unselected package libdecor-0-plugin-1-cairo:amd64.\n",
      "Preparing to unpack .../149-libdecor-0-plugin-1-cairo_0.1.0-3build1_amd64.deb ...\n",
      "Unpacking libdecor-0-plugin-1-cairo:amd64 (0.1.0-3build1) ...\n",
      "Selecting previously unselected package libgdk-pixbuf2.0-bin.\n",
      "Preparing to unpack .../150-libgdk-pixbuf2.0-bin_2.42.8+dfsg-1ubuntu0.4_amd64.deb ...\n",
      "Unpacking libgdk-pixbuf2.0-bin (2.42.8+dfsg-1ubuntu0.4) ...\n",
      "Selecting previously unselected package libgl1-amber-dri:amd64.\n",
      "Preparing to unpack .../151-libgl1-amber-dri_21.3.9-0ubuntu1~22.04.1_amd64.deb ...\n",
      "Unpacking libgl1-amber-dri:amd64 (21.3.9-0ubuntu1~22.04.1) ...\n",
      "Selecting previously unselected package librsvg2-common:amd64.\n",
      "Preparing to unpack .../152-librsvg2-common_2.52.5+dfsg-3ubuntu0.2_amd64.deb ...\n",
      "Unpacking librsvg2-common:amd64 (2.52.5+dfsg-3ubuntu0.2) ...\n",
      "Selecting previously unselected package mesa-va-drivers:amd64.\n",
      "Preparing to unpack .../153-mesa-va-drivers_23.2.1-1ubuntu3.1~22.04.3_amd64.deb ...\n",
      "Unpacking mesa-va-drivers:amd64 (23.2.1-1ubuntu3.1~22.04.3) ...\n",
      "Selecting previously unselected package mesa-vdpau-drivers:amd64.\n",
      "Preparing to unpack .../154-mesa-vdpau-drivers_23.2.1-1ubuntu3.1~22.04.3_amd64.deb ...\n",
      "Unpacking mesa-vdpau-drivers:amd64 (23.2.1-1ubuntu3.1~22.04.3) ...\n",
      "Selecting previously unselected package i965-va-driver:amd64.\n",
      "Preparing to unpack .../155-i965-va-driver_2.4.1+dfsg1-1_amd64.deb ...\n",
      "Unpacking i965-va-driver:amd64 (2.4.1+dfsg1-1) ...\n",
      "Selecting previously unselected package va-driver-all:amd64.\n",
      "Preparing to unpack .../156-va-driver-all_2.14.0-1_amd64.deb ...\n",
      "Unpacking va-driver-all:amd64 (2.14.0-1) ...\n",
      "Selecting previously unselected package vdpau-driver-all:amd64.\n",
      "Preparing to unpack .../157-vdpau-driver-all_1.4-3build2_amd64.deb ...\n",
      "Unpacking vdpau-driver-all:amd64 (1.4-3build2) ...\n",
      "Selecting previously unselected package pocketsphinx-en-us.\n",
      "Preparing to unpack .../158-pocketsphinx-en-us_0.8.0+real5prealpha+1-14ubuntu1_all.deb ...\n",
      "Unpacking pocketsphinx-en-us (0.8.0+real5prealpha+1-14ubuntu1) ...\n",
      "Setting up libgme0:amd64 (0.6.3-2) ...\n",
      "Setting up libssh-gcrypt-4:amd64 (0.9.6-2ubuntu0.22.04.4) ...\n",
      "Setting up libgraphite2-3:amd64 (1.3.14-1build2) ...\n",
      "Setting up libsrt1.4-gnutls:amd64 (1.4.4-4) ...\n",
      "Setting up libxcb-dri3-0:amd64 (1.14-3ubuntu3) ...\n",
      "Setting up libpixman-1-0:amd64 (0.40.0-1ubuntu0.22.04.1) ...\n",
      "Setting up libudfread0:amd64 (1.1.2-1) ...\n",
      "Setting up libwayland-server0:amd64 (1.20.0-1ubuntu0.1) ...\n",
      "Setting up libaom3:amd64 (3.3.0-1ubuntu0.1) ...\n",
      "Setting up libpciaccess0:amd64 (0.16-3) ...\n",
      "Setting up librabbitmq4:amd64 (0.10.0-1ubuntu2) ...\n",
      "Setting up libraw1394-11:amd64 (2.1.2-2build2) ...\n",
      "Setting up libapparmor1:amd64 (3.0.4-2ubuntu2.4) ...\n",
      "Setting up libcodec2-1.0:amd64 (1.0.1-3) ...\n",
      "Setting up libmpg123-0:amd64 (1.29.3-1ubuntu0.1) ...\n",
      "Setting up libxcb-xfixes0:amd64 (1.14-3ubuntu3) ...\n",
      "Setting up libspeex1:amd64 (1.2~rc1.2-1.1ubuntu3) ...\n",
      "Setting up libshine3:amd64 (3.1.1-2) ...\n",
      "Setting up libxi6:amd64 (2:1.8-1build1) ...\n",
      "Setting up libtwolame0:amd64 (0.4.0-2build2) ...\n",
      "Setting up libxrender1:amd64 (1:0.9.10-1build4) ...\n",
      "Setting up libdatrie1:amd64 (0.2.13-2) ...\n",
      "Setting up libxcb-render0:amd64 (1.14-3ubuntu3) ...\n",
      "Setting up libsoxr0:amd64 (0.1.3-4build2) ...\n",
      "Setting up libglvnd0:amd64 (1.4.0-1) ...\n",
      "Setting up libpgm-5.3-0:amd64 (5.3.128~dfsg-2) ...\n",
      "Setting up libxcb-glx0:amd64 (1.14-3ubuntu3) ...\n",
      "Setting up libgdk-pixbuf2.0-common (2.42.8+dfsg-1ubuntu0.4) ...\n",
      "Setting up libnorm1:amd64 (1.5.9+dfsg-2) ...\n",
      "Setting up libmysofa1:amd64 (1.2.1~dfsg0-1) ...\n",
      "Setting up libxcb-shape0:amd64 (1.14-3ubuntu3) ...\n",
      "Setting up libsensors-config (1:3.6.0-7ubuntu1) ...\n",
      "Setting up xkb-data (2.33-1) ...\n",
      "Setting up libigdgmm12:amd64 (22.1.2+ds1-1) ...\n",
      "Setting up libcdio19:amd64 (2.1.0-3ubuntu0.2) ...\n",
      "Setting up libxvidcore4:amd64 (2:1.3.7-1) ...\n",
      "Setting up libxxf86vm1:amd64 (1:1.1.4-1build3) ...\n",
      "Setting up libxcb-present0:amd64 (1.14-3ubuntu3) ...\n",
      "Setting up libslang2:amd64 (2.3.2-5build4) ...\n",
      "Setting up libva2:amd64 (2.14.0-1) ...\n",
      "Setting up libxfixes3:amd64 (1:6.0.0-1) ...\n",
      "Setting up libxcb-sync1:amd64 (1.14-3ubuntu3) ...\n",
      "Setting up libx264-163:amd64 (2:0.163.3060+git5db6aa6-2build1) ...\n",
      "Setting up libdbus-1-3:amd64 (1.12.20-2ubuntu4.1) ...\n",
      "Setting up dbus (1.12.20-2ubuntu4.1) ...\n",
      "Setting up libfribidi0:amd64 (1.0.8-2ubuntu3.1) ...\n",
      "Setting up libxinerama1:amd64 (2:1.1.4-3) ...\n",
      "Setting up intel-media-va-driver:amd64 (22.3.1+dfsg1-1ubuntu2) ...\n",
      "Setting up libxv1:amd64 (2:1.0.11-1build2) ...\n",
      "Setting up libxrandr2:amd64 (2:1.5.2-1build1) ...\n",
      "Setting up fonts-dejavu-core (2.37-2build1) ...\n",
      "Setting up ucf (3.0043) ...\n",
      "debconf: unable to initialize frontend: Dialog\n",
      "debconf: (No usable dialog-like program is installed, so the dialog based frontend cannot be used. at /usr/share/perl5/Debconf/FrontEnd/Dialog.pm line 78.)\n",
      "debconf: falling back to frontend: Readline\n",
      "Setting up libsensors5:amd64 (1:3.6.0-7ubuntu1) ...\n",
      "Setting up libaacs0:amd64 (0.11.1-1) ...\n",
      "Setting up pocketsphinx-en-us (0.8.0+real5prealpha+1-14ubuntu1) ...\n",
      "Setting up libglapi-mesa:amd64 (23.2.1-1ubuntu3.1~22.04.3) ...\n",
      "Setting up libx265-199:amd64 (3.5-2) ...\n",
      "Setting up libsndio7.0:amd64 (1.8.1-1.1) ...\n",
      "Setting up libxcb-dri2-0:amd64 (1.14-3ubuntu3) ...\n",
      "Setting up libbdplus0:amd64 (0.2.0-1) ...\n",
      "Setting up libvidstab1.1:amd64 (1.1.0-2) ...\n",
      "Setting up libflite1:amd64 (2.2-3) ...\n",
      "Setting up ocl-icd-libopencl1:amd64 (2.2.14-3) ...\n",
      "Setting up libasyncns0:amd64 (0.8-6build2) ...\n",
      "Setting up libxshmfence1:amd64 (1.3-1build4) ...\n",
      "Setting up libvdpau1:amd64 (1.4-3build2) ...\n",
      "Setting up libbs2b0:amd64 (3.1.0+dfsg-2.2build1) ...\n",
      "Setting up libxcb-randr0:amd64 (1.14-3ubuntu3) ...\n",
      "Setting up libzimg2:amd64 (3.0.3+ds1-1) ...\n",
      "Setting up libopenjp2-7:amd64 (2.4.0-6ubuntu0.4) ...\n",
      "Setting up libharfbuzz0b:amd64 (2.7.4-1ubuntu3.2) ...\n",
      "Setting up libopenal-data (1:1.19.1-2build3) ...\n",
      "Setting up libthai-data (0.1.29-1build1) ...\n",
      "Setting up libvpx7:amd64 (1.11.0-2ubuntu2.4) ...\n",
      "Setting up libwayland-egl1:amd64 (1.20.0-1ubuntu0.1) ...\n",
      "Setting up libxss1:amd64 (1:1.2.3-1build2) ...\n",
      "Setting up libusb-1.0-0:amd64 (2:1.0.25-1ubuntu2) ...\n",
      "Setting up libdav1d5:amd64 (0.9.2-1) ...\n",
      "Setting up libmfx1:amd64 (22.3.0-1) ...\n",
      "Setting up libsamplerate0:amd64 (0.2.2-1build1) ...\n",
      "Setting up libwebpmux3:amd64 (1.2.2-2ubuntu0.22.04.2) ...\n",
      "Setting up libdrm-common (2.4.113-2~ubuntu0.22.04.1) ...\n",
      "Setting up libelf1:amd64 (0.186-1ubuntu0.1) ...\n",
      "Setting up libopenmpt0:amd64 (0.6.1-1) ...\n",
      "Setting up libzvbi-common (0.2.35-19) ...\n",
      "Setting up libmp3lame0:amd64 (3.100-3build2) ...\n",
      "Setting up libicu70:amd64 (70.1-2) ...\n",
      "Setting up libiec61883-0:amd64 (1.2.0-4build3) ...\n",
      "Setting up libserd-0-0:amd64 (0.30.10-2) ...\n",
      "Setting up libxkbcommon0:amd64 (1.4.0-1) ...\n",
      "Setting up libwayland-client0:amd64 (1.20.0-1ubuntu0.1) ...\n",
      "Setting up libavc1394-0:amd64 (0.5.4-5build2) ...\n",
      "Setting up libzvbi0:amd64 (0.2.35-19) ...\n",
      "Setting up libzmq5:amd64 (4.3.4-2) ...\n",
      "Setting up libcaca0:amd64 (0.99.beta19-2.2ubuntu4) ...\n",
      "Setting up libpulse0:amd64 (1:15.99.1+dfsg1-1ubuntu2.2) ...\n",
      "Setting up libcdio-cdda2:amd64 (10.2+2.0.0-1build3) ...\n",
      "Setting up fontconfig-config (2.13.1-4.2ubuntu5) ...\n",
      "Setting up libcdio-paranoia2:amd64 (10.2+2.0.0-1build3) ...\n",
      "Setting up libxcursor1:amd64 (1:1.2.0-2build4) ...\n",
      "Setting up libopenal1:amd64 (1:1.19.1-2build3) ...\n",
      "Setting up libthai0:amd64 (0.1.29-1build1) ...\n",
      "Setting up libdc1394-25:amd64 (2.2.6-4) ...\n",
      "Setting up librubberband2:amd64 (2.0.0-2) ...\n",
      "Setting up libjack-jackd2-0:amd64 (1.9.20~dfsg-1) ...\n",
      "Setting up libdrm2:amd64 (2.4.113-2~ubuntu0.22.04.1) ...\n",
      "Setting up libva-drm2:amd64 (2.14.0-1) ...\n",
      "Setting up libsord-0-0:amd64 (0.16.8-2) ...\n",
      "Setting up libwayland-cursor0:amd64 (1.20.0-1ubuntu0.1) ...\n",
      "Setting up libsratom-0-0:amd64 (0.6.8-1) ...\n",
      "Setting up libdecor-0-0:amd64 (0.1.0-3build1) ...\n",
      "Setting up libfontconfig1:amd64 (2.13.1-4.2ubuntu5) ...\n",
      "Setting up libva-x11-2:amd64 (2.14.0-1) ...\n",
      "Setting up liblilv-0-0:amd64 (0.24.12-2) ...\n",
      "Setting up libxml2:amd64 (2.9.13+dfsg-1ubuntu0.9) ...\n",
      "Setting up libdrm-amdgpu1:amd64 (2.4.113-2~ubuntu0.22.04.1) ...\n",
      "Setting up fontconfig (2.13.1-4.2ubuntu5) ...\n",
      "Regenerating fonts cache... done.\n",
      "Setting up libdrm-nouveau2:amd64 (2.4.113-2~ubuntu0.22.04.1) ...\n",
      "Setting up libgbm1:amd64 (23.2.1-1ubuntu3.1~22.04.3) ...\n",
      "Setting up libsphinxbase3:amd64 (0.8+5prealpha+1-13build1) ...\n",
      "Setting up libdrm-radeon1:amd64 (2.4.113-2~ubuntu0.22.04.1) ...\n",
      "Setting up libpango-1.0-0:amd64 (1.50.6+ds-2ubuntu1) ...\n",
      "Setting up libdrm-intel1:amd64 (2.4.113-2~ubuntu0.22.04.1) ...\n",
      "Setting up libcairo2:amd64 (1.16.0-5ubuntu2) ...\n",
      "Setting up libavutil56:amd64 (7:4.4.2-0ubuntu0.22.04.1) ...\n",
      "Setting up libpocketsphinx3:amd64 (0.8.0+real5prealpha+1-14ubuntu1) ...\n",
      "Setting up libass9:amd64 (1:0.15.2-1) ...\n",
      "Setting up shared-mime-info (2.1-2) ...\n",
      "Setting up libpostproc55:amd64 (7:4.4.2-0ubuntu0.22.04.1) ...\n",
      "Setting up libllvm15:amd64 (1:15.0.7-0ubuntu0.22.04.3) ...\n",
      "Setting up libtheora0:amd64 (1.1.1+dfsg.1-15ubuntu4) ...\n",
      "Setting up libgdk-pixbuf-2.0-0:amd64 (2.42.8+dfsg-1ubuntu0.4) ...\n",
      "Setting up libswscale5:amd64 (7:4.4.2-0ubuntu0.22.04.1) ...\n",
      "Setting up libcairo-gobject2:amd64 (1.16.0-5ubuntu2) ...\n",
      "Setting up mesa-va-drivers:amd64 (23.2.1-1ubuntu3.1~22.04.3) ...\n",
      "Setting up libpangoft2-1.0-0:amd64 (1.50.6+ds-2ubuntu1) ...\n",
      "Setting up libbluray2:amd64 (1:1.3.1-1) ...\n",
      "Setting up libsdl2-2.0-0:amd64 (2.0.20+dfsg-2ubuntu1.22.04.1) ...\n",
      "Setting up i965-va-driver:amd64 (2.4.1+dfsg1-1) ...\n",
      "Setting up libpangocairo-1.0-0:amd64 (1.50.6+ds-2ubuntu1) ...\n",
      "Setting up libgl1-amber-dri:amd64 (21.3.9-0ubuntu1~22.04.1) ...\n",
      "Setting up mesa-vdpau-drivers:amd64 (23.2.1-1ubuntu3.1~22.04.3) ...\n",
      "Setting up libgl1-mesa-dri:amd64 (23.2.1-1ubuntu3.1~22.04.3) ...\n",
      "Setting up libswresample3:amd64 (7:4.4.2-0ubuntu0.22.04.1) ...\n",
      "Setting up librsvg2-2:amd64 (2.52.5+dfsg-3ubuntu0.2) ...\n",
      "Setting up va-driver-all:amd64 (2.14.0-1) ...\n",
      "Setting up libdecor-0-plugin-1-cairo:amd64 (0.1.0-3build1) ...\n",
      "Setting up librsvg2-common:amd64 (2.52.5+dfsg-3ubuntu0.2) ...\n",
      "Setting up vdpau-driver-all:amd64 (1.4-3build2) ...\n",
      "Setting up libgdk-pixbuf2.0-bin (2.42.8+dfsg-1ubuntu0.4) ...\n",
      "Setting up libavcodec58:amd64 (7:4.4.2-0ubuntu0.22.04.1) ...\n",
      "Setting up libchromaprint1:amd64 (1.5.1-2) ...\n",
      "Setting up libglx-mesa0:amd64 (23.2.1-1ubuntu3.1~22.04.3) ...\n",
      "Setting up libglx0:amd64 (1.4.0-1) ...\n",
      "Setting up libavformat58:amd64 (7:4.4.2-0ubuntu0.22.04.1) ...\n",
      "Setting up libgl1:amd64 (1.4.0-1) ...\n",
      "Setting up libavfilter7:amd64 (7:4.4.2-0ubuntu0.22.04.1) ...\n",
      "Setting up libavdevice58:amd64 (7:4.4.2-0ubuntu0.22.04.1) ...\n",
      "Setting up ffmpeg (7:4.4.2-0ubuntu0.22.04.1) ...\n",
      "Processing triggers for man-db (2.10.2-1) ...\n",
      "Processing triggers for libc-bin (2.35-0ubuntu3.5) ...\n",
      "Processing triggers for libgdk-pixbuf-2.0-0:amd64 (2.42.8+dfsg-1ubuntu0.4) ...\n"
     ]
    }
   ],
   "source": [
    "!apt-get update && apt-get install -y ffmpeg"
   ]
  }
 ],
 "metadata": {
  "kernelspec": {
   "display_name": "Python 3",
   "language": "python",
   "name": "python3"
  },
  "language_info": {
   "codemirror_mode": {
    "name": "ipython",
    "version": 3
   },
   "file_extension": ".py",
   "mimetype": "text/x-python",
   "name": "python",
   "nbconvert_exporter": "python",
   "pygments_lexer": "ipython3",
   "version": "3.10.12"
  }
 },
 "nbformat": 4,
 "nbformat_minor": 5
}
